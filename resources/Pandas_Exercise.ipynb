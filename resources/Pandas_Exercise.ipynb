{
  "cells": [
    {
      "cell_type": "markdown",
      "id": "87e766d8",
      "metadata": {
        "id": "87e766d8"
      },
      "source": [
        "# Exercise"
      ]
    },
    {
      "cell_type": "markdown",
      "id": "2c5fcf17",
      "metadata": {
        "id": "2c5fcf17"
      },
      "source": [
        "## Use this for the exercise"
      ]
    },
    {
      "cell_type": "code",
      "execution_count": 1,
      "id": "df762c19",
      "metadata": {
        "id": "df762c19"
      },
      "outputs": [],
      "source": [
        "import pandas as pd\n",
        "\n",
        "# Create a DataFrame from a dictionary\n",
        "data = {\n",
        "    'Name': ['John', 'Alice', 'Bob', 'Emily', 'David'],\n",
        "    'Age': [30, 25, 35, 28, 32],\n",
        "    'City': ['New York', 'Los Angeles', 'Chicago', 'Houston', 'San Francisco'],\n",
        "    'Gender': ['M', 'F', 'M', 'F', 'M']\n",
        "}\n",
        "df = pd.DataFrame(data)\n",
        "\n",
        "# Save DataFrame to a CSV file\n",
        "df.to_csv('data.csv', index=False)\n",
        "\n",
        "\n",
        "# Create a new DataFrame from a dictionary\n",
        "new_data = {\n",
        "    'Name': ['Michael', 'Sarah'],\n",
        "    'Age': [41, 40],\n",
        "    'City': ['Miami', 'Seattle'],\n",
        "    'Gender': ['M', 'F']\n",
        "}\n"
      ]
    },
    {
      "cell_type": "markdown",
      "id": "959af70b",
      "metadata": {
        "id": "959af70b"
      },
      "source": [
        "## Question 1:\n",
        "\n",
        "### How do you read a CSV file into a pandas DataFrame?"
      ]
    },
    {
      "cell_type": "code",
      "execution_count": 2,
      "id": "a997b0cb",
      "metadata": {},
      "outputs": [
        {
          "data": {
            "text/html": [
              "<div>\n",
              "<style scoped>\n",
              "    .dataframe tbody tr th:only-of-type {\n",
              "        vertical-align: middle;\n",
              "    }\n",
              "\n",
              "    .dataframe tbody tr th {\n",
              "        vertical-align: top;\n",
              "    }\n",
              "\n",
              "    .dataframe thead th {\n",
              "        text-align: right;\n",
              "    }\n",
              "</style>\n",
              "<table border=\"1\" class=\"dataframe\">\n",
              "  <thead>\n",
              "    <tr style=\"text-align: right;\">\n",
              "      <th></th>\n",
              "      <th>Name</th>\n",
              "      <th>Age</th>\n",
              "      <th>City</th>\n",
              "      <th>Gender</th>\n",
              "    </tr>\n",
              "  </thead>\n",
              "  <tbody>\n",
              "    <tr>\n",
              "      <th>0</th>\n",
              "      <td>John</td>\n",
              "      <td>30</td>\n",
              "      <td>New York</td>\n",
              "      <td>M</td>\n",
              "    </tr>\n",
              "    <tr>\n",
              "      <th>1</th>\n",
              "      <td>Alice</td>\n",
              "      <td>25</td>\n",
              "      <td>Los Angeles</td>\n",
              "      <td>F</td>\n",
              "    </tr>\n",
              "    <tr>\n",
              "      <th>2</th>\n",
              "      <td>Bob</td>\n",
              "      <td>35</td>\n",
              "      <td>Chicago</td>\n",
              "      <td>M</td>\n",
              "    </tr>\n",
              "    <tr>\n",
              "      <th>3</th>\n",
              "      <td>Emily</td>\n",
              "      <td>28</td>\n",
              "      <td>Houston</td>\n",
              "      <td>F</td>\n",
              "    </tr>\n",
              "    <tr>\n",
              "      <th>4</th>\n",
              "      <td>David</td>\n",
              "      <td>32</td>\n",
              "      <td>San Francisco</td>\n",
              "      <td>M</td>\n",
              "    </tr>\n",
              "  </tbody>\n",
              "</table>\n",
              "</div>"
            ],
            "text/plain": [
              "    Name  Age           City Gender\n",
              "0   John   30       New York      M\n",
              "1  Alice   25    Los Angeles      F\n",
              "2    Bob   35        Chicago      M\n",
              "3  Emily   28        Houston      F\n",
              "4  David   32  San Francisco      M"
            ]
          },
          "execution_count": 2,
          "metadata": {},
          "output_type": "execute_result"
        }
      ],
      "source": [
        "# using the read_csv method in a pandas dataframe object\n",
        "df_csv_read = pd.read_csv('data.csv')\n",
        "df"
      ]
    },
    {
      "cell_type": "markdown",
      "id": "46a6d2b5",
      "metadata": {
        "id": "46a6d2b5"
      },
      "source": [
        "## Question 2:\n",
        "\n",
        "### How do you select only specific columns from a DataFrame?"
      ]
    },
    {
      "cell_type": "code",
      "execution_count": 12,
      "id": "2ef0b001",
      "metadata": {},
      "outputs": [
        {
          "data": {
            "text/plain": [
              "0    30\n",
              "1    25\n",
              "2    35\n",
              "3    28\n",
              "4    32\n",
              "Name: Age, dtype: int64"
            ]
          },
          "execution_count": 12,
          "metadata": {},
          "output_type": "execute_result"
        }
      ],
      "source": [
        "# selecting specific columns in a dataframe using df[\"column_name\"]\n",
        "df_column_age = df[\"Age\"]\n",
        "df_column_age"
      ]
    },
    {
      "cell_type": "markdown",
      "id": "a914a692",
      "metadata": {
        "id": "a914a692"
      },
      "source": [
        "## Question 3:\n",
        "\n",
        "### How do you filter rows in a DataFrame based on a condition?"
      ]
    },
    {
      "cell_type": "code",
      "execution_count": 18,
      "id": "95da1c59",
      "metadata": {},
      "outputs": [
        {
          "data": {
            "text/html": [
              "<div>\n",
              "<style scoped>\n",
              "    .dataframe tbody tr th:only-of-type {\n",
              "        vertical-align: middle;\n",
              "    }\n",
              "\n",
              "    .dataframe tbody tr th {\n",
              "        vertical-align: top;\n",
              "    }\n",
              "\n",
              "    .dataframe thead th {\n",
              "        text-align: right;\n",
              "    }\n",
              "</style>\n",
              "<table border=\"1\" class=\"dataframe\">\n",
              "  <thead>\n",
              "    <tr style=\"text-align: right;\">\n",
              "      <th></th>\n",
              "      <th>Name</th>\n",
              "      <th>Age</th>\n",
              "      <th>City</th>\n",
              "      <th>Gender</th>\n",
              "    </tr>\n",
              "  </thead>\n",
              "  <tbody>\n",
              "    <tr>\n",
              "      <th>2</th>\n",
              "      <td>Bob</td>\n",
              "      <td>35</td>\n",
              "      <td>Chicago</td>\n",
              "      <td>M</td>\n",
              "    </tr>\n",
              "    <tr>\n",
              "      <th>4</th>\n",
              "      <td>David</td>\n",
              "      <td>32</td>\n",
              "      <td>San Francisco</td>\n",
              "      <td>M</td>\n",
              "    </tr>\n",
              "  </tbody>\n",
              "</table>\n",
              "</div>"
            ],
            "text/plain": [
              "    Name  Age           City Gender\n",
              "2    Bob   35        Chicago      M\n",
              "4  David   32  San Francisco      M"
            ]
          },
          "execution_count": 18,
          "metadata": {},
          "output_type": "execute_result"
        }
      ],
      "source": [
        "# filtering rows in a dataframe based on a condition such as greater than || less than\n",
        "filtered_row = df[df[\"Age\"] > 30]\n",
        "filtered_row "
      ]
    },
    {
      "cell_type": "markdown",
      "id": "f5fab782",
      "metadata": {
        "id": "f5fab782"
      },
      "source": [
        "## Question 4:\n",
        "\n",
        "### How do you drop missing values (NaN) from a DataFrame?"
      ]
    },
    {
      "cell_type": "code",
      "execution_count": 23,
      "id": "7815b2b2",
      "metadata": {},
      "outputs": [
        {
          "data": {
            "text/html": [
              "<div>\n",
              "<style scoped>\n",
              "    .dataframe tbody tr th:only-of-type {\n",
              "        vertical-align: middle;\n",
              "    }\n",
              "\n",
              "    .dataframe tbody tr th {\n",
              "        vertical-align: top;\n",
              "    }\n",
              "\n",
              "    .dataframe thead th {\n",
              "        text-align: right;\n",
              "    }\n",
              "</style>\n",
              "<table border=\"1\" class=\"dataframe\">\n",
              "  <thead>\n",
              "    <tr style=\"text-align: right;\">\n",
              "      <th></th>\n",
              "      <th>Name</th>\n",
              "      <th>Age</th>\n",
              "      <th>City</th>\n",
              "      <th>Gender</th>\n",
              "    </tr>\n",
              "  </thead>\n",
              "  <tbody>\n",
              "    <tr>\n",
              "      <th>0</th>\n",
              "      <td>John</td>\n",
              "      <td>30</td>\n",
              "      <td>New York</td>\n",
              "      <td>M</td>\n",
              "    </tr>\n",
              "    <tr>\n",
              "      <th>1</th>\n",
              "      <td>Alice</td>\n",
              "      <td>25</td>\n",
              "      <td>Los Angeles</td>\n",
              "      <td>F</td>\n",
              "    </tr>\n",
              "    <tr>\n",
              "      <th>2</th>\n",
              "      <td>Bob</td>\n",
              "      <td>35</td>\n",
              "      <td>Chicago</td>\n",
              "      <td>M</td>\n",
              "    </tr>\n",
              "    <tr>\n",
              "      <th>3</th>\n",
              "      <td>Emily</td>\n",
              "      <td>28</td>\n",
              "      <td>Houston</td>\n",
              "      <td>F</td>\n",
              "    </tr>\n",
              "    <tr>\n",
              "      <th>4</th>\n",
              "      <td>David</td>\n",
              "      <td>32</td>\n",
              "      <td>San Francisco</td>\n",
              "      <td>M</td>\n",
              "    </tr>\n",
              "  </tbody>\n",
              "</table>\n",
              "</div>"
            ],
            "text/plain": [
              "    Name  Age           City Gender\n",
              "0   John   30       New York      M\n",
              "1  Alice   25    Los Angeles      F\n",
              "2    Bob   35        Chicago      M\n",
              "3  Emily   28        Houston      F\n",
              "4  David   32  San Francisco      M"
            ]
          },
          "execution_count": 23,
          "metadata": {},
          "output_type": "execute_result"
        }
      ],
      "source": [
        "# using the drop na function\n",
        "drop_nan_values = df.dropna()\n",
        "drop_nan_values"
      ]
    },
    {
      "cell_type": "markdown",
      "id": "023a7b68",
      "metadata": {
        "id": "023a7b68"
      },
      "source": [
        "## Question 5:\n",
        "\n",
        "### How do you merge two DataFrames in pandas?"
      ]
    },
    {
      "cell_type": "code",
      "execution_count": 31,
      "id": "4b26cfe8",
      "metadata": {},
      "outputs": [
        {
          "ename": "TypeError",
          "evalue": "DataFrame.merge() got an unexpected keyword argument 'axis'",
          "output_type": "error",
          "traceback": [
            "\u001b[1;31m---------------------------------------------------------------------------\u001b[0m",
            "\u001b[1;31mTypeError\u001b[0m                                 Traceback (most recent call last)",
            "Cell \u001b[1;32mIn[31], line 5\u001b[0m\n\u001b[0;32m      3\u001b[0m new_data_dict2df \u001b[38;5;241m=\u001b[39m pd\u001b[38;5;241m.\u001b[39mDataFrame(new_data)\n\u001b[0;32m      4\u001b[0m new_data_dict2df\n\u001b[1;32m----> 5\u001b[0m merged \u001b[38;5;241m=\u001b[39m \u001b[43mdf\u001b[49m\u001b[38;5;241;43m.\u001b[39;49m\u001b[43mmerge\u001b[49m\u001b[43m(\u001b[49m\u001b[43mnew_data_dict2df\u001b[49m\u001b[43m,\u001b[49m\u001b[43m \u001b[49m\u001b[43mon\u001b[49m\u001b[38;5;241;43m=\u001b[39;49m\u001b[38;5;124;43m'\u001b[39;49m\u001b[38;5;124;43mName\u001b[39;49m\u001b[38;5;124;43m'\u001b[39;49m\u001b[43m,\u001b[49m\u001b[43m \u001b[49m\u001b[43maxis\u001b[49m\u001b[38;5;241;43m=\u001b[39;49m\u001b[38;5;241;43m0\u001b[39;49m\u001b[43m)\u001b[49m\n\u001b[0;32m      6\u001b[0m \u001b[38;5;66;03m# new_data_dict2df = pd.DataFrame(new_data)\u001b[39;00m\n\u001b[0;32m      7\u001b[0m \u001b[38;5;66;03m# mergerd_dataframes = df.merge(new_data_dict2df, on='Name', axis=0)\u001b[39;00m\n\u001b[0;32m      8\u001b[0m \u001b[38;5;66;03m# mergerd_dataframes\u001b[39;00m\n",
            "\u001b[1;31mTypeError\u001b[0m: DataFrame.merge() got an unexpected keyword argument 'axis'"
          ]
        }
      ],
      "source": [
        "# merging two dataframes in pandas \n",
        "# first i convert my new_data dict object to a dataframe using the pd.DataFrame method\n",
        "new_data_dict2df = pd.DataFrame(new_data)\n",
        "new_data_dict2df\n",
        "merged = df.merge(new_data_dict2df, on='Name', axis=1)\n",
        "# new_data_dict2df = pd.DataFrame(new_data)\n",
        "# mergerd_dataframes = df.merge(new_data_dict2df, on='Name', axis=0)\n",
        "# mergerd_dataframes"
      ]
    },
    {
      "cell_type": "markdown",
      "id": "f4f731c1",
      "metadata": {
        "id": "f4f731c1"
      },
      "source": [
        "## Question 6:\n",
        "\n",
        "### How do you create a new DataFrame from a dictionary?"
      ]
    },
    {
      "cell_type": "markdown",
      "id": "824ca2bf",
      "metadata": {
        "id": "824ca2bf"
      },
      "source": [
        "## Question 7:\n",
        "\n",
        "### How do you fill missing values in a DataFrame with a specific value?"
      ]
    },
    {
      "cell_type": "markdown",
      "id": "7513a3d9",
      "metadata": {
        "id": "7513a3d9"
      },
      "source": [
        "## Question 8:\n",
        "\n",
        "### How do you create a DataFrame from a CSV file with custom column names?"
      ]
    },
    {
      "cell_type": "markdown",
      "id": "547bbdf7",
      "metadata": {
        "id": "547bbdf7"
      },
      "source": [
        "## Question 9:\n",
        "\n",
        "### How do you merge two DataFrames based on multiple columns?"
      ]
    },
    {
      "cell_type": "markdown",
      "id": "8140274f",
      "metadata": {
        "id": "8140274f"
      },
      "source": [
        "## Question 10:\n",
        "\n",
        "### How do you perform an inner join between two DataFrames in pandas?"
      ]
    },
    {
      "cell_type": "markdown",
      "id": "1594821f",
      "metadata": {
        "id": "1594821f"
      },
      "source": [
        "## Question 11:\n",
        "\n",
        "### How do you perform a left join between two DataFrames in pandas?"
      ]
    },
    {
      "cell_type": "markdown",
      "id": "68564e7d",
      "metadata": {
        "id": "68564e7d"
      },
      "source": [
        "## Question 12:\n",
        "\n",
        "### How do you perform a right join between two DataFrames in pandas?"
      ]
    },
    {
      "cell_type": "markdown",
      "id": "a752ad1e",
      "metadata": {
        "id": "a752ad1e"
      },
      "source": [
        "## Question 13:\n",
        "\n",
        "### How do you concatenate two DataFrames vertically in pandas?"
      ]
    },
    {
      "cell_type": "markdown",
      "id": "dda2d090",
      "metadata": {
        "id": "dda2d090"
      },
      "source": [
        "## Question 14:\n",
        "\n",
        "### How do you concatenate two DataFrames horizontally in pandas?"
      ]
    },
    {
      "cell_type": "markdown",
      "id": "866e6770",
      "metadata": {
        "id": "866e6770"
      },
      "source": [
        "## Question 15:\n",
        "\n",
        "### How do you group data in a DataFrame based on a column using the groupby function in pandas?"
      ]
    },
    {
      "cell_type": "code",
      "execution_count": null,
      "id": "i3NctyHBKKxr",
      "metadata": {
        "id": "i3NctyHBKKxr"
      },
      "outputs": [],
      "source": [
        "#"
      ]
    }
  ],
  "metadata": {
    "colab": {
      "provenance": []
    },
    "kernelspec": {
      "display_name": "Python 3 (ipykernel)",
      "language": "python",
      "name": "python3"
    },
    "language_info": {
      "codemirror_mode": {
        "name": "ipython",
        "version": 3
      },
      "file_extension": ".py",
      "mimetype": "text/x-python",
      "name": "python",
      "nbconvert_exporter": "python",
      "pygments_lexer": "ipython3",
      "version": "3.11.8"
    }
  },
  "nbformat": 4,
  "nbformat_minor": 5
}

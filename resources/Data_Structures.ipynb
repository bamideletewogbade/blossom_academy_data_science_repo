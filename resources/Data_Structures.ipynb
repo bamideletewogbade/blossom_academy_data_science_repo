{
  "cells": [
    {
      "cell_type": "markdown",
      "id": "3c2e90df",
      "metadata": {
        "id": "3c2e90df"
      },
      "source": [
        "### Q1\n",
        "\n",
        "Name the four built-in data structures in python. Give one examples for each"
      ]
    },
    {
      "cell_type": "markdown",
      "source": [
        "**Solution**\n",
        "\n",
        "1. Lists:-\n",
        "fruits = ['apple', 'banana', 'cherry','apple','cherry']\n",
        "2. Sets:-\n",
        "data = {1, 2, 3, 'apple', 'banana'}\n",
        "3. Tuples:-\n",
        "data = (1, 2, 'one', 'three')\n",
        "4. Dictionaries:-\n",
        "data = {'name': 'John', 'age': 30, 'city': 'New York'}\n",
        "\n",
        "\n",
        "\n",
        "\n"
      ],
      "metadata": {
        "id": "2X6xeDM-WLE7"
      },
      "id": "2X6xeDM-WLE7"
    },
    {
      "cell_type": "markdown",
      "id": "b6e1dd1b",
      "metadata": {
        "id": "b6e1dd1b"
      },
      "source": [
        "### Q2\n",
        "\n",
        "State two differences between a list and a tuple in Python.\n",
        "- Mutability: A list can be modified after its creation whereas a tuple can not be modified after its creation.\n",
        "- Syntax: A list uses square brackets [] while tuples use parenthenses ()\n",
        "\n",
        "\n",
        "\n"
      ]
    },
    {
      "cell_type": "markdown",
      "source": [],
      "metadata": {
        "id": "zgRMSLGZXmMa"
      },
      "id": "zgRMSLGZXmMa"
    },
    {
      "cell_type": "markdown",
      "id": "815b4e67",
      "metadata": {
        "id": "815b4e67"
      },
      "source": [
        "### Q3\n",
        "Make a list containing names of five animals with a variable name `animal_list`\n",
        "\n",
        "Write a code for the following:\n",
        "- Print the first two animals\n",
        "- Print the last two animals\n",
        "- Add three extra animals to the variable `animal_list`\n",
        "- Remove the first two animals from the variable `animal_list`\n",
        "- How many animals are in the `animal_list`?\n",
        "- Create a variable animal_set which stores the set of animal_list\n",
        "- How many elements are in the animal_set?\n"
      ]
    },
    {
      "cell_type": "code",
      "source": [
        "animal_list = ['dog', 'lion', 'goat', 'pig', 'fowl']\n",
        "print(animal_list[0:2])\n",
        "print(animal_list[-2:])\n",
        "animal_list.append('monkey')\n",
        "animal_list.append('gorilla')\n",
        "animal_list.append('cow')\n",
        "print(animal_list)\n",
        "new_list = animal_list[2:]\n",
        "print(new_list)\n",
        "print(len(new_list))\n",
        "animal_set = set(new_list)\n",
        "print(animal_set)\n",
        "print(len(animal_set))"
      ],
      "metadata": {
        "colab": {
          "base_uri": "https://localhost:8080/"
        },
        "id": "C2rArjSNZ7_0",
        "outputId": "5686b64c-69fd-4fd2-9a2d-b268cc30a48e"
      },
      "id": "C2rArjSNZ7_0",
      "execution_count": 12,
      "outputs": [
        {
          "output_type": "stream",
          "name": "stdout",
          "text": [
            "['dog', 'lion']\n",
            "['pig', 'fowl']\n",
            "['dog', 'lion', 'goat', 'pig', 'fowl', 'monkey', 'gorilla', 'cow']\n",
            "['goat', 'pig', 'fowl', 'monkey', 'gorilla', 'cow']\n",
            "6\n",
            "{'cow', 'monkey', 'fowl', 'goat', 'gorilla', 'pig'}\n",
            "6\n"
          ]
        }
      ]
    },
    {
      "cell_type": "markdown",
      "id": "113c9970",
      "metadata": {
        "id": "113c9970"
      },
      "source": [
        "### Q4\n",
        "\n",
        "Given a list:\n",
        "\n",
        "suitcase = [\"sunglasses\", \"hat\", \"passport\", \"laptop\", \"suit\", \"shoes\"]\n",
        "\n",
        "a. Create a list called first containing only the two first items from suitcase.\n",
        "\n",
        "b. Create a list called middle containing only the two middle items from suitcase.\n",
        "\n",
        "c. Create a list called last made up only of the last two items from suitcase."
      ]
    },
    {
      "cell_type": "code",
      "source": [
        "first = []\n",
        "suitcase = [\"sunglasses\", \"hat\", \"passport\", \"laptop\", \"suit\", \"shoes\"]\n",
        "\n",
        "for i in range(0,3):\n",
        "  val = suitcase[i]\n",
        "  first.append(val)\n",
        "\n",
        "print(first)\n"
      ],
      "metadata": {
        "colab": {
          "base_uri": "https://localhost:8080/"
        },
        "id": "SuNZvJnRdJk4",
        "outputId": "4bf4b450-e836-414f-9be5-1bdb4763d87e"
      },
      "id": "SuNZvJnRdJk4",
      "execution_count": 17,
      "outputs": [
        {
          "output_type": "stream",
          "name": "stdout",
          "text": [
            "['sunglasses', 'hat', 'passport']\n"
          ]
        }
      ]
    },
    {
      "cell_type": "markdown",
      "id": "711ba044",
      "metadata": {
        "id": "711ba044"
      },
      "source": [
        "### Q5\n",
        "Write a python code to insert 35 into the list below. Make sure it is inserted in the right position to maintain the order of the data.\n",
        "\n",
        "`values = [20,25,30,40,45,50,55,60,65,70]`"
      ]
    },
    {
      "cell_type": "code",
      "source": [
        "values = [20, 25, 30, 40, 45, 50, 55, 60, 65, 70]\n",
        "index_to_insert = 0\n",
        "for i in range(len(values)):\n",
        "    if values[i] > 35:\n",
        "        index_to_insert = i\n",
        "        break\n",
        "values.insert(index_to_insert, 35)\n",
        "\n",
        "print(values)\n",
        "\n",
        "\n",
        "\n",
        "\n"
      ],
      "metadata": {
        "colab": {
          "base_uri": "https://localhost:8080/"
        },
        "id": "ivI-Tv3Heabg",
        "outputId": "3f15f3a3-ac66-45f2-c370-8d9c2972946a"
      },
      "id": "ivI-Tv3Heabg",
      "execution_count": 18,
      "outputs": [
        {
          "output_type": "stream",
          "name": "stdout",
          "text": [
            "[20, 25, 30, 35, 40, 45, 50, 55, 60, 65, 70]\n"
          ]
        }
      ]
    },
    {
      "cell_type": "markdown",
      "id": "f535cf64",
      "metadata": {
        "id": "f535cf64"
      },
      "source": [
        "### Q6\n",
        "\n",
        "Given that Python lists and Python tuples are quite similar – when might you prefer to use a tuple over a list?"
      ]
    },
    {
      "cell_type": "markdown",
      "source": [
        "\n",
        "A tuple is preferable over a list when the data you are working with is immutable. i.e data won't be modified after its creation.\n",
        "\n",
        "Also if the data is not large and it's immutable for better performance a tuple is more desired.\n"
      ],
      "metadata": {
        "id": "qrYz5ZdMgCRl"
      },
      "id": "qrYz5ZdMgCRl"
    },
    {
      "cell_type": "markdown",
      "id": "346927f6",
      "metadata": {
        "id": "346927f6"
      },
      "source": [
        "### Q7\n",
        "Create a dictionary with 5 Ghana regions and their capitals and store it in the variable `region_capital`\n",
        "\n",
        "- Print out the keys of region_capital\n",
        "- Print out the values of region_capital\n"
      ]
    },
    {
      "cell_type": "code",
      "source": [
        "region_capital = {\n",
        "    'Greater Accra': 'Accra',\n",
        "    'Ashanti': 'Kumasi',\n",
        "    'Western': 'Sekondi-Takoradi',\n",
        "    'Eastern': 'Koforidua',\n",
        "    'Central': 'Cape Coast'\n",
        "}\n",
        "\n",
        "print(\"Regions:\")\n",
        "for region in region_capital.keys():\n",
        "    print(region)\n",
        "\n",
        "\n",
        "print(\"\\nCapitals:\")\n",
        "for capital in region_capital.values():\n",
        "    print(capital)\n"
      ],
      "metadata": {
        "colab": {
          "base_uri": "https://localhost:8080/"
        },
        "id": "zGGSNqh1gzPf",
        "outputId": "9521a9cd-970e-4c77-d393-f996c647c3da"
      },
      "id": "zGGSNqh1gzPf",
      "execution_count": 19,
      "outputs": [
        {
          "output_type": "stream",
          "name": "stdout",
          "text": [
            "Regions:\n",
            "Greater Accra\n",
            "Ashanti\n",
            "Western\n",
            "Eastern\n",
            "Central\n",
            "\n",
            "Capitals:\n",
            "Accra\n",
            "Kumasi\n",
            "Sekondi-Takoradi\n",
            "Koforidua\n",
            "Cape Coast\n"
          ]
        }
      ]
    },
    {
      "cell_type": "markdown",
      "id": "70526b3b",
      "metadata": {
        "id": "70526b3b"
      },
      "source": [
        "### Q8\n",
        "\n",
        "`values = [3,4,5,6,3,4,3,5,2,4,2,5,6,1,6]`\n",
        "\n",
        "Using the codes above answer the following questions:\n",
        "- What is the total number of elements in values?\n",
        "- What is the highest occuring number in the values variable?\n",
        "- Convert values into a set and store it into a variable named `values_set`\n",
        "- How many elements are in the variable values_set?\n"
      ]
    },
    {
      "cell_type": "code",
      "source": [
        "values = [3,4,5,6,3,4,3,5,2,4,2,5,6,1,6]\n",
        "\n",
        "print(f\"total number of values is {len(values)}\")\n",
        "\n",
        "print(f\"max value is {max(values)}\")"
      ],
      "metadata": {
        "colab": {
          "base_uri": "https://localhost:8080/"
        },
        "id": "ZwaJWrMAjXDz",
        "outputId": "f2d5726a-458a-4e9c-b7cb-7ad4805de5c1"
      },
      "id": "ZwaJWrMAjXDz",
      "execution_count": 24,
      "outputs": [
        {
          "output_type": "stream",
          "name": "stdout",
          "text": [
            "total number of values is 15\n",
            "max value is 6\n"
          ]
        }
      ]
    },
    {
      "cell_type": "markdown",
      "id": "801d5876",
      "metadata": {
        "id": "801d5876"
      },
      "source": [
        "### Q9\n",
        "Write a Python script to print a dictionary where the keys are numbers between 1 and 15 (both included) and the values are the square of the keys."
      ]
    },
    {
      "cell_type": "code",
      "source": [
        "square_dict = {num: num ** 2 for num in range(1, 16)}\n",
        "print(square_dict)\n"
      ],
      "metadata": {
        "colab": {
          "base_uri": "https://localhost:8080/"
        },
        "id": "dOMRE-L9kQwE",
        "outputId": "0fbeb51b-0316-41bf-e10d-4e071b9a5026"
      },
      "id": "dOMRE-L9kQwE",
      "execution_count": 25,
      "outputs": [
        {
          "output_type": "stream",
          "name": "stdout",
          "text": [
            "{1: 1, 2: 4, 3: 9, 4: 16, 5: 25, 6: 36, 7: 49, 8: 64, 9: 81, 10: 100, 11: 121, 12: 144, 13: 169, 14: 196, 15: 225}\n"
          ]
        }
      ]
    },
    {
      "cell_type": "markdown",
      "id": "18954e57",
      "metadata": {
        "id": "18954e57"
      },
      "source": [
        "### Q10\n",
        "Write a Python program to create a dictionary of keys x, y, and z where each key has as value a list from 11-20, 21-30, and 31-40 respectively. Access the fifth value of each key from the dictionary."
      ]
    },
    {
      "cell_type": "code",
      "execution_count": 26,
      "id": "fec19820",
      "metadata": {
        "colab": {
          "base_uri": "https://localhost:8080/"
        },
        "id": "fec19820",
        "outputId": "c808d301-15fb-429e-c199-064a7f17421f"
      },
      "outputs": [
        {
          "output_type": "stream",
          "name": "stdout",
          "text": [
            "Fifth value of key 'x': 15\n",
            "Fifth value of key 'y': 25\n",
            "Fifth value of key 'z': 35\n"
          ]
        }
      ],
      "source": [
        "my_dict = {'x': list(range(11, 21)),\n",
        "           'y': list(range(21, 31)),\n",
        "           'z': list(range(31, 41))}\n",
        "\n",
        "fifth_value_x = my_dict['x'][4]\n",
        "fifth_value_y = my_dict['y'][4]\n",
        "fifth_value_z = my_dict['z'][4]\n",
        "\n",
        "print(\"Fifth value of key 'x':\", fifth_value_x)\n",
        "print(\"Fifth value of key 'y':\", fifth_value_y)\n",
        "print(\"Fifth value of key 'z':\", fifth_value_z)"
      ]
    }
  ],
  "metadata": {
    "kernelspec": {
      "display_name": "Python 3 (ipykernel)",
      "language": "python",
      "name": "python3"
    },
    "language_info": {
      "codemirror_mode": {
        "name": "ipython",
        "version": 3
      },
      "file_extension": ".py",
      "mimetype": "text/x-python",
      "name": "python",
      "nbconvert_exporter": "python",
      "pygments_lexer": "ipython3",
      "version": "3.10.9"
    },
    "colab": {
      "provenance": []
    }
  },
  "nbformat": 4,
  "nbformat_minor": 5
}
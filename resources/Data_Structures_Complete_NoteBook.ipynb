{
  "cells": [
    {
      "cell_type": "markdown",
      "id": "25c1555c",
      "metadata": {
        "id": "25c1555c"
      },
      "source": [
        "## Data Structures Part 1: Lists, Tuples\n"
      ]
    },
    {
      "cell_type": "markdown",
      "id": "234408f2",
      "metadata": {
        "id": "234408f2"
      },
      "source": [
        "## Lists\n",
        "\n",
        "#### Lists are ordered collections of items in Python. They are mutable, meaning their elements can be modified after creation.\n",
        "#### Lists are created using square brackets [] or the list() constructor.\n",
        "\n",
        "### Example:\n",
        "\n",
        "#### my_list = [1, 2, 3, 4, 5]\n",
        "\n",
        "### Methods:\n",
        "\n",
        "#### append(): Adds an element to the end of the list.\n",
        "#### extend(): Extends the list by appending elements from another list.\n",
        "#### insert(): Inserts an element at a specified position.\n",
        "#### remove(): Removes the first occurrence of a specified value.\n",
        "#### pop(): Removes and returns the element at a specified position (default is the last element).\n",
        "#### index(): Returns the index of the first occurrence of a specified value.\n",
        "#### count(): Returns the number of occurrences of a specified value.\n",
        "#### sort(): Sorts the list in ascending order.\n",
        "#### reverse(): Reverses the order of elements in the list.\n"
      ]
    },
    {
      "cell_type": "code",
      "execution_count": 2,
      "id": "125652ef",
      "metadata": {
        "id": "125652ef"
      },
      "outputs": [],
      "source": [
        "# Creating a list\n",
        "my_list = [1, 2, 3, 4, 5]\n",
        "\n",
        "\n",
        "\n",
        "\n",
        "\n"
      ]
    },
    {
      "cell_type": "code",
      "execution_count": 3,
      "id": "e582ff0c",
      "metadata": {
        "id": "e582ff0c",
        "outputId": "bdecd3e6-dc7b-437c-e6b3-f1c7ac775b8e"
      },
      "outputs": [
        {
          "name": "stdout",
          "output_type": "stream",
          "text": [
            "[1, 2, 3, 4, 5, 6]\n"
          ]
        }
      ],
      "source": [
        "#append()\n",
        "my_list.append(6)\n",
        "print(my_list)"
      ]
    },
    {
      "cell_type": "code",
      "execution_count": 4,
      "id": "3378a9ff",
      "metadata": {
        "id": "3378a9ff",
        "outputId": "6be2e495-ad0a-40cf-e772-8f2e02559348"
      },
      "outputs": [
        {
          "name": "stdout",
          "output_type": "stream",
          "text": [
            "[1, 2, 3, 4, 5, 6, 7, 8, 9]\n"
          ]
        }
      ],
      "source": [
        "#extend()\n",
        "list_to_extend = [7,8,9]\n",
        "my_list.extend(list_to_extend)\n",
        "print(my_list)"
      ]
    },
    {
      "cell_type": "code",
      "execution_count": null,
      "id": "a1432c91",
      "metadata": {
        "id": "a1432c91",
        "outputId": "ccb13177-871d-4668-f2ff-f2bb2a9db89c"
      },
      "outputs": [
        {
          "name": "stdout",
          "output_type": "stream",
          "text": [
            "[1, 2, 10, 3, 4, 5, 6, 7, 8, 9]\n"
          ]
        }
      ],
      "source": [
        "#insert()\n",
        "my_list.insert(2,10)\n",
        "print(my_list)"
      ]
    },
    {
      "cell_type": "code",
      "execution_count": null,
      "id": "6486b048",
      "metadata": {
        "id": "6486b048",
        "outputId": "1b99de7e-8471-44f5-ef0b-d5119c552728"
      },
      "outputs": [
        {
          "name": "stdout",
          "output_type": "stream",
          "text": [
            "[1, 2, 10, 4, 5, 6, 7, 8, 9]\n"
          ]
        }
      ],
      "source": [
        "#remove()\n",
        "my_list.remove(3)\n",
        "print(my_list)"
      ]
    },
    {
      "cell_type": "code",
      "execution_count": null,
      "id": "a96344ca",
      "metadata": {
        "id": "a96344ca",
        "outputId": "edd77eaa-94df-402b-8119-20f02699cb85"
      },
      "outputs": [
        {
          "name": "stdout",
          "output_type": "stream",
          "text": [
            "4\n",
            "[1, 2, 10, 5, 6, 7, 8, 9]\n"
          ]
        }
      ],
      "source": [
        "#pop()\n",
        "popped_element = my_list.pop(3)\n",
        "print(popped_element)\n",
        "print(my_list)\n"
      ]
    },
    {
      "cell_type": "code",
      "execution_count": null,
      "id": "afa45383",
      "metadata": {
        "id": "afa45383",
        "outputId": "fe18acd6-c96c-4efb-8462-9192e47b9803"
      },
      "outputs": [
        {
          "name": "stdout",
          "output_type": "stream",
          "text": [
            "3\n"
          ]
        }
      ],
      "source": [
        "#index()\n",
        "index = my_list.index(5)\n",
        "print(index)"
      ]
    },
    {
      "cell_type": "code",
      "execution_count": null,
      "id": "6814e3b5",
      "metadata": {
        "id": "6814e3b5",
        "outputId": "32892de5-5a72-41a4-d345-f3de4627a977"
      },
      "outputs": [
        {
          "name": "stdout",
          "output_type": "stream",
          "text": [
            "1\n"
          ]
        }
      ],
      "source": [
        "#count()\n",
        "count = my_list.count(10)\n",
        "print(count)"
      ]
    },
    {
      "cell_type": "code",
      "execution_count": null,
      "id": "7a39d1b0",
      "metadata": {
        "id": "7a39d1b0",
        "outputId": "b4448f05-b1b6-4de3-8b10-f6fad7e51b13"
      },
      "outputs": [
        {
          "name": "stdout",
          "output_type": "stream",
          "text": [
            "[1, 2, 10, 5, 6, 7, 8, 9]\n"
          ]
        }
      ],
      "source": [
        "print(my_list)"
      ]
    },
    {
      "cell_type": "code",
      "execution_count": null,
      "id": "e1a6549f",
      "metadata": {
        "id": "e1a6549f",
        "outputId": "c6f9ebae-8ab6-46ab-feed-094fa5be6986"
      },
      "outputs": [
        {
          "name": "stdout",
          "output_type": "stream",
          "text": [
            "[1, 2, 5, 6, 7, 8, 9, 10]\n"
          ]
        }
      ],
      "source": [
        "#sort()\n",
        "my_list.sort()\n",
        "print(my_list)"
      ]
    },
    {
      "cell_type": "code",
      "execution_count": null,
      "id": "4f5dd1ff",
      "metadata": {
        "id": "4f5dd1ff",
        "outputId": "f45c309c-0a09-41d5-fbaa-d94c8da9cd53"
      },
      "outputs": [
        {
          "name": "stdout",
          "output_type": "stream",
          "text": [
            "[10, 9, 8, 7, 6, 5, 2, 1]\n"
          ]
        }
      ],
      "source": [
        "#reverse()\n",
        "my_list.reverse()\n",
        "print(my_list)"
      ]
    },
    {
      "cell_type": "markdown",
      "id": "2954c379",
      "metadata": {
        "id": "2954c379"
      },
      "source": [
        "### To reverse:\n",
        "    Sort first\n",
        "    then reverse"
      ]
    },
    {
      "cell_type": "code",
      "execution_count": null,
      "id": "ab6b8450",
      "metadata": {
        "id": "ab6b8450"
      },
      "outputs": [],
      "source": [
        "my_list1 = [2,4,1,3,6,5,7]\n",
        "my_list1.sort()\n",
        "my_list1.reverse()"
      ]
    },
    {
      "cell_type": "code",
      "execution_count": null,
      "id": "0dcfacf9",
      "metadata": {
        "id": "0dcfacf9",
        "outputId": "9bce457b-e16a-42ee-d0fc-eb7893fcfc6f"
      },
      "outputs": [
        {
          "name": "stdout",
          "output_type": "stream",
          "text": [
            "[7, 6, 5, 4, 3, 2, 1]\n"
          ]
        }
      ],
      "source": [
        "print(my_list1)"
      ]
    },
    {
      "cell_type": "code",
      "execution_count": null,
      "id": "48d523f0",
      "metadata": {
        "id": "48d523f0",
        "outputId": "bb6235c0-11e2-4929-83cf-3df68968498d"
      },
      "outputs": [
        {
          "name": "stdout",
          "output_type": "stream",
          "text": [
            "[1, 2, 3, 4, 5, 6, 7]\n"
          ]
        }
      ],
      "source": [
        "#sorted()\n",
        "my_list1 = [2,4,1,3,6,5,7]\n",
        "my_list2 = sorted(my_list1)\n",
        "print(my_list2)\n"
      ]
    },
    {
      "cell_type": "markdown",
      "id": "74790a8e",
      "metadata": {
        "id": "74790a8e"
      },
      "source": [
        "## Tuples\n",
        "\n",
        "#### Tuples are ordered collections of items, similar to lists, but they are immutable, meaning their elements cannot be changed after creation.\n",
        "#### Tuples are created using parentheses () or the tuple() constructor.\n",
        "### Example:\n",
        "#### my_tuple = (1, 2, 3, 4, 5)\n",
        "### Methods:\n",
        "#### Tuples have fewer methods compared to lists since they are immutable. They include methods like count() and index() similar to lists.\n",
        "\n"
      ]
    },
    {
      "cell_type": "code",
      "execution_count": null,
      "id": "ba76efe7",
      "metadata": {
        "id": "ba76efe7"
      },
      "outputs": [],
      "source": [
        "#Example:\n",
        "# Creating a tuple\n",
        "my_tuple = (1, 2, 3, 4, 5)\n",
        "\n"
      ]
    },
    {
      "cell_type": "code",
      "execution_count": null,
      "id": "67c671c1",
      "metadata": {
        "id": "67c671c1",
        "outputId": "4e1a9713-0fc7-4e19-8d60-9bbdceb325e5"
      },
      "outputs": [
        {
          "name": "stdout",
          "output_type": "stream",
          "text": [
            "1\n"
          ]
        }
      ],
      "source": [
        "# count()\n",
        "count = my_tuple.count(3)  # Returns the number of occurrences of 3\n",
        "print(count)  # Output: 1\n",
        "\n"
      ]
    },
    {
      "cell_type": "code",
      "execution_count": null,
      "id": "d13d55b0",
      "metadata": {
        "id": "d13d55b0",
        "outputId": "0b66ebf7-f6ad-4b2f-cd2c-3b9d26a5018e"
      },
      "outputs": [
        {
          "name": "stdout",
          "output_type": "stream",
          "text": [
            "3\n"
          ]
        }
      ],
      "source": [
        "# index()\n",
        "index = my_tuple.index(4)  # Returns the index of the first occurrence of 4\n",
        "print(index)  # Output: 3\n"
      ]
    },
    {
      "cell_type": "markdown",
      "id": "0c74a0d5",
      "metadata": {
        "id": "0c74a0d5"
      },
      "source": [
        "## Data Structures Part 2: Dictionaries,Sets\n"
      ]
    },
    {
      "cell_type": "markdown",
      "id": "4acda377",
      "metadata": {
        "id": "4acda377"
      },
      "source": [
        "## Dictionaries\n",
        "\n",
        "#### Dictionaries are unordered collections of key-value pairs. They are mutable and are useful for storing data in the form of key-#### value mappings.\n",
        "#### Dictionaries are created using curly braces {} or the dict() constructor.\n",
        "\n",
        "### Example:\n",
        "\n",
        "#### my_dict = {\"name\": \"John\", \"age\": 30, \"city\": \"New York\"}\n",
        "\n",
        "### Methods:\n",
        "\n",
        "#### clear(): Removes all key-value pairs from the dictionary.\n",
        "#### copy(): Returns a shallow copy of the dictionary.\n",
        "#### get(): Returns the value for a specified key.\n",
        "#### items(): Returns a view object containing key-value pairs.\n",
        "#### keys(): Returns a view object containing the keys.\n",
        "#### values(): Returns a view object containing the values.\n",
        "#### pop(): Removes the item with the specified key and returns its value.\n",
        "#### popitem(): Removes and returns an arbitrary key-value pair.\n",
        "#### update(): Updates the dictionary with the specified key-value pairs from another dictionary or iterable.\n",
        "\n",
        "\n"
      ]
    },
    {
      "cell_type": "code",
      "execution_count": null,
      "id": "a6fb96da",
      "metadata": {
        "id": "a6fb96da"
      },
      "outputs": [],
      "source": [
        "# Creating a dictionary\n",
        "my_dict = {\"name\": \"John\", \"age\": 30, \"city\": \"New York\"}\n",
        "\n",
        "\n",
        "\n",
        "\n",
        "\n",
        "\n"
      ]
    },
    {
      "cell_type": "code",
      "execution_count": null,
      "id": "7942f5ab",
      "metadata": {
        "id": "7942f5ab",
        "outputId": "2aa1fb26-bf09-4aff-f34d-d8a2d43d9285"
      },
      "outputs": [
        {
          "name": "stdout",
          "output_type": "stream",
          "text": [
            "30\n"
          ]
        }
      ],
      "source": [
        "#get()\n",
        "age = my_dict.get('age')\n",
        "print(age)"
      ]
    },
    {
      "cell_type": "code",
      "execution_count": null,
      "id": "0bb6e890",
      "metadata": {
        "id": "0bb6e890",
        "outputId": "679fba06-e973-4d58-b7da-6bdb59ebca9d"
      },
      "outputs": [
        {
          "name": "stdout",
          "output_type": "stream",
          "text": [
            "30\n"
          ]
        }
      ],
      "source": [
        "#indexing\n",
        "age = my_dict['age']\n",
        "print(age)"
      ]
    },
    {
      "cell_type": "code",
      "execution_count": null,
      "id": "f5397554",
      "metadata": {
        "id": "f5397554",
        "outputId": "b28032dc-b082-4d8e-e28d-daa6937abf89"
      },
      "outputs": [
        {
          "name": "stdout",
          "output_type": "stream",
          "text": [
            "dict_items([('name', 'John'), ('age', 30), ('city', 'New York')])\n"
          ]
        }
      ],
      "source": [
        "#items()\n",
        "items = my_dict.items()\n",
        "print(items)"
      ]
    },
    {
      "cell_type": "code",
      "execution_count": null,
      "id": "a1665a0a",
      "metadata": {
        "id": "a1665a0a",
        "outputId": "f0c8cebf-a7d8-45f8-c7cd-66a48c2d1aba"
      },
      "outputs": [
        {
          "name": "stdout",
          "output_type": "stream",
          "text": [
            "dict_keys(['name', 'age', 'city'])\n"
          ]
        }
      ],
      "source": [
        "#keys()\n",
        "keys = my_dict.keys()\n",
        "print(keys)"
      ]
    },
    {
      "cell_type": "code",
      "execution_count": null,
      "id": "e95221e2",
      "metadata": {
        "id": "e95221e2",
        "outputId": "f30af8eb-cece-4e7c-bb33-46a1c77af532"
      },
      "outputs": [
        {
          "name": "stdout",
          "output_type": "stream",
          "text": [
            "dict_values(['John', 30, 'New York'])\n"
          ]
        }
      ],
      "source": [
        "#values()\n",
        "values = my_dict.values()\n",
        "print(values)"
      ]
    },
    {
      "cell_type": "code",
      "execution_count": null,
      "id": "fd89c9a4",
      "metadata": {
        "id": "fd89c9a4",
        "outputId": "650e4ca6-2032-4d86-e360-d361cd8459b5"
      },
      "outputs": [
        {
          "name": "stdout",
          "output_type": "stream",
          "text": [
            "{'name': 'John', 'age': 30, 'city': 'New York'}\n"
          ]
        }
      ],
      "source": [
        "print(my_dict)"
      ]
    },
    {
      "cell_type": "code",
      "execution_count": null,
      "id": "421b161f",
      "metadata": {
        "id": "421b161f",
        "outputId": "a9336b64-1590-49d7-9705-fcc86d17808d"
      },
      "outputs": [
        {
          "name": "stdout",
          "output_type": "stream",
          "text": [
            "{'name': 'John', 'age': 35, 'city': 'New York', 'gender': 'Male'}\n"
          ]
        }
      ],
      "source": [
        "#update()\n",
        "my_dict.update({'age':35,'gender':'Male'})\n",
        "print(my_dict)"
      ]
    },
    {
      "cell_type": "markdown",
      "id": "1121143a",
      "metadata": {
        "id": "1121143a"
      },
      "source": [
        "## Sets\n",
        "\n",
        "#### Sets are unordered collections of unique elements in Python. They are mutable, but their elements must be immutable (e.g., integers, strings).\n",
        "#### Sets are created using curly braces {} or the set() constructor.\n",
        "\n",
        "### Example:\n",
        "#### my_set = {1, 2, 3, 4, 5}\n",
        "\n",
        "### Methods:\n",
        "#### add(): Adds an element to the set.\n",
        "#### update(): Updates the set with elements from another set or iterable.\n",
        "#### remove(): Removes a specified element from the set.\n",
        "#### discard(): Removes a specified element from the set if it is present.\n",
        "#### pop(): Removes and returns an arbitrary element from the set.\n",
        "#### clear(): Removes all elements from the set.\n",
        "#### union(): Returns a new set containing the union of two sets.\n",
        "#### intersection(): Returns a new set containing the intersection of two sets.\n",
        "#### difference(): Returns a new set containing the difference between two sets.\n",
        "#### symmetric_difference(): Returns a new set containing the symmetric difference between two sets.\n"
      ]
    },
    {
      "cell_type": "code",
      "execution_count": null,
      "id": "c4845ad8",
      "metadata": {
        "id": "c4845ad8"
      },
      "outputs": [],
      "source": [
        "# Creating a set\n",
        "my_set = {1, 2, 3, 4, 5}\n",
        "\n",
        "\n",
        "\n",
        "\n",
        "\n",
        "\n",
        "\n",
        "\n",
        "\n",
        "\n"
      ]
    },
    {
      "cell_type": "code",
      "execution_count": null,
      "id": "8241fb43",
      "metadata": {
        "id": "8241fb43",
        "outputId": "1e5ceba4-a62d-497a-9014-314d5f3afdff"
      },
      "outputs": [
        {
          "name": "stdout",
          "output_type": "stream",
          "text": [
            "{1, 2, 3, 4, 5, 6}\n"
          ]
        }
      ],
      "source": [
        "#add()\n",
        "my_set.add(6)\n",
        "print(my_set)"
      ]
    },
    {
      "cell_type": "code",
      "execution_count": null,
      "id": "fa150418",
      "metadata": {
        "id": "fa150418",
        "outputId": "1da9865c-73e5-48bf-f9c3-01677aa40057"
      },
      "outputs": [
        {
          "name": "stdout",
          "output_type": "stream",
          "text": [
            "{1, 2, 3, 4, 5, 6, 7, 8, 9}\n"
          ]
        }
      ],
      "source": [
        "#update\n",
        "my_set.update({7,8,9})\n",
        "print(my_set)"
      ]
    },
    {
      "cell_type": "code",
      "execution_count": null,
      "id": "7f8e4a09",
      "metadata": {
        "id": "7f8e4a09",
        "outputId": "6ead538d-0e70-4bfb-d45b-0e02e41118ca"
      },
      "outputs": [
        {
          "name": "stdout",
          "output_type": "stream",
          "text": [
            "{1, 2, 4, 5, 6, 7, 8, 9}\n"
          ]
        }
      ],
      "source": [
        "#remove()\n",
        "my_set.remove(3)\n",
        "print(my_set)"
      ]
    },
    {
      "cell_type": "code",
      "execution_count": null,
      "id": "5a2c51ac",
      "metadata": {
        "id": "5a2c51ac",
        "outputId": "517f68dd-09e2-46d2-99b7-13a9158ee702"
      },
      "outputs": [
        {
          "name": "stdout",
          "output_type": "stream",
          "text": [
            "{1, 2, 4, 6, 7, 8, 9}\n"
          ]
        }
      ],
      "source": [
        "#discard()\n",
        "my_set.discard(5)\n",
        "print(my_set)"
      ]
    },
    {
      "cell_type": "code",
      "execution_count": null,
      "id": "891c9298",
      "metadata": {
        "id": "891c9298",
        "outputId": "0554e92a-eac6-4621-8eb4-d376ed8e477f"
      },
      "outputs": [
        {
          "name": "stdout",
          "output_type": "stream",
          "text": [
            "1\n"
          ]
        }
      ],
      "source": [
        "#pop\n",
        "popped_element = my_set.pop()\n",
        "print(popped_element)"
      ]
    },
    {
      "cell_type": "code",
      "execution_count": null,
      "id": "b4932d0c",
      "metadata": {
        "id": "b4932d0c",
        "outputId": "fab98d26-22dc-493b-86b4-6b7d6d54724e"
      },
      "outputs": [
        {
          "name": "stdout",
          "output_type": "stream",
          "text": [
            "set()\n"
          ]
        }
      ],
      "source": [
        "#clear()\n",
        "my_set.clear()\n",
        "print(my_set)"
      ]
    },
    {
      "cell_type": "code",
      "execution_count": null,
      "id": "6c3e5113",
      "metadata": {
        "id": "6c3e5113"
      },
      "outputs": [],
      "source": [
        "# Creating sets for methods demonstration\n",
        "set1 = {1, 2, 3}\n",
        "set2 = {3, 4, 5}\n",
        "\n",
        "\n",
        "\n",
        "\n",
        "\n"
      ]
    },
    {
      "cell_type": "code",
      "execution_count": null,
      "id": "5fa7d57b",
      "metadata": {
        "id": "5fa7d57b",
        "outputId": "a3350824-a10d-4350-b56c-2e5e80d4337f"
      },
      "outputs": [
        {
          "name": "stdout",
          "output_type": "stream",
          "text": [
            "{1, 2, 3, 4, 5}\n"
          ]
        }
      ],
      "source": [
        "#union()\n",
        "union_set = set1.union(set2)\n",
        "print(union_set)"
      ]
    },
    {
      "cell_type": "code",
      "execution_count": null,
      "id": "f3c80ca8",
      "metadata": {
        "id": "f3c80ca8",
        "outputId": "8a7430cb-55b1-4b93-c3fb-ebedf2492ba6"
      },
      "outputs": [
        {
          "name": "stdout",
          "output_type": "stream",
          "text": [
            "{1, 2, 3, 4, 5}\n"
          ]
        }
      ],
      "source": [
        "union_set1 = set1 | set2\n",
        "print(union_set1)"
      ]
    },
    {
      "cell_type": "code",
      "execution_count": null,
      "id": "29bd21f8",
      "metadata": {
        "id": "29bd21f8",
        "outputId": "9984ec8a-f667-4175-a60e-9af8cbf9ac0f"
      },
      "outputs": [
        {
          "name": "stdout",
          "output_type": "stream",
          "text": [
            "{3}\n"
          ]
        }
      ],
      "source": [
        "#intersection()\n",
        "intersection_set = set1.intersection(set2)\n",
        "print(intersection_set)"
      ]
    },
    {
      "cell_type": "code",
      "execution_count": null,
      "id": "0f5ebd0a",
      "metadata": {
        "id": "0f5ebd0a",
        "outputId": "81e9cae9-bac8-4637-a49c-257021624ca7"
      },
      "outputs": [
        {
          "name": "stdout",
          "output_type": "stream",
          "text": [
            "{3}\n"
          ]
        }
      ],
      "source": [
        "#intersection operator\n",
        "intersection_set1 = set1 & set2\n",
        "print(intersection_set1)"
      ]
    },
    {
      "cell_type": "code",
      "execution_count": null,
      "id": "9baa13f7",
      "metadata": {
        "id": "9baa13f7"
      },
      "outputs": [],
      "source": [
        "set1 = {1, 2, 3}\n",
        "set2 = {3, 4, 5}\n"
      ]
    },
    {
      "cell_type": "code",
      "execution_count": null,
      "id": "560554e9",
      "metadata": {
        "id": "560554e9",
        "outputId": "7f0eb26c-11a1-460f-c130-c08c2c6dd5be"
      },
      "outputs": [
        {
          "name": "stdout",
          "output_type": "stream",
          "text": [
            "{1, 2}\n"
          ]
        }
      ],
      "source": [
        "#difference\n",
        "difference_set = set1.difference(set2)\n",
        "print(difference_set)"
      ]
    },
    {
      "cell_type": "code",
      "execution_count": null,
      "id": "933063eb",
      "metadata": {
        "id": "933063eb",
        "outputId": "a052b680-257c-42ae-be56-7847c59634da"
      },
      "outputs": [
        {
          "name": "stdout",
          "output_type": "stream",
          "text": [
            "{4, 5}\n"
          ]
        }
      ],
      "source": [
        "#difference\n",
        "difference_set = set2.difference(set1)\n",
        "print(difference_set)"
      ]
    },
    {
      "cell_type": "code",
      "execution_count": null,
      "id": "e9565b77",
      "metadata": {
        "id": "e9565b77",
        "outputId": "d14cce96-408b-471f-ed0b-2bc5b8f0f60a"
      },
      "outputs": [
        {
          "name": "stdout",
          "output_type": "stream",
          "text": [
            "{1, 2, 4, 5}\n"
          ]
        }
      ],
      "source": [
        "#symmetric difference\n",
        "symmetric_difference = set1.symmetric_difference(set2)\n",
        "print(symmetric_difference)"
      ]
    },
    {
      "cell_type": "code",
      "execution_count": null,
      "id": "580c0a70",
      "metadata": {
        "id": "580c0a70"
      },
      "outputs": [],
      "source": []
    }
  ],
  "metadata": {
    "colab": {
      "provenance": []
    },
    "kernelspec": {
      "display_name": "Python 3 (ipykernel)",
      "language": "python",
      "name": "python3"
    },
    "language_info": {
      "codemirror_mode": {
        "name": "ipython",
        "version": 3
      },
      "file_extension": ".py",
      "mimetype": "text/x-python",
      "name": "python",
      "nbconvert_exporter": "python",
      "pygments_lexer": "ipython3",
      "version": "3.11.8"
    }
  },
  "nbformat": 4,
  "nbformat_minor": 5
}

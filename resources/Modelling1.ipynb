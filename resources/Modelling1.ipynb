{
  "cells": [
    {
      "cell_type": "markdown",
      "metadata": {
        "id": "OU1sT-s7UACo"
      },
      "source": [
        "# **PREDICTIVE MODELLING**"
      ]
    },
    {
      "cell_type": "markdown",
      "metadata": {
        "id": "lhXNss_5FvKa"
      },
      "source": [
        "\n",
        "\n",
        "Predictive modeling is a process used in data science to predict outcomes based on historical data. It involves building mathematical models that capture patterns in the data and using these models to make predictions on new data. Predictive modeling finds applications in various fields including finance, healthcare, marketing, and more.\n",
        "\n",
        "#### Steps in Predictive Modeling:\n",
        "\n",
        "1. **Problem Definition**: Clearly define the problem you want to solve and determine the outcome variable (the variable you want to predict).\n",
        "\n",
        "2. **Data Collection**: Gather relevant data from various sources. This could include structured data from databases, unstructured data from text documents, or data from APIs.\n",
        "\n",
        "3. **Data Preprocessing**: Clean the data by handling missing values, outliers, and encoding categorical variables. This step also involves scaling or normalizing numerical features.\n",
        "\n",
        "4. **Feature Engineering**: Create new features from existing ones or transform features to better represent the underlying patterns in the data.\n",
        "\n",
        "5. **Model Selection**: Choose the appropriate predictive model based on the problem at hand and the characteristics of the data. Common models include linear regression, decision trees, random forests, support vector machines, and neural networks.\n",
        "\n",
        "6. **Model Training**: Split the data into training and testing sets. Train the chosen model on the training data.\n",
        "\n",
        "7. **Model Evaluation**: Evaluate the performance of the model on the testing data using appropriate evaluation metrics such as accuracy, precision, recall, or mean squared error.\n",
        "\n",
        "8. **Model Tuning**: Fine-tune the model hyperparameters to improve its performance. This may involve techniques like grid search or random search.\n",
        "\n",
        "9. **Deployment**: Once satisfied with the model performance, deploy it into production where it can make predictions on new, unseen data.\n",
        "\n"
      ]
    },
    {
      "cell_type": "markdown",
      "metadata": {
        "id": "c9X9dLf5K03L"
      },
      "source": [
        "### **Regression with StatsModels**\n",
        "\n",
        "StatsModels is a Python library for estimating statistical models and conducting statistical tests. It provides classes and functions for various statistical models including linear regression, generalized linear models, time series analysis, and more. Here's how you can perform linear regression using StatsModels:\n",
        "\n"
      ]
    },
    {
      "cell_type": "markdown",
      "metadata": {
        "id": "ElpddNNL-cFG"
      },
      "source": [
        "#### OLS stands for \"Ordinary Least Squares.\" It is a method for estimating the parameters in a linear regression model by minimizing the sum of the squared differences between the observed and predicted values of the dependent variable"
      ]
    },
    {
      "cell_type": "markdown",
      "metadata": {
        "id": "iXQ74lgJCJlZ"
      },
      "source": [
        "#### **Evaluation Metrics**\n",
        "1. **Mean Squared Error (MSE)**: MSE is a measure of the average squared difference between the actual and predicted values in a regression problem. It's calculated as the average of the squared differences between the predicted and actual values.\n",
        "\n",
        "   MSE = (1/n) * Σ square(actual – forecast)\n",
        "\n",
        "   Where:\n",
        "   - ( n ) is the number of observations.\n",
        "   - (actual) is the actual value for observation.\n",
        "   - (forecast) is the predicted value for observation.\n",
        "\n",
        "2. **Root Mean Squared Error (RMSE)**: RMSE is the square root of the MSE. It's a measure of the average magnitude of the errors between the predicted and actual values, with the same scale as the target variable.\n",
        "\n",
        "   RMSE = sqrt(MSE)\n",
        "\n",
        "3. **Mean Absolute Error (MAE)**: MAE is a measure of the average absolute difference between the actual and predicted values. It's less sensitive to outliers compared to MSE because it doesn't square the errors.\n",
        "\n",
        "   MAE = (1/n) * Σ abs(actual – forecast)\n",
        "\n",
        "   Where:\n",
        "   - ( n ) is the number of observations.\n",
        "   - (actual ) is the actual value for observation.\n",
        "   - ( forecast) is the predicted value for observation.\n",
        "\n",
        "These metrics are commonly used to evaluate the performance of regression models. Lower values of MSE, RMSE, and MAE indicate better model performance,"
      ]
    },
    {
      "cell_type": "markdown",
      "metadata": {
        "id": "fbQVdC_6-4Sh"
      },
      "source": [
        "### **Data To Be Used**\n",
        "\n",
        "1. load_diabetes from sklearn, target : 'DiseaseProgression'\n",
        "2. advertising : https://raw.githubusercontent.com/JWarmenhoven/ISLR-python/master/Notebooks/Data/Advertising.csv, feature : 'TV' , target : 'Sales'\n",
        "3. Concrete_Data , feature : 'Cement (component 1)(kg in a m^3 mixture)', target : 'Concrete compressive strength(MPa, megapascals) '"
      ]
    },
    {
      "cell_type": "markdown",
      "metadata": {
        "id": "B0FJi_eHBnYj"
      },
      "source": [
        "**1. load_diabetes from sklearn, target : 'DiseaseProgression'**"
      ]
    },
    {
      "cell_type": "code",
      "execution_count": null,
      "metadata": {
        "id": "s9zwS69bA7KX"
      },
      "outputs": [],
      "source": [
        "#Import Libraries\n",
        "import numpy as np\n",
        "import pandas as pd\n",
        "import matplotlib.pyplot as plt\n",
        "from sklearn.datasets import load_diabetes\n",
        "import statsmodels.api as sm\n",
        "from sklearn.model_selection import train_test_split\n",
        "from sklearn.metrics import mean_squared_error,mean_absolute_error"
      ]
    },
    {
      "cell_type": "code",
      "execution_count": null,
      "metadata": {
        "id": "YUDrI2HRA7Ka"
      },
      "outputs": [],
      "source": [
        "#load the data\n",
        "data = load_diabetes()"
      ]
    },
    {
      "cell_type": "code",
      "execution_count": null,
      "metadata": {
        "id": "rtafMMbwA7Kb"
      },
      "outputs": [],
      "source": [
        "#Convert the data to dataframe\n",
        "df = pd.DataFrame(data.data,columns=data.feature_names)"
      ]
    },
    {
      "cell_type": "code",
      "execution_count": null,
      "metadata": {
        "id": "IbqDv-V3A7Kc"
      },
      "outputs": [],
      "source": [
        "# add the target feature to the dataframe\n",
        "df['DiseaseProgression'] = data.target"
      ]
    },
    {
      "cell_type": "code",
      "execution_count": null,
      "metadata": {
        "id": "qO0XqCuLA7Kc",
        "outputId": "2adb6dc3-3a62-4d6b-c297-92938a565411"
      },
      "outputs": [
        {
          "data": {
            "text/html": [
              "<div>\n",
              "<style scoped>\n",
              "    .dataframe tbody tr th:only-of-type {\n",
              "        vertical-align: middle;\n",
              "    }\n",
              "\n",
              "    .dataframe tbody tr th {\n",
              "        vertical-align: top;\n",
              "    }\n",
              "\n",
              "    .dataframe thead th {\n",
              "        text-align: right;\n",
              "    }\n",
              "</style>\n",
              "<table border=\"1\" class=\"dataframe\">\n",
              "  <thead>\n",
              "    <tr style=\"text-align: right;\">\n",
              "      <th></th>\n",
              "      <th>age</th>\n",
              "      <th>sex</th>\n",
              "      <th>bmi</th>\n",
              "      <th>bp</th>\n",
              "      <th>s1</th>\n",
              "      <th>s2</th>\n",
              "      <th>s3</th>\n",
              "      <th>s4</th>\n",
              "      <th>s5</th>\n",
              "      <th>s6</th>\n",
              "      <th>DiseaseProgression</th>\n",
              "    </tr>\n",
              "  </thead>\n",
              "  <tbody>\n",
              "    <tr>\n",
              "      <th>0</th>\n",
              "      <td>0.038076</td>\n",
              "      <td>0.050680</td>\n",
              "      <td>0.061696</td>\n",
              "      <td>0.021872</td>\n",
              "      <td>-0.044223</td>\n",
              "      <td>-0.034821</td>\n",
              "      <td>-0.043401</td>\n",
              "      <td>-0.002592</td>\n",
              "      <td>0.019907</td>\n",
              "      <td>-0.017646</td>\n",
              "      <td>151.0</td>\n",
              "    </tr>\n",
              "    <tr>\n",
              "      <th>1</th>\n",
              "      <td>-0.001882</td>\n",
              "      <td>-0.044642</td>\n",
              "      <td>-0.051474</td>\n",
              "      <td>-0.026328</td>\n",
              "      <td>-0.008449</td>\n",
              "      <td>-0.019163</td>\n",
              "      <td>0.074412</td>\n",
              "      <td>-0.039493</td>\n",
              "      <td>-0.068332</td>\n",
              "      <td>-0.092204</td>\n",
              "      <td>75.0</td>\n",
              "    </tr>\n",
              "    <tr>\n",
              "      <th>2</th>\n",
              "      <td>0.085299</td>\n",
              "      <td>0.050680</td>\n",
              "      <td>0.044451</td>\n",
              "      <td>-0.005670</td>\n",
              "      <td>-0.045599</td>\n",
              "      <td>-0.034194</td>\n",
              "      <td>-0.032356</td>\n",
              "      <td>-0.002592</td>\n",
              "      <td>0.002861</td>\n",
              "      <td>-0.025930</td>\n",
              "      <td>141.0</td>\n",
              "    </tr>\n",
              "    <tr>\n",
              "      <th>3</th>\n",
              "      <td>-0.089063</td>\n",
              "      <td>-0.044642</td>\n",
              "      <td>-0.011595</td>\n",
              "      <td>-0.036656</td>\n",
              "      <td>0.012191</td>\n",
              "      <td>0.024991</td>\n",
              "      <td>-0.036038</td>\n",
              "      <td>0.034309</td>\n",
              "      <td>0.022688</td>\n",
              "      <td>-0.009362</td>\n",
              "      <td>206.0</td>\n",
              "    </tr>\n",
              "    <tr>\n",
              "      <th>4</th>\n",
              "      <td>0.005383</td>\n",
              "      <td>-0.044642</td>\n",
              "      <td>-0.036385</td>\n",
              "      <td>0.021872</td>\n",
              "      <td>0.003935</td>\n",
              "      <td>0.015596</td>\n",
              "      <td>0.008142</td>\n",
              "      <td>-0.002592</td>\n",
              "      <td>-0.031988</td>\n",
              "      <td>-0.046641</td>\n",
              "      <td>135.0</td>\n",
              "    </tr>\n",
              "  </tbody>\n",
              "</table>\n",
              "</div>"
            ],
            "text/plain": [
              "        age       sex       bmi        bp        s1        s2        s3  \\\n",
              "0  0.038076  0.050680  0.061696  0.021872 -0.044223 -0.034821 -0.043401   \n",
              "1 -0.001882 -0.044642 -0.051474 -0.026328 -0.008449 -0.019163  0.074412   \n",
              "2  0.085299  0.050680  0.044451 -0.005670 -0.045599 -0.034194 -0.032356   \n",
              "3 -0.089063 -0.044642 -0.011595 -0.036656  0.012191  0.024991 -0.036038   \n",
              "4  0.005383 -0.044642 -0.036385  0.021872  0.003935  0.015596  0.008142   \n",
              "\n",
              "         s4        s5        s6  DiseaseProgression  \n",
              "0 -0.002592  0.019907 -0.017646               151.0  \n",
              "1 -0.039493 -0.068332 -0.092204                75.0  \n",
              "2 -0.002592  0.002861 -0.025930               141.0  \n",
              "3  0.034309  0.022688 -0.009362               206.0  \n",
              "4 -0.002592 -0.031988 -0.046641               135.0  "
            ]
          },
          "execution_count": 32,
          "metadata": {},
          "output_type": "execute_result"
        }
      ],
      "source": [
        "#View the first five rows of the data\n",
        "df.head()"
      ]
    },
    {
      "cell_type": "code",
      "execution_count": null,
      "metadata": {
        "id": "QX8stlifA7Ke"
      },
      "outputs": [],
      "source": [
        "#Input Variables (features)\n",
        "X = df[data.feature_names]"
      ]
    },
    {
      "cell_type": "code",
      "execution_count": null,
      "metadata": {
        "id": "JOV1oV5wA7Ke"
      },
      "outputs": [],
      "source": [
        "#add a constant(intercept) to X\n",
        "X = sm.add_constant(X)"
      ]
    },
    {
      "cell_type": "code",
      "execution_count": null,
      "metadata": {
        "id": "aSg1nXcoA7Kf"
      },
      "outputs": [],
      "source": [
        "#Target Variable\n",
        "y = df['DiseaseProgression']"
      ]
    },
    {
      "cell_type": "code",
      "execution_count": null,
      "metadata": {
        "id": "VJCt_a96A7Kg"
      },
      "outputs": [],
      "source": [
        "#split the dataset\n",
        "X_train, X_test,y_train,y_test = train_test_split(X,y,test_size = 0.2,random_state=0)"
      ]
    },
    {
      "cell_type": "code",
      "execution_count": null,
      "metadata": {
        "id": "n-jtoNpOA7Kg"
      },
      "outputs": [],
      "source": [
        "#Training the Model (Learning Process)\n",
        "model = sm.OLS(y_train,X_train).fit()"
      ]
    },
    {
      "cell_type": "code",
      "execution_count": null,
      "metadata": {
        "id": "oXytSDYEA7Ki"
      },
      "outputs": [],
      "source": [
        "#calculate mean_squared_error\n",
        "mse = mean_squared_error(y_test,model.predict(X_test))\n",
        "#calculate mean_absolute_error\n",
        "mae = mean_absolute_error(y_test,model.predict(X_test))\n",
        "#root mean square error\n",
        "rmse = np.sqrt(mse)\n"
      ]
    },
    {
      "cell_type": "code",
      "execution_count": null,
      "metadata": {
        "id": "LDOcDFm5A7Kj",
        "outputId": "d2e14344-f1e6-442b-b7de-59546ddc2c43"
      },
      "outputs": [
        {
          "name": "stdout",
          "output_type": "stream",
          "text": [
            "Mean Square Error:  3424.2593342986793\n",
            "Mean Absolute Error:  46.1735850037045\n",
            "root mean square error:  58.51717127731551\n"
          ]
        }
      ],
      "source": [
        "#Display the values of mse,mae and rmse\n",
        "print('Mean Square Error: ', mse)\n",
        "print('Mean Absolute Error: ', mae)\n",
        "print('root mean square error: ', rmse)"
      ]
    },
    {
      "cell_type": "code",
      "execution_count": null,
      "metadata": {
        "id": "x4Q1WJE9A7Kj"
      },
      "outputs": [],
      "source": [
        "#import r2_score\n",
        "from sklearn.metrics import r2_score\n",
        "r_score = r2_score(y_test,model.predict(X_test))"
      ]
    },
    {
      "cell_type": "code",
      "execution_count": null,
      "metadata": {
        "id": "ciPzuV46A7Kk",
        "outputId": "7d3bc2e5-9c54-4f33-a7b2-9ceb9710c993"
      },
      "outputs": [
        {
          "name": "stdout",
          "output_type": "stream",
          "text": [
            "0.33223321731062083\n"
          ]
        }
      ],
      "source": [
        "#display the value of r2_score\n",
        "print(r_score)"
      ]
    },
    {
      "cell_type": "code",
      "execution_count": null,
      "metadata": {
        "id": "3J3Q0AAaA7Kk",
        "outputId": "45af16c5-896b-4659-9540-9857c03d35fb"
      },
      "outputs": [
        {
          "data": {
            "image/png": "[encoded data removed]",
            "text/plain": [
              "<Figure size 800x500 with 2 Axes>"
            ]
          },
          "metadata": {},
          "output_type": "display_data"
        }
      ],
      "source": [
        "#Visualizing the features that correlate with the target variable (feature)\n",
        "corr_matrix = df.corr()['DiseaseProgression'].abs().sort_values(ascending=False)\n",
        "\n",
        "plt.figure(figsize=(8,5))\n",
        "plt.imshow(np.array([corr_matrix.values]),cmap='coolwarm',aspect='auto')\n",
        "plt.colorbar(label=\"correlation\")\n",
        "plt.title('Correlation Matrix')\n",
        "plt.xticks(range(len(corr_matrix)),corr_matrix.index,rotation = 90)\n",
        "plt.yticks([])\n",
        "\n",
        "for i in range(len(corr_matrix)):\n",
        "    plt.text(i,0,f\"{corr_matrix.iloc[i]:.2f}\",ha='center',va='center',color='white')\n",
        "\n",
        "plt.show()\n"
      ]
    },
    {
      "cell_type": "code",
      "execution_count": null,
      "metadata": {
        "id": "HLMpglqnA7Kl",
        "outputId": "bada4848-e423-4b48-fe26-c31895adf17d"
      },
      "outputs": [
        {
          "name": "stdout",
          "output_type": "stream",
          "text": [
            "Index(['bmi', 's5'], dtype='object')\n"
          ]
        }
      ],
      "source": [
        "# Getting the top features (the key determinants in the model's prediction) base on a threshold\n",
        "top_features = corr_matrix[corr_matrix > 0.5].index\n",
        "top_features = top_features.drop('DiseaseProgression')\n",
        "print(top_features)"
      ]
    },
    {
      "cell_type": "code",
      "execution_count": null,
      "metadata": {
        "id": "3jYO_ixCA7Km",
        "outputId": "3eca797c-005c-4e74-8354-c3ef9d81a775"
      },
      "outputs": [
        {
          "data": {
            "text/plain": [
              "DiseaseProgression    1.000000\n",
              "bmi                   0.586450\n",
              "s5                    0.565883\n",
              "Name: DiseaseProgression, dtype: float64"
            ]
          },
          "execution_count": 55,
          "metadata": {},
          "output_type": "execute_result"
        }
      ],
      "source": [
        "top_features_ = corr_matrix[corr_matrix > 0.5]\n",
        "top_features_"
      ]
    },
    {
      "cell_type": "markdown",
      "metadata": {
        "id": "VSIiQxRIA7Km"
      },
      "source": [
        "### Retraining the Model"
      ]
    },
    {
      "cell_type": "code",
      "execution_count": null,
      "metadata": {
        "id": "mjkP7CbxA7Km"
      },
      "outputs": [],
      "source": [
        "# Selecting and utilizing the top features as input data\n",
        "X = df[top_features]\n",
        "X = sm.add_constant(X)"
      ]
    },
    {
      "cell_type": "code",
      "execution_count": null,
      "metadata": {
        "id": "Y0tXdQnSA7Kn"
      },
      "outputs": [],
      "source": [
        "# Split the dataset\n",
        "X_train,X_test,y_train,y_test = train_test_split(X,y,test_size=0.2,random_state=42)"
      ]
    },
    {
      "cell_type": "code",
      "execution_count": null,
      "metadata": {
        "id": "Wdxidex9A7Kn"
      },
      "outputs": [],
      "source": [
        "# Training the model (Learning Process)\n",
        "model = sm.OLS(y_train,X_train).fit()"
      ]
    },
    {
      "cell_type": "code",
      "execution_count": null,
      "metadata": {
        "id": "ZZ3yUVy1A7Kn"
      },
      "outputs": [],
      "source": [
        "#calculate mean_squared_error\n",
        "mse = mean_squared_error(y_test,model.predict(X_test))\n",
        "#calculate mean_absolute_error\n",
        "mae = mean_absolute_error(y_test,model.predict(X_test))\n",
        "#root mean square error\n",
        "rmse = np.sqrt(mse)\n"
      ]
    },
    {
      "cell_type": "markdown",
      "metadata": {
        "id": "AONABkUmA7Ko"
      },
      "source": [
        "Mean Square Error:  3424.2593342986793\n",
        "Mean Absolute Error:  46.1735850037045\n",
        "root mean square error:  58.51717127731551"
      ]
    },
    {
      "cell_type": "code",
      "execution_count": null,
      "metadata": {
        "id": "U51bsn8BA7Ko",
        "outputId": "9f523e45-8342-4428-fbfd-5277c5c13bae"
      },
      "outputs": [
        {
          "name": "stdout",
          "output_type": "stream",
          "text": [
            "Mean Square Error:  2901.8369415567036\n",
            "Mean Absolute Error:  43.98824346868295\n",
            "root mean square error:  53.8687009455092\n"
          ]
        }
      ],
      "source": [
        "# Display the values of mse, mae and rmse\n",
        "print('Mean Square Error: ', mse)\n",
        "print('Mean Absolute Error: ', mae)\n",
        "print('root mean square error: ', rmse)\n"
      ]
    },
    {
      "cell_type": "code",
      "execution_count": null,
      "metadata": {
        "id": "0WaKLolsA7Kp"
      },
      "outputs": [],
      "source": [
        "# Applying the r2_score metric\n",
        "r_score = r2_score(y_test,model.predict(X_test))"
      ]
    },
    {
      "cell_type": "code",
      "execution_count": null,
      "metadata": {
        "id": "DVJY3RciA7Kp",
        "outputId": "b6c795a6-415a-41be-ae84-fddaf798bcf7"
      },
      "outputs": [
        {
          "name": "stdout",
          "output_type": "stream",
          "text": [
            "0.4522925957397932\n"
          ]
        }
      ],
      "source": [
        "# Display the value of the r2_score\n",
        "print(r_score)"
      ]
    },
    {
      "cell_type": "code",
      "execution_count": null,
      "metadata": {
        "id": "bkX62ErSA7Kq",
        "outputId": "d7e4c55d-87ec-43a1-f9e0-80277f62d40c"
      },
      "outputs": [
        {
          "data": {
            "text/plain": [
              "287    165.473030\n",
              "211    166.142365\n",
              "72     196.320249\n",
              "321    245.311376\n",
              "73     134.089654\n",
              "          ...    \n",
              "255    101.983721\n",
              "90      92.480402\n",
              "57      73.846928\n",
              "391     50.570101\n",
              "24     163.421151\n",
              "Length: 89, dtype: float64"
            ]
          },
          "execution_count": 56,
          "metadata": {},
          "output_type": "execute_result"
        }
      ],
      "source": [
        "# Saving the predictions made by the model\n",
        "prediction = model.predict(X_test)\n",
        "prediction"
      ]
    },
    {
      "cell_type": "code",
      "execution_count": null,
      "metadata": {
        "id": "a5IR26tNA7Kq",
        "outputId": "2a566a26-e00b-4133-f136-1b8916ee9613"
      },
      "outputs": [
        {
          "data": {
            "text/plain": [
              "287    219.0\n",
              "211     70.0\n",
              "72     202.0\n",
              "321    230.0\n",
              "73     111.0\n",
              "       ...  \n",
              "255    153.0\n",
              "90      98.0\n",
              "57      37.0\n",
              "391     63.0\n",
              "24     184.0\n",
              "Name: DiseaseProgression, Length: 89, dtype: float64"
            ]
          },
          "execution_count": 68,
          "metadata": {},
          "output_type": "execute_result"
        }
      ],
      "source": [
        "y_test"
      ]
    },
    {
      "cell_type": "code",
      "execution_count": null,
      "metadata": {
        "id": "hVQsli5YA7Kr"
      },
      "outputs": [],
      "source": [
        "# Converting the actual target values to dataframe\n",
        "df = pd.DataFrame(data=y_test.values,columns=['Actual'])"
      ]
    },
    {
      "cell_type": "code",
      "execution_count": null,
      "metadata": {
        "id": "SP4GRocKA7Kr"
      },
      "outputs": [],
      "source": [
        "# adding the predicted values to the dataframe and rounding off the values to 2 decimal place\n",
        "df['Predicted'] = np.round(prediction.values,2)"
      ]
    },
    {
      "cell_type": "code",
      "execution_count": null,
      "metadata": {
        "id": "0WtYvxpTA7Ks",
        "outputId": "f1e6c309-1317-4f09-ec71-d943c1a6dc6e"
      },
      "outputs": [
        {
          "data": {
            "text/html": [
              "<div>\n",
              "<style scoped>\n",
              "    .dataframe tbody tr th:only-of-type {\n",
              "        vertical-align: middle;\n",
              "    }\n",
              "\n",
              "    .dataframe tbody tr th {\n",
              "        vertical-align: top;\n",
              "    }\n",
              "\n",
              "    .dataframe thead th {\n",
              "        text-align: right;\n",
              "    }\n",
              "</style>\n",
              "<table border=\"1\" class=\"dataframe\">\n",
              "  <thead>\n",
              "    <tr style=\"text-align: right;\">\n",
              "      <th></th>\n",
              "      <th>Actual</th>\n",
              "      <th>Predicted</th>\n",
              "    </tr>\n",
              "  </thead>\n",
              "  <tbody>\n",
              "    <tr>\n",
              "      <th>0</th>\n",
              "      <td>219.0</td>\n",
              "      <td>165.47</td>\n",
              "    </tr>\n",
              "    <tr>\n",
              "      <th>1</th>\n",
              "      <td>70.0</td>\n",
              "      <td>166.14</td>\n",
              "    </tr>\n",
              "    <tr>\n",
              "      <th>2</th>\n",
              "      <td>202.0</td>\n",
              "      <td>196.32</td>\n",
              "    </tr>\n",
              "    <tr>\n",
              "      <th>3</th>\n",
              "      <td>230.0</td>\n",
              "      <td>245.31</td>\n",
              "    </tr>\n",
              "    <tr>\n",
              "      <th>4</th>\n",
              "      <td>111.0</td>\n",
              "      <td>134.09</td>\n",
              "    </tr>\n",
              "  </tbody>\n",
              "</table>\n",
              "</div>"
            ],
            "text/plain": [
              "   Actual  Predicted\n",
              "0   219.0     165.47\n",
              "1    70.0     166.14\n",
              "2   202.0     196.32\n",
              "3   230.0     245.31\n",
              "4   111.0     134.09"
            ]
          },
          "execution_count": 77,
          "metadata": {},
          "output_type": "execute_result"
        }
      ],
      "source": [
        "# view the first five row of the dataframe\n",
        "df.head()"
      ]
    },
    {
      "cell_type": "code",
      "execution_count": null,
      "metadata": {
        "id": "R_Vmp7XuA7Kt"
      },
      "outputs": [],
      "source": [
        "# Exporting to csv file\n",
        "df.to_csv('predict.csv',index=False)"
      ]
    },
    {
      "cell_type": "code",
      "execution_count": null,
      "metadata": {
        "id": "peVWb086A7K2"
      },
      "outputs": [],
      "source": [
        "# Exporting to excel file\n",
        "df.to_excel('Model Prediction.xlsx',index=False)"
      ]
    }
  ],
  "metadata": {
    "colab": {
      "provenance": []
    },
    "kernelspec": {
      "display_name": "Python 3 (ipykernel)",
      "language": "python",
      "name": "python3"
    },
    "language_info": {
      "codemirror_mode": {
        "name": "ipython",
        "version": 3
      },
      "file_extension": ".py",
      "mimetype": "text/x-python",
      "name": "python",
      "nbconvert_exporter": "python",
      "pygments_lexer": "ipython3",
      "version": "3.11.7"
    }
  },
  "nbformat": 4,
  "nbformat_minor": 0
}
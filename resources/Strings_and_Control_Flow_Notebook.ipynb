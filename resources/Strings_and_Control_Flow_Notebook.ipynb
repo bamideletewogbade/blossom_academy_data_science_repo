{
  "cells": [
    {
      "cell_type": "markdown",
      "id": "16cec0a3",
      "metadata": {
        "id": "16cec0a3"
      },
      "source": [
        "## Strings"
      ]
    },
    {
      "cell_type": "code",
      "execution_count": null,
      "id": "4b217c52",
      "metadata": {
        "id": "4b217c52"
      },
      "outputs": [],
      "source": [
        "name = \"BlossomAcademy\""
      ]
    },
    {
      "cell_type": "code",
      "execution_count": null,
      "id": "0c1242c1",
      "metadata": {
        "id": "0c1242c1",
        "outputId": "b3cf22dc-386e-4a43-b360-8c64e239d8a1"
      },
      "outputs": [
        {
          "name": "stdout",
          "output_type": "stream",
          "text": [
            "BLOSSOMACADEMY\n"
          ]
        }
      ],
      "source": [
        "#upper()\n",
        "name_ = name.upper()\n",
        "print(name_)"
      ]
    },
    {
      "cell_type": "code",
      "execution_count": null,
      "id": "3859a2f2",
      "metadata": {
        "id": "3859a2f2",
        "outputId": "d5f8d832-dee4-47ee-c40f-6b2dbed5dd0f"
      },
      "outputs": [
        {
          "name": "stdout",
          "output_type": "stream",
          "text": [
            "blossomacademy\n"
          ]
        }
      ],
      "source": [
        "#lower()\n",
        "name_ = name.lower()\n",
        "print(name_)"
      ]
    },
    {
      "cell_type": "code",
      "execution_count": null,
      "id": "b66deee2",
      "metadata": {
        "id": "b66deee2",
        "outputId": "8ab13fc3-7042-4c41-f732-a2c8c1154490"
      },
      "outputs": [
        {
          "name": "stdout",
          "output_type": "stream",
          "text": [
            "True\n"
          ]
        }
      ],
      "source": [
        "#isalpha\n",
        "print(name.isalpha())"
      ]
    },
    {
      "cell_type": "code",
      "execution_count": null,
      "id": "4a74e373",
      "metadata": {
        "id": "4a74e373",
        "outputId": "7268e419-b2f8-468e-f0c4-bbf697b6d084"
      },
      "outputs": [
        {
          "name": "stdout",
          "output_type": "stream",
          "text": [
            "False\n"
          ]
        }
      ],
      "source": [
        "#isdigit()\n",
        "print(name.isdigit())"
      ]
    },
    {
      "cell_type": "code",
      "execution_count": null,
      "id": "81c9a847",
      "metadata": {
        "id": "81c9a847",
        "outputId": "b2576895-948a-4513-dcae-b4cb360c0093"
      },
      "outputs": [
        {
          "name": "stdout",
          "output_type": "stream",
          "text": [
            "False\n"
          ]
        }
      ],
      "source": [
        "#islower()\n",
        "print(name.islower())"
      ]
    },
    {
      "cell_type": "code",
      "execution_count": null,
      "id": "4c7fe57b",
      "metadata": {
        "id": "4c7fe57b",
        "outputId": "44128384-870d-418c-8c44-e738101bd422"
      },
      "outputs": [
        {
          "name": "stdout",
          "output_type": "stream",
          "text": [
            "False\n"
          ]
        }
      ],
      "source": [
        "#isupper()\n",
        "print(name.isupper())"
      ]
    },
    {
      "cell_type": "code",
      "execution_count": null,
      "id": "ef73424d",
      "metadata": {
        "id": "ef73424d",
        "outputId": "811941c1-7b17-4ef8-d734-5275848fd613"
      },
      "outputs": [
        {
          "name": "stdout",
          "output_type": "stream",
          "text": [
            "['Blossom', 'Academy', 'is', 'the', 'best']\n"
          ]
        }
      ],
      "source": [
        "#split\n",
        "name = \"Blossom Academy is the best\"\n",
        "print(name.split(' '))"
      ]
    },
    {
      "cell_type": "code",
      "execution_count": null,
      "id": "a97ce48e",
      "metadata": {
        "id": "a97ce48e",
        "outputId": "2020703a-b94e-47f8-8c27-56ad18e71ade"
      },
      "outputs": [
        {
          "name": "stdout",
          "output_type": "stream",
          "text": [
            "Blossom_Academy_is_the_best\n"
          ]
        }
      ],
      "source": [
        "#join()\n",
        "name =\"Blossom Academy is the best\"\n",
        "name_ = name.split(' ')\n",
        "print('_'.join(name_))"
      ]
    },
    {
      "cell_type": "code",
      "execution_count": null,
      "id": "ea634d24",
      "metadata": {
        "id": "ea634d24",
        "outputId": "e2e0f104-b9c8-4177-c908-0647f6cc12ca"
      },
      "outputs": [
        {
          "name": "stdout",
          "output_type": "stream",
          "text": [
            "BeossomAcademy\n"
          ]
        }
      ],
      "source": [
        "#replace()\n",
        "name = \"BlossomAcademy\"\n",
        "name_ = name.replace('l','e')\n",
        "print(name_)"
      ]
    },
    {
      "cell_type": "code",
      "execution_count": null,
      "id": "eeb34ace",
      "metadata": {
        "id": "eeb34ace",
        "outputId": "1c71fc18-51e2-4f2d-cb3a-505541f74d03"
      },
      "outputs": [
        {
          "name": "stdout",
          "output_type": "stream",
          "text": [
            "BlossomSchool\n"
          ]
        }
      ],
      "source": [
        "#replace()\n",
        "name = \"BlossomAcademy\"\n",
        "name_ = name.replace('Academy','School')\n",
        "print(name_)"
      ]
    },
    {
      "cell_type": "code",
      "execution_count": null,
      "id": "55c9c278",
      "metadata": {
        "id": "55c9c278",
        "outputId": "a64fcd3c-fbf2-43a2-d178-e11fdc8076d0"
      },
      "outputs": [
        {
          "name": "stdout",
          "output_type": "stream",
          "text": [
            "True\n"
          ]
        }
      ],
      "source": [
        "#startswith()\n",
        "name = \"BlossomAcademy\"\n",
        "print(name.startswith(\"B\"))"
      ]
    },
    {
      "cell_type": "code",
      "execution_count": null,
      "id": "c9771003",
      "metadata": {
        "id": "c9771003",
        "outputId": "671b515b-ac63-42f1-83e8-6d29fd3b34cf"
      },
      "outputs": [
        {
          "name": "stdout",
          "output_type": "stream",
          "text": [
            "True\n"
          ]
        }
      ],
      "source": [
        "#endswith()\n",
        "name = \"BlossomAcademy\"\n",
        "print(name.endswith('y'))"
      ]
    },
    {
      "cell_type": "markdown",
      "id": "d6c1e1b3",
      "metadata": {
        "id": "d6c1e1b3"
      },
      "source": [
        "## String Formatting\n",
        "\n",
        "#### String formatting is essential for creating readable and well-structured output in Python programs.\n",
        "#### It allows you to combine text and variables seamlessly."
      ]
    },
    {
      "cell_type": "code",
      "execution_count": null,
      "id": "1a26b6b9",
      "metadata": {
        "id": "1a26b6b9",
        "outputId": "49fc4e83-bdaf-4458-a830-907aea744852"
      },
      "outputs": [
        {
          "name": "stdout",
          "output_type": "stream",
          "text": [
            "Hello, my name is Precious and I am 30 years old.\n"
          ]
        }
      ],
      "source": [
        "name = \"Precious\"\n",
        "age = 30\n",
        "print(\"Hello, my name is \"+ name + \" and I am \" + str(age) + \" years old.\")"
      ]
    },
    {
      "cell_type": "markdown",
      "id": "49bd5948",
      "metadata": {
        "id": "49bd5948"
      },
      "source": [
        "### Using f-strings (Formatted String Literals):\n",
        "\n",
        "#### F-strings provide a more concise and readable way to format strings by embedding expressions directly within them."
      ]
    },
    {
      "cell_type": "code",
      "execution_count": null,
      "id": "eeb343a4",
      "metadata": {
        "id": "eeb343a4",
        "outputId": "70b58c94-8898-4272-b951-8e319737f678"
      },
      "outputs": [
        {
          "name": "stdout",
          "output_type": "stream",
          "text": [
            "Hello, my name is Precious and I am 30 years old.\n"
          ]
        }
      ],
      "source": [
        "name = \"Precious\"\n",
        "age = 30\n",
        "print(f\"Hello, my name is {name} and I am {age} years old.\")"
      ]
    },
    {
      "cell_type": "code",
      "execution_count": null,
      "id": "5fbb11bb",
      "metadata": {
        "id": "5fbb11bb",
        "outputId": "b53671ef-7a4a-46d3-9a85-21cd5c0cb157"
      },
      "outputs": [
        {
          "name": "stdout",
          "output_type": "stream",
          "text": [
            "Hello, my name is John and I am 25 years old.\n"
          ]
        }
      ],
      "source": [
        "name = \"John\"\n",
        "age = 25\n",
        "print(f\"Hello, my name is {name} and I am {age} years old.\")"
      ]
    },
    {
      "cell_type": "markdown",
      "id": "6a5222b3",
      "metadata": {
        "id": "6a5222b3"
      },
      "source": [
        "### Using the .format() method:\n",
        "\n",
        "#### The .format() method allows for more complex string formatting by using placeholders and format specifiers.\n"
      ]
    },
    {
      "cell_type": "code",
      "execution_count": null,
      "id": "90b28dff",
      "metadata": {
        "id": "90b28dff",
        "outputId": "3b8b6c36-8e7a-4d34-b1ab-cfcf4cc55ae9"
      },
      "outputs": [
        {
          "name": "stdout",
          "output_type": "stream",
          "text": [
            "Hello, my name is Precious and I am 30 years old.\n"
          ]
        }
      ],
      "source": [
        "name = \"Precious\"\n",
        "age = 30\n",
        "print(\"Hello, my name is {} and I am {} years old.\".format(name,age))"
      ]
    },
    {
      "cell_type": "code",
      "execution_count": null,
      "id": "d28f7bc3",
      "metadata": {
        "id": "d28f7bc3",
        "outputId": "06bbcf07-6b7c-4847-e071-09980ef791b0"
      },
      "outputs": [
        {
          "name": "stdout",
          "output_type": "stream",
          "text": [
            "Hello, my name is John and I am 25 years old.\n"
          ]
        }
      ],
      "source": [
        "name = \"John\"\n",
        "age = 25\n",
        "print(\"Hello, my name is {0} and I am {1} years old.\".format(name,age))"
      ]
    },
    {
      "cell_type": "code",
      "execution_count": null,
      "id": "051010f5",
      "metadata": {
        "id": "051010f5",
        "outputId": "fce7650b-a098-428d-ba48-9345f20c6db8"
      },
      "outputs": [
        {
          "name": "stdout",
          "output_type": "stream",
          "text": [
            "Hello, my name is John and I am 27 years old.\n"
          ]
        }
      ],
      "source": [
        "name = \"John\"\n",
        "age = 27\n",
        "print(\"Hello, my name is {name1} and I am {age1} years old.\".format(name1=name,age1=age))"
      ]
    },
    {
      "cell_type": "markdown",
      "id": "f5cd2a89",
      "metadata": {
        "id": "f5cd2a89"
      },
      "source": [
        "## Control Flow: If Statements, Loops, and Conditional Statements\n"
      ]
    },
    {
      "cell_type": "markdown",
      "id": "51af70d7",
      "metadata": {
        "id": "51af70d7"
      },
      "source": [
        "\n",
        "## If Statements\n",
        "\n",
        "### If statements allow you to execute code conditionally based on the evaluation of an expression.\n",
        "\n",
        "### Syntax:\n",
        "\n",
        "#### if condition:\n",
        "        # Code block to execute if condition is True\n",
        "\n"
      ]
    },
    {
      "cell_type": "code",
      "execution_count": null,
      "id": "5013a74b",
      "metadata": {
        "id": "5013a74b",
        "outputId": "cd672479-cffa-48c8-efdb-9bb9ef442cd3"
      },
      "outputs": [
        {
          "name": "stdout",
          "output_type": "stream",
          "text": [
            "x is an even number\n"
          ]
        }
      ],
      "source": [
        "#if statement\n",
        "x = 10\n",
        "if x > 0 and x % 2 == 0:\n",
        "    print(\"x is an even number\")\n"
      ]
    },
    {
      "cell_type": "code",
      "execution_count": null,
      "id": "9487bc4f",
      "metadata": {
        "id": "9487bc4f"
      },
      "outputs": [],
      "source": [
        "#if statement\n",
        "x = 11\n",
        "if x > 0 and x % 2 == 0:\n",
        "    print(\"x is an even number\")"
      ]
    },
    {
      "cell_type": "markdown",
      "id": "5a008334",
      "metadata": {
        "id": "5a008334"
      },
      "source": [
        "## If-Else Statements\n",
        "\n",
        "### If-else statements allow you to execute different code blocks based on the evaluation of a condition.\n",
        "\n",
        "### Syntax:\n",
        "\n",
        "#### if condition:\n",
        "    # Code block to execute if condition is True\n",
        "#### else:\n",
        "    # Code block to execute if condition is False\n",
        "\n",
        "\n"
      ]
    },
    {
      "cell_type": "code",
      "execution_count": null,
      "id": "778f598a",
      "metadata": {
        "id": "778f598a",
        "outputId": "2e889b6b-0ed7-4ede-db28-8d558e8be933"
      },
      "outputs": [
        {
          "name": "stdout",
          "output_type": "stream",
          "text": [
            "Enter a number: 10\n",
            "x is an even number\n"
          ]
        }
      ],
      "source": [
        "#if else statement\n",
        "x = int(input(\"Enter a number: \"))\n",
        "if x > 0 and x% 2 == 0:\n",
        "    print(\"x is an even number\")\n",
        "else:\n",
        "    print(\"x is an odd number\")\n"
      ]
    },
    {
      "cell_type": "code",
      "execution_count": null,
      "id": "d00b9a49",
      "metadata": {
        "id": "d00b9a49",
        "outputId": "888d4bbb-c05e-40ee-cfbf-db71215458c6"
      },
      "outputs": [
        {
          "name": "stdout",
          "output_type": "stream",
          "text": [
            "Enter a number: 11\n",
            "x is an odd number\n"
          ]
        }
      ],
      "source": [
        "#if else statement\n",
        "x = int(input(\"Enter a number: \"))\n",
        "if x > 0 and x% 2 == 0:\n",
        "    print(\"x is an even number\")\n",
        "else:\n",
        "    print(\"x is an odd number\")\n"
      ]
    },
    {
      "cell_type": "code",
      "execution_count": null,
      "id": "e50c0cfa",
      "metadata": {
        "id": "e50c0cfa",
        "outputId": "8366f3cf-7bc1-4836-e386-bc41d3c88439"
      },
      "outputs": [
        {
          "name": "stdout",
          "output_type": "stream",
          "text": [
            "You are underage\n"
          ]
        }
      ],
      "source": [
        "#Nested if\n",
        "age = 14\n",
        "if age >= 18:\n",
        "    if age < 21:\n",
        "        print('You are an adult, but not yet allowed to drink')\n",
        "    else:\n",
        "        print(\"You are an adult and allowed to drink\")\n",
        "else:\n",
        "    print(\"You are underage\")"
      ]
    },
    {
      "cell_type": "markdown",
      "id": "7de18667",
      "metadata": {
        "id": "7de18667"
      },
      "source": [
        "## If-Elif-Else Statements\n",
        "\n",
        "### If-elif-else statements allow you to test multiple conditions sequentially and execute the corresponding code block of the first true condition.\n",
        "\n",
        "### Syntax:\n",
        "#### if condition1:\n",
        "        # Code block to execute if condition1 is True\n",
        "#### elif condition2:\n",
        "        # Code block to execute if condition2 is True\n",
        "#### else:\n",
        "        # Code block to execute if all conditions are False\n",
        "\n"
      ]
    },
    {
      "cell_type": "code",
      "execution_count": null,
      "id": "1f85ea21",
      "metadata": {
        "id": "1f85ea21",
        "outputId": "2506ca66-ea02-4243-b566-6b3879f90dda"
      },
      "outputs": [
        {
          "name": "stdout",
          "output_type": "stream",
          "text": [
            "You are an adult and allowed to drink\n"
          ]
        }
      ],
      "source": [
        "#if-elif-else\n",
        "age = 23\n",
        "if age >= 18 and age < 21:\n",
        "    print('You are an adult but not allowed to drink yet')\n",
        "elif age >= 18 and age >=21:\n",
        "    print(\"You are an adult and allowed to drink\")\n",
        "else:\n",
        "    print(\"you are underage\")"
      ]
    },
    {
      "cell_type": "code",
      "execution_count": null,
      "id": "84342a79",
      "metadata": {
        "id": "84342a79",
        "outputId": "a671d0dc-54a3-4a02-efa5-e6f1e7db5f68"
      },
      "outputs": [
        {
          "name": "stdout",
          "output_type": "stream",
          "text": [
            "Enter a score: 90\n",
            "A\n"
          ]
        }
      ],
      "source": [
        "score = int(input('Enter a score: '))\n",
        "if score >= 90:\n",
        "    print('A')\n",
        "elif score >= 80:\n",
        "    print('B')\n",
        "elif score >= 70:\n",
        "    print('C')\n",
        "else:\n",
        "    print('Fail')"
      ]
    },
    {
      "cell_type": "markdown",
      "id": "e2037da9",
      "metadata": {
        "id": "e2037da9"
      },
      "source": [
        "## Tenary Operators"
      ]
    },
    {
      "cell_type": "markdown",
      "id": "67ba527f",
      "metadata": {
        "id": "67ba527f"
      },
      "source": [
        "#### The ternary operator is a concise way to express conditional statements."
      ]
    },
    {
      "cell_type": "code",
      "execution_count": null,
      "id": "268d542c",
      "metadata": {
        "id": "268d542c",
        "outputId": "fcf06c1b-815f-45d3-849f-54723cb4b9a7"
      },
      "outputs": [
        {
          "name": "stdout",
          "output_type": "stream",
          "text": [
            "Positive\n"
          ]
        }
      ],
      "source": [
        "num = 10\n",
        "result = \"Positive\" if num > 0 else \"Negative\"\n",
        "print(result)"
      ]
    },
    {
      "cell_type": "code",
      "execution_count": null,
      "id": "51669e0f",
      "metadata": {
        "id": "51669e0f",
        "outputId": "b907504c-0358-4da7-e0fa-39f2a42a7cb6"
      },
      "outputs": [
        {
          "name": "stdout",
          "output_type": "stream",
          "text": [
            "Odd\n"
          ]
        }
      ],
      "source": [
        "x = 15\n",
        "result = \"Even\" if x % 2 == 0 else \"Odd\"\n",
        "print(result)"
      ]
    },
    {
      "cell_type": "markdown",
      "id": "f96ca5f8",
      "metadata": {
        "id": "f96ca5f8"
      },
      "source": [
        "## For Loops\n",
        "\n",
        "### For loops are used to iterate over a sequence (such as a list, tuple, or string) and execute a block of code for each element in the sequence.\n",
        "\n",
        "### Syntax:\n",
        "\n",
        "#### for item in iterable:\n",
        "        # Code block to execute for each item\n",
        "\n"
      ]
    },
    {
      "cell_type": "code",
      "execution_count": null,
      "id": "5dc0be61",
      "metadata": {
        "id": "5dc0be61",
        "outputId": "7a7adfa9-0220-4eac-b757-8b9534605cc1"
      },
      "outputs": [
        {
          "name": "stdout",
          "output_type": "stream",
          "text": [
            "apple\n",
            "banana\n",
            "orange\n",
            "mango\n"
          ]
        }
      ],
      "source": [
        "#iterating over a list\n",
        "list_ = ['apple','banana','orange','mango']\n",
        "for item in list_:\n",
        "    print(item)"
      ]
    },
    {
      "cell_type": "code",
      "execution_count": null,
      "id": "d3b18e4e",
      "metadata": {
        "id": "d3b18e4e",
        "outputId": "ff04ff12-8825-4320-ed45-2775d7e7b913"
      },
      "outputs": [
        {
          "name": "stdout",
          "output_type": "stream",
          "text": [
            "1\n",
            "3\n",
            "5\n",
            "7\n",
            "9\n",
            "11\n",
            "13\n",
            "15\n"
          ]
        }
      ],
      "source": [
        "#iterating over a list to print odd numbers\n",
        "list_ = [1,2,3,4,5,6,7,8,9,10,11,12,13,14,15]\n",
        "for i in list_:\n",
        "    if i % 2 == 1:\n",
        "        print(i)"
      ]
    },
    {
      "cell_type": "code",
      "execution_count": null,
      "id": "82069f4c",
      "metadata": {
        "id": "82069f4c",
        "outputId": "ca7a5e9e-7226-4a27-cec6-19361a571e4b"
      },
      "outputs": [
        {
          "name": "stdout",
          "output_type": "stream",
          "text": [
            "name:Precious\n",
            "age:28\n",
            "city:New York\n"
          ]
        }
      ],
      "source": [
        "#iterating over a dictionary\n",
        "person = {'name': 'Precious','age': 28,'city':'New York'}\n",
        "for key, value in person.items():\n",
        "    print(f\"{key}:{value}\")"
      ]
    },
    {
      "cell_type": "code",
      "execution_count": null,
      "id": "4a5b3a35",
      "metadata": {
        "id": "4a5b3a35",
        "outputId": "2e3fb76c-f1bd-4c06-abeb-100a80b737e1"
      },
      "outputs": [
        {
          "name": "stdout",
          "output_type": "stream",
          "text": [
            "350\n"
          ]
        }
      ],
      "source": [
        "#iterating to get sum\n",
        "list_ = [20,30,40,50,60,70,80]\n",
        "total = 0\n",
        "for item in list_:\n",
        "    total += item\n",
        "print(total)\n"
      ]
    }
  ],
  "metadata": {
    "kernelspec": {
      "display_name": "Python 3 (ipykernel)",
      "language": "python",
      "name": "python3"
    },
    "language_info": {
      "codemirror_mode": {
        "name": "ipython",
        "version": 3
      },
      "file_extension": ".py",
      "mimetype": "text/x-python",
      "name": "python",
      "nbconvert_exporter": "python",
      "pygments_lexer": "ipython3",
      "version": "3.8.1"
    },
    "colab": {
      "provenance": []
    }
  },
  "nbformat": 4,
  "nbformat_minor": 5
}
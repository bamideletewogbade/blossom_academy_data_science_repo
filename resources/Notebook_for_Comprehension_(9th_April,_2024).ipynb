{
  "cells": [
    {
      "cell_type": "markdown",
      "id": "756bec8b",
      "metadata": {
        "id": "756bec8b"
      },
      "source": [
        "## Comments\n"
      ]
    },
    {
      "cell_type": "markdown",
      "id": "f6c9c31b",
      "metadata": {
        "id": "f6c9c31b"
      },
      "source": [
        "## Comments in Python:\n",
        "\n",
        "### Single-line Comments:\n",
        "\n",
        "#### Single-line comments begin with the # symbol and continue until the end of the line.\n",
        "#### They are used to provide short explanations or notes within the code.\n"
      ]
    },
    {
      "cell_type": "code",
      "execution_count": null,
      "id": "fded6d0d",
      "metadata": {
        "id": "fded6d0d"
      },
      "outputs": [],
      "source": [
        "#This is a single line comment\n",
        "x = 5 # assigning value to x"
      ]
    },
    {
      "cell_type": "code",
      "execution_count": null,
      "id": "794b523e",
      "metadata": {
        "id": "794b523e"
      },
      "outputs": [],
      "source": [
        "#This is a single line comment\n",
        "name = 'Precious' # assigning a value to the variable name"
      ]
    },
    {
      "cell_type": "markdown",
      "id": "3eb64fe5",
      "metadata": {
        "id": "3eb64fe5"
      },
      "source": [
        "## Multi-line Comments:\n",
        "\n",
        "#### Python does not have built-in syntax for multi-line comments, but you can use triple quotes (''' or \"\"\") to create multi-line strings, #### which are often used as multi-line comments.\n",
        "#### Multi-line comments are typically used for longer explanations or docstrings (documentation strings) for functions and modules.\n",
        "### Example:\n",
        "### '''\n",
        "#### This is a multi-line comment\n",
        "#### It spans multiple lines\n",
        "'''\n"
      ]
    },
    {
      "cell_type": "markdown",
      "id": "f58526a7",
      "metadata": {
        "id": "f58526a7"
      },
      "source": [
        "## Docstrings:\n",
        "\n",
        "#### Docstrings are special types of multi-line comments used to provide documentation for functions, classes, and modules.\n",
        "#### They are enclosed in triple quotes (''' or \"\"\") and appear directly below the declaration line.\n",
        "#### Docstrings can be accessed using the __doc__ attribute.\n",
        "\n"
      ]
    },
    {
      "cell_type": "code",
      "execution_count": null,
      "id": "50946fd5",
      "metadata": {
        "id": "50946fd5"
      },
      "outputs": [],
      "source": [
        "#doc strings\n",
        "def greet(name):\n",
        "    ''' This function greets\n",
        "    the user\n",
        "    '''\n",
        "    print(f\"Hello, {name}\")"
      ]
    },
    {
      "cell_type": "code",
      "execution_count": null,
      "id": "a7a7c4c5",
      "metadata": {
        "id": "a7a7c4c5",
        "outputId": "baf92a8f-1c58-4474-ebcc-0465d931cf02"
      },
      "outputs": [
        {
          "name": "stdout",
          "output_type": "stream",
          "text": [
            " This function greets \n",
            "    the user\n",
            "    \n"
          ]
        }
      ],
      "source": [
        "print(greet.__doc__)"
      ]
    },
    {
      "cell_type": "markdown",
      "id": "dc62e8ac",
      "metadata": {
        "id": "dc62e8ac"
      },
      "source": [
        "## Comprehensions in Python:\n",
        "\n",
        "### List Comprehension:\n",
        "\n",
        "#### List comprehension is a concise way to create lists in Python by applying an expression to each item in an iterable.\n",
        "### Syntax:\n",
        "#### [expression for item in iterable if condition]\n"
      ]
    },
    {
      "cell_type": "markdown",
      "id": "68c1c488",
      "metadata": {
        "id": "68c1c488"
      },
      "source": [
        "### Basic List Comprehension"
      ]
    },
    {
      "cell_type": "code",
      "execution_count": null,
      "id": "a9b87da0",
      "metadata": {
        "id": "a9b87da0"
      },
      "outputs": [],
      "source": [
        "numbers = [1,2,3,4,5,6,7,8,9,10]\n",
        "square = []\n",
        "for i in numbers:\n",
        "    num = i ** 2\n",
        "    square.append(num)"
      ]
    },
    {
      "cell_type": "code",
      "execution_count": null,
      "id": "7807e18a",
      "metadata": {
        "id": "7807e18a",
        "outputId": "c6d1e7c4-d722-49db-9a98-3205ed860f0e"
      },
      "outputs": [
        {
          "name": "stdout",
          "output_type": "stream",
          "text": [
            "[1, 4, 9, 16, 25, 36, 49, 64, 81, 100]\n"
          ]
        }
      ],
      "source": [
        "print(square)"
      ]
    },
    {
      "cell_type": "code",
      "execution_count": null,
      "id": "f5a598aa",
      "metadata": {
        "id": "f5a598aa",
        "outputId": "06b296ed-4845-4ce1-ebcc-7c0f105d5e16"
      },
      "outputs": [
        {
          "name": "stdout",
          "output_type": "stream",
          "text": [
            "[1, 4, 9, 16, 25, 36, 49, 64, 81, 100]\n"
          ]
        }
      ],
      "source": [
        "squared = [x**2 for x in numbers]\n",
        "print(squared)"
      ]
    },
    {
      "cell_type": "code",
      "execution_count": null,
      "id": "aa1fcc13",
      "metadata": {
        "id": "aa1fcc13",
        "outputId": "e1a424a0-6978-4fc2-e4ba-36b60d0d9b12"
      },
      "outputs": [
        {
          "name": "stdout",
          "output_type": "stream",
          "text": [
            "[8, 27, 64, 125, 216]\n"
          ]
        }
      ],
      "source": [
        "num = [2,3,4,5,6]\n",
        "cube = [x**3 for x in num]\n",
        "print(cube)"
      ]
    },
    {
      "cell_type": "markdown",
      "id": "fdce9f8a",
      "metadata": {
        "id": "fdce9f8a"
      },
      "source": [
        "### List Comprehension with a condition"
      ]
    },
    {
      "cell_type": "code",
      "execution_count": null,
      "id": "e4698a2d",
      "metadata": {
        "id": "e4698a2d",
        "outputId": "e65dffc1-83eb-4e58-b9b1-20b4b7b31689"
      },
      "outputs": [
        {
          "name": "stdout",
          "output_type": "stream",
          "text": [
            "[2, 4, 6, 8, 10]\n"
          ]
        }
      ],
      "source": [
        "numbers = [1,2,3,4,5,6,7,8,9,10]\n",
        "even_number = [x for x in numbers if x % 2 == 0]\n",
        "print(even_number)"
      ]
    },
    {
      "cell_type": "code",
      "execution_count": null,
      "id": "2c248423",
      "metadata": {
        "id": "2c248423",
        "outputId": "21f9abee-db5a-4143-b78c-8e80e96883e3"
      },
      "outputs": [
        {
          "name": "stdout",
          "output_type": "stream",
          "text": [
            "[1, 3, 5, 7, 9]\n"
          ]
        }
      ],
      "source": [
        "numbers = [1,2,3,4,5,6,7,8,9,10]\n",
        "odd_number = [x for x in numbers if x % 2 == 1]\n",
        "print(odd_number)"
      ]
    },
    {
      "cell_type": "markdown",
      "id": "8bdf38a0",
      "metadata": {
        "id": "8bdf38a0"
      },
      "source": [
        "### Nested List Comprehension"
      ]
    },
    {
      "cell_type": "code",
      "execution_count": null,
      "id": "786ea881",
      "metadata": {
        "id": "786ea881",
        "outputId": "6182b815-9d25-43e5-fcdc-340ad5652ed5"
      },
      "outputs": [
        {
          "name": "stdout",
          "output_type": "stream",
          "text": [
            "[[1, 1, 1, 1], [2, 2, 2, 2], [3, 3, 3, 3]]\n"
          ]
        }
      ],
      "source": [
        "repeated_list = [[x]*4 for x in range(1,4)]\n",
        "print(repeated_list)"
      ]
    },
    {
      "cell_type": "markdown",
      "id": "ad512485",
      "metadata": {
        "id": "ad512485"
      },
      "source": [
        "### List Comprehension with String Manipulation"
      ]
    },
    {
      "cell_type": "code",
      "execution_count": null,
      "id": "b67a03b9",
      "metadata": {
        "id": "b67a03b9",
        "outputId": "c9ee1167-da19-432b-99e3-720607cda5c9"
      },
      "outputs": [
        {
          "name": "stdout",
          "output_type": "stream",
          "text": [
            "['e', 'o', 'o']\n"
          ]
        }
      ],
      "source": [
        "sentence = \"Hello World\"\n",
        "vowels = [char for char in sentence if char.lower() in 'aeiou']\n",
        "print(vowels)"
      ]
    },
    {
      "cell_type": "code",
      "execution_count": null,
      "id": "701dbfb6",
      "metadata": {
        "id": "701dbfb6",
        "outputId": "fbdc2b80-2d17-4c80-f84b-c2ffbae8a54b"
      },
      "outputs": [
        {
          "name": "stdout",
          "output_type": "stream",
          "text": [
            "['H', 'l', 'l', 'W', 'r', 'l', 'd']\n"
          ]
        }
      ],
      "source": [
        "sentence = \"HelloWorld\"\n",
        "consonant = [alphabet for alphabet in sentence if alphabet.lower() not in 'aeiou']\n",
        "print(consonant)"
      ]
    },
    {
      "cell_type": "markdown",
      "id": "0333d24a",
      "metadata": {
        "id": "0333d24a"
      },
      "source": [
        "### List Comprehension with tuple unpacking"
      ]
    },
    {
      "cell_type": "code",
      "execution_count": 2,
      "id": "3f2007cd",
      "metadata": {
        "id": "3f2007cd",
        "outputId": "52bc9f1f-fcce-450e-c92a-bd5ee8d7fd9a"
      },
      "outputs": [
        {
          "name": "stdout",
          "output_type": "stream",
          "text": [
            "[1, 2, 3]\n"
          ]
        }
      ],
      "source": [
        "Pairs =  [(1,'one'),(2,'two'),(3,'three')]\n",
        "Flattened_ = [num for num,word in Pairs]\n",
        "print(Flattened_)"
      ]
    },
    {
      "cell_type": "code",
      "execution_count": null,
      "id": "eae58d8d",
      "metadata": {
        "id": "eae58d8d",
        "outputId": "5aea4871-7552-4d9d-c79e-5c09c35fcaa4"
      },
      "outputs": [
        {
          "name": "stdout",
          "output_type": "stream",
          "text": [
            "['one', 'two', 'three']\n"
          ]
        }
      ],
      "source": [
        "Pairs =  [(1,'one'),(2,'two'),(3,'three')]\n",
        "FLatted_ = [word for num,word in Pairs]\n",
        "print(FLatted_)"
      ]
    },
    {
      "cell_type": "code",
      "execution_count": 3,
      "id": "33bd740c",
      "metadata": {
        "id": "33bd740c",
        "outputId": "cac06dcc-aa8a-4b82-9068-ebfccea6e262"
      },
      "outputs": [
        {
          "name": "stdout",
          "output_type": "stream",
          "text": [
            "[1, 2, 3]\n"
          ]
        }
      ],
      "source": [
        "Pairs =  [(1,'one'),(2,'two'),(3,'three')]\n",
        "FLatted_ = [x for x,y in Pairs]\n",
        "print(FLatted_)"
      ]
    },
    {
      "cell_type": "markdown",
      "id": "a366eaa9",
      "metadata": {
        "id": "a366eaa9"
      },
      "source": [
        "### Answers to questions asked"
      ]
    },
    {
      "cell_type": "code",
      "execution_count": null,
      "id": "949081db",
      "metadata": {
        "id": "949081db",
        "outputId": "3132900b-c69a-408c-bc66-e1c497bcb043"
      },
      "outputs": [
        {
          "name": "stdout",
          "output_type": "stream",
          "text": [
            "[(1, 'odd'), (2, 'even'), (3, 'odd'), (4, 'even'), (5, 'odd'), (6, 'even'), (7, 'odd'), (8, 'even'), (9, 'odd'), (10, 'even')]\n"
          ]
        }
      ],
      "source": [
        "numbers = [1,2,3,4,5,6,7,8,9,10]\n",
        "number = [(element,'even') if element % 2 == 0 else (element,'odd') for element in numbers]\n",
        "print(number)"
      ]
    },
    {
      "cell_type": "markdown",
      "id": "ef1e451a",
      "metadata": {
        "id": "ef1e451a"
      },
      "source": [
        "### For the lady who inquired about having a variable to save even numbers and odd numbers:"
      ]
    },
    {
      "cell_type": "markdown",
      "id": "c0a2c489",
      "metadata": {
        "id": "c0a2c489"
      },
      "source": [
        "#### These are what I meant by my earlier explanation during the class today."
      ]
    },
    {
      "cell_type": "markdown",
      "id": "36dc0198",
      "metadata": {
        "id": "36dc0198"
      },
      "source": [
        "\n",
        "\n",
        "#### 1. You need to create two variables, one to store even numbers and the other to store odd numbers.\n",
        "#### 2. You can use the filter method to extract even numbers and odd numbers separately.\n",
        "#### 3. Save the extracted even numbers in the variable \"even_numbers\" and the extracted odd numbers in the variable #### \"odd_numbers.\"\n",
        "#### 4. Then you can obtain the two desired lists."
      ]
    },
    {
      "cell_type": "code",
      "execution_count": 7,
      "id": "4dec0163",
      "metadata": {
        "id": "4dec0163"
      },
      "outputs": [
        {
          "name": "stdout",
          "output_type": "stream",
          "text": [
            "[(2, 'even'), (4, 'even'), (6, 'even'), (8, 'even'), (10, 'even')]\n"
          ]
        }
      ],
      "source": [
        "numbers = [1,2,3,4,5,6,7,8,9,10]\n",
        "even_number,odd_number = list(filter(lambda x: x[1] == 'even',[(element,'even') if element % 2 == 0 else (element,'odd') for element in numbers])),list(filter(lambda x: x[1] == 'odd',[(element,'even') if element % 2 == 0 else (element,'odd') for element in numbers]))"
      ]
    },
    {
      "cell_type": "code",
      "execution_count": null,
      "id": "d83a2441",
      "metadata": {
        "id": "d83a2441",
        "outputId": "1729be98-614e-4eb9-bcdf-cae890089d53"
      },
      "outputs": [
        {
          "name": "stdout",
          "output_type": "stream",
          "text": [
            "[(1, 'odd'), (3, 'odd'), (5, 'odd'), (7, 'odd'), (9, 'odd')]\n"
          ]
        }
      ],
      "source": [
        "print(odd_number)"
      ]
    },
    {
      "cell_type": "code",
      "execution_count": null,
      "id": "f757bed9",
      "metadata": {
        "id": "f757bed9",
        "outputId": "bfab8246-3407-4b3e-a18b-acd799526f9d"
      },
      "outputs": [
        {
          "name": "stdout",
          "output_type": "stream",
          "text": [
            "[(2, 'even'), (4, 'even'), (6, 'even'), (8, 'even'), (10, 'even')]\n"
          ]
        }
      ],
      "source": [
        "print(even_number)"
      ]
    },
    {
      "cell_type": "markdown",
      "id": "77c5146b",
      "metadata": {
        "id": "77c5146b"
      },
      "source": [
        "### List Comprehension with Function"
      ]
    },
    {
      "cell_type": "code",
      "execution_count": null,
      "id": "904c420e",
      "metadata": {
        "id": "904c420e",
        "outputId": "b8dcf280-7dde-47f5-c0cf-786019bf3f01"
      },
      "outputs": [
        {
          "name": "stdout",
          "output_type": "stream",
          "text": [
            "[1, 4, 9, 16, 25, 36]\n"
          ]
        }
      ],
      "source": [
        "def square(x):\n",
        "    return x ** 2\n",
        "numbers = [1,2,3,4,5,6]\n",
        "squared_numbers = [square(x) for x in numbers]\n",
        "print(squared_numbers)"
      ]
    },
    {
      "cell_type": "code",
      "execution_count": null,
      "id": "a37d1e6b",
      "metadata": {
        "id": "a37d1e6b",
        "outputId": "ed410821-88f4-4495-8113-f74ccf77b365"
      },
      "outputs": [
        {
          "name": "stdout",
          "output_type": "stream",
          "text": [
            "[5, 6, 7, 8, 9, 10]\n"
          ]
        }
      ],
      "source": [
        "def add(y):\n",
        "    return y + 4\n",
        "numbers = [1,2,3,4,5,6]\n",
        "add_numbers = [add(y) for y in numbers]\n",
        "print(add_numbers)"
      ]
    },
    {
      "cell_type": "markdown",
      "id": "134455a5",
      "metadata": {
        "id": "134455a5"
      },
      "source": [
        "### Using if-else inside List Comprehension"
      ]
    },
    {
      "cell_type": "code",
      "execution_count": null,
      "id": "ea5a0655",
      "metadata": {
        "id": "ea5a0655",
        "outputId": "7f7b893a-dcfd-4161-c4a8-25f3820d8ce6"
      },
      "outputs": [
        {
          "name": "stdout",
          "output_type": "stream",
          "text": [
            "['odd', 2, 'odd', 4, 'odd', 6, 'odd', 8, 'odd', 10]\n"
          ]
        }
      ],
      "source": [
        "numbers = [1,2,3,4,5,6,7,8,9,10]\n",
        "category = [x if x % 2 == 0 else 'odd' for x in numbers]\n",
        "print(category)"
      ]
    },
    {
      "cell_type": "code",
      "execution_count": null,
      "id": "e0dedfa0",
      "metadata": {
        "id": "e0dedfa0",
        "outputId": "50e8a419-d32c-44e4-d172-b90fabbbf477"
      },
      "outputs": [
        {
          "name": "stdout",
          "output_type": "stream",
          "text": [
            "['odd', 'odd', 'odd', 'odd', 'odd']\n"
          ]
        }
      ],
      "source": [
        "numbers = [1,2,3,4,5,6,7,8,9,10]\n",
        "category = ['odd' for x in numbers if x % 2 == 1]\n",
        "print(category)"
      ]
    },
    {
      "cell_type": "markdown",
      "id": "40afc700",
      "metadata": {
        "id": "40afc700"
      },
      "source": [
        "## Dictionary Comprehension\n",
        "\n",
        "#### Dictionary comprehensions work similarly to list comprehensions but produce dictionaries instead of lists."
      ]
    },
    {
      "cell_type": "markdown",
      "id": "8bd86648",
      "metadata": {
        "id": "8bd86648"
      },
      "source": [
        "### Basic Dictionary Comprehension"
      ]
    },
    {
      "cell_type": "code",
      "execution_count": null,
      "id": "c6849126",
      "metadata": {
        "id": "c6849126",
        "outputId": "99482014-0883-4290-afb8-7a9f1b02cee6"
      },
      "outputs": [
        {
          "name": "stdout",
          "output_type": "stream",
          "text": [
            "{1: 1, 2: 4, 3: 9, 4: 16, 5: 25}\n"
          ]
        }
      ],
      "source": [
        "numbers = [1,2,3,4,5]\n",
        "squared_dict = {x:x**2 for x in numbers}# {1:1,2:4,3:9,4:16,5:25}\n",
        "print(squared_dict)"
      ]
    },
    {
      "cell_type": "markdown",
      "id": "39c08552",
      "metadata": {
        "id": "39c08552"
      },
      "source": [
        "### Using Zip for Dictionary Comprehension"
      ]
    },
    {
      "cell_type": "code",
      "execution_count": null,
      "id": "affebf84",
      "metadata": {
        "id": "affebf84",
        "outputId": "c9722beb-095e-4639-88c1-eb8a40b31919"
      },
      "outputs": [
        {
          "name": "stdout",
          "output_type": "stream",
          "text": [
            "{'a': 1, 'b': 2, 'c': 3}\n"
          ]
        }
      ],
      "source": [
        "keys = ['a','b','c']\n",
        "values = [1,2,3]\n",
        "zip_dict = {key:value for key,value in zip(keys,values)}\n",
        "print(zip_dict)"
      ]
    },
    {
      "cell_type": "code",
      "execution_count": null,
      "id": "12c63712",
      "metadata": {
        "id": "12c63712",
        "outputId": "b0445bf3-8530-4ab3-9b50-6d2757086174"
      },
      "outputs": [
        {
          "name": "stdout",
          "output_type": "stream",
          "text": [
            "{'a': 1, 'b': 2, 'c': 3}\n"
          ]
        }
      ],
      "source": [
        "dict_ = {}\n",
        "keys = ['a','b','c']\n",
        "values = [1,2,3]\n",
        "for key,value in zip(keys,values):\n",
        "    dict_[key] = value\n",
        "print(dict_)"
      ]
    },
    {
      "cell_type": "markdown",
      "id": "e1b39535",
      "metadata": {
        "id": "e1b39535"
      },
      "source": [
        "### Dictionary Comprehension with Function"
      ]
    },
    {
      "cell_type": "code",
      "execution_count": null,
      "id": "29e63a65",
      "metadata": {
        "id": "29e63a65",
        "outputId": "cc377f11-7c51-4773-ac2e-f7966e9b74d9"
      },
      "outputs": [
        {
          "name": "stdout",
          "output_type": "stream",
          "text": [
            "{1: 1, 2: 4, 3: 9, 4: 16}\n"
          ]
        }
      ],
      "source": [
        "def square(x):\n",
        "    return x**2\n",
        "numbers = [1,2,3,4]\n",
        "number_dict = {e:square(e) for e in numbers}\n",
        "print(number_dict)"
      ]
    },
    {
      "cell_type": "markdown",
      "id": "e6116626",
      "metadata": {
        "id": "e6116626"
      },
      "source": [
        "### Using if statement in Dictionary Comprehension"
      ]
    },
    {
      "cell_type": "code",
      "execution_count": null,
      "id": "972a300f",
      "metadata": {
        "id": "972a300f",
        "outputId": "a4ba319a-c621-4072-d216-f50f7c7dd863"
      },
      "outputs": [
        {
          "name": "stdout",
          "output_type": "stream",
          "text": [
            "{'b': 2, 'd': 4}\n"
          ]
        }
      ],
      "source": [
        "original_dict = {'a':1,'b':2,'c':3,'d':4}\n",
        "filtered_dict = {key:value for key,value in original_dict.items() if value % 2 == 0}\n",
        "print(filtered_dict)"
      ]
    },
    {
      "cell_type": "code",
      "execution_count": 13,
      "id": "fb62ed20",
      "metadata": {
        "id": "fb62ed20",
        "outputId": "9e7806fb-28cc-4776-d380-02b5aad623d9"
      },
      "outputs": [
        {
          "name": "stdout",
          "output_type": "stream",
          "text": [
            "{'a': 1, 'c': 3}\n"
          ]
        }
      ],
      "source": [
        "original_dict = {'a':1,'b':2,'c':3,'d':4}\n",
        "filtered_dict_odd = {key:value for key,value in original_dict.items() if value % 2 == 1}\n",
        "print(filtered_dict_odd)"
      ]
    },
    {
      "cell_type": "markdown",
      "id": "6cefd059",
      "metadata": {
        "id": "6cefd059"
      },
      "source": [
        "## Set Comprehension\n",
        "\n",
        "#### Set comprehensions work similarly to list and dictionary comprehensions but produce sets instead"
      ]
    },
    {
      "cell_type": "markdown",
      "id": "c0dd0abc",
      "metadata": {
        "id": "c0dd0abc"
      },
      "source": [
        "### Basic Set Comprehension\n"
      ]
    },
    {
      "cell_type": "code",
      "execution_count": 10,
      "id": "06b8bf1c",
      "metadata": {
        "id": "06b8bf1c",
        "outputId": "759f7c2d-4786-4b5a-b0f4-ba706a5b5611"
      },
      "outputs": [
        {
          "name": "stdout",
          "output_type": "stream",
          "text": [
            "{64, 1, 8, 216, 27, 125}\n",
            "<class 'set'>\n"
          ]
        }
      ],
      "source": [
        "numbers = {1,2,3,4,5,6}\n",
        "cube_set = {x**3 for x in numbers}\n",
        "print(cube_set)"
      ]
    },
    {
      "cell_type": "markdown",
      "id": "7110aaef",
      "metadata": {
        "id": "7110aaef"
      },
      "source": [
        "### Using if statement in Set Comprehension"
      ]
    },
    {
      "cell_type": "code",
      "execution_count": null,
      "id": "cc2ecb74",
      "metadata": {
        "id": "cc2ecb74",
        "outputId": "9abdcc1a-5efd-4477-e063-a66308ee25ac"
      },
      "outputs": [
        {
          "name": "stdout",
          "output_type": "stream",
          "text": [
            "{16, 64, 4, 36}\n"
          ]
        }
      ],
      "source": [
        "even_squares_set = {x*x for x in range(1,10) if x % 2 == 0}\n",
        "print(even_squares_set) ## {2,4,6,8}"
      ]
    },
    {
      "cell_type": "code",
      "execution_count": null,
      "id": "c00218d1",
      "metadata": {
        "id": "c00218d1",
        "outputId": "ee89c47c-c59e-4fe9-c31a-d7e012430624"
      },
      "outputs": [
        {
          "name": "stdout",
          "output_type": "stream",
          "text": [
            "[4, 16, 36, 64]\n"
          ]
        }
      ],
      "source": [
        "even_squares_list = [x*x for x in range(1,10) if x % 2 == 0]\n",
        "print(even_squares_list)"
      ]
    },
    {
      "cell_type": "markdown",
      "id": "3f857fa4",
      "metadata": {
        "id": "3f857fa4"
      },
      "source": [
        "### Set Comprehension with String Manipulation"
      ]
    },
    {
      "cell_type": "code",
      "execution_count": null,
      "id": "1189219d",
      "metadata": {
        "id": "1189219d",
        "outputId": "7ae5c448-a6eb-441f-b018-3fe7293ac1cd"
      },
      "outputs": [
        {
          "name": "stdout",
          "output_type": "stream",
          "text": [
            "{'w', 'e', 'h', 'd', 'o', 'r', 'l'}\n"
          ]
        }
      ],
      "source": [
        "strings = ['hello','world']\n",
        "unique_char_set = {char for string in strings for char in string}\n",
        "print(unique_char_set)"
      ]
    },
    {
      "cell_type": "code",
      "execution_count": null,
      "id": "c7c52f22",
      "metadata": {
        "id": "c7c52f22",
        "outputId": "c046bc50-6767-4f1c-e3f4-4e7603a3d3b1"
      },
      "outputs": [
        {
          "name": "stdout",
          "output_type": "stream",
          "text": [
            "{'w', 'e', 'h', 'd', 'o', 'r', 'l'}\n"
          ]
        }
      ],
      "source": [
        "set_ = set()\n",
        "for string in strings:\n",
        "    for char in string:\n",
        "        set_.add(char)\n",
        "print(set_)\n"
      ]
    },
    {
      "cell_type": "code",
      "execution_count": null,
      "id": "2656e69e",
      "metadata": {
        "id": "2656e69e",
        "outputId": "736f1341-a288-4256-cf30-2d80e7ad1c0e"
      },
      "outputs": [
        {
          "name": "stdout",
          "output_type": "stream",
          "text": [
            "{'e', 'o'}\n"
          ]
        }
      ],
      "source": [
        "sentence = \"Hello World\"\n",
        "vowel_set = {char for char in sentence if char.lower() in 'aeiou'}\n",
        "print(vowel_set)"
      ]
    },
    {
      "cell_type": "code",
      "execution_count": 9,
      "id": "cb77c6e1",
      "metadata": {
        "id": "cb77c6e1"
      },
      "outputs": [
        {
          "name": "stdout",
          "output_type": "stream",
          "text": [
            "4\n"
          ]
        }
      ],
      "source": [
        "x, y = 3, 4\n",
        "print(y)"
      ]
    },
    {
      "cell_type": "code",
      "execution_count": null,
      "id": "d4ec4c27",
      "metadata": {
        "id": "d4ec4c27"
      },
      "outputs": [],
      "source": []
    }
  ],
  "metadata": {
    "colab": {
      "provenance": []
    },
    "kernelspec": {
      "display_name": "Python 3 (ipykernel)",
      "language": "python",
      "name": "python3"
    },
    "language_info": {
      "codemirror_mode": {
        "name": "ipython",
        "version": 3
      },
      "file_extension": ".py",
      "mimetype": "text/x-python",
      "name": "python",
      "nbconvert_exporter": "python",
      "pygments_lexer": "ipython3",
      "version": "3.11.8"
    }
  },
  "nbformat": 4,
  "nbformat_minor": 5
}

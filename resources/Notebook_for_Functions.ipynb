{
  "cells": [
    {
      "cell_type": "markdown",
      "id": "ecd5023f",
      "metadata": {
        "id": "ecd5023f"
      },
      "source": [
        "## While Loops\n",
        "\n",
        "### While loops repeatedly execute a block of code as long as a specified condition is True.\n",
        "\n",
        "### Syntax:\n",
        "\n",
        "#### while condition:\n",
        "        # Code block to execute while condition is True\n"
      ]
    },
    {
      "cell_type": "code",
      "execution_count": null,
      "id": "cda5be53",
      "metadata": {
        "id": "cda5be53",
        "outputId": "2d40a021-a07f-43e0-ff14-981a6ccb57e4"
      },
      "outputs": [
        {
          "name": "stdout",
          "output_type": "stream",
          "text": [
            "1\n",
            "2\n",
            "3\n",
            "4\n",
            "5\n"
          ]
        }
      ],
      "source": [
        "# Looping and printing a value\n",
        "i = 1\n",
        "while i <= 5:\n",
        "    print(i)\n",
        "    i += 1\n"
      ]
    },
    {
      "cell_type": "code",
      "execution_count": 1,
      "id": "57dc1301",
      "metadata": {
        "id": "57dc1301",
        "outputId": "104df435-c07b-4529-e224-8175fe4d7953"
      },
      "outputs": [
        {
          "name": "stdout",
          "output_type": "stream",
          "text": [
            "Banana\n",
            "Cashew\n"
          ]
        }
      ],
      "source": [
        "#looping over a list and printing the items in the list\n",
        "emma = ['Apple','Banana', 'Cashew']\n",
        "i = 0\n",
        "while i <= 2:\n",
        "    print(emma[i])\n",
        "    i +=1"
      ]
    },
    {
      "cell_type": "code",
      "execution_count": 2,
      "id": "64029adf",
      "metadata": {
        "id": "64029adf",
        "outputId": "19b3c126-967d-4fbe-8985-0cae1afe7579"
      },
      "outputs": [
        {
          "name": "stdout",
          "output_type": "stream",
          "text": [
            "a 1\n",
            "b 2\n",
            "c 3\n"
          ]
        }
      ],
      "source": [
        "# Looping over a dictionary and printing each key-value pair\n",
        "my_dict = {'a': 1, 'b': 2, 'c': 3}\n",
        "keys = list(my_dict.keys())  # Convert dictionary keys to list for indexing\n",
        "index = 0\n",
        "while index < len(keys):\n",
        "    key = keys[index]\n",
        "    value = my_dict[key]\n",
        "    print(key, value)\n",
        "    index += 1\n"
      ]
    },
    {
      "cell_type": "code",
      "execution_count": 6,
      "id": "61df3cb2",
      "metadata": {
        "id": "61df3cb2",
        "outputId": "4d54ed17-a615-4af5-8074-743c66c706ae"
      },
      "outputs": [
        {
          "name": "stdout",
          "output_type": "stream",
          "text": [
            "Sum of numbers: 15\n",
            "Sum of numbers: 15\n"
          ]
        }
      ],
      "source": [
        "#Calculating the sum of numbers in a list using a while loop\n",
        "numbers = [1, 2, 3, 4, 5]\n",
        "total = 0\n",
        "index = 0\n",
        "while index < len(numbers):\n",
        "    total += numbers[index]\n",
        "    index += 1\n",
        "print(\"Sum of numbers:\", total)\n",
        "\n",
        "\n",
        "\n",
        "for i in range(len(numbers)):\n",
        "    total = total + numbers[i]\n",
        "print(\"Sum of numbers:\", total)\n",
        "\n",
        "\n"
      ]
    },
    {
      "cell_type": "markdown",
      "id": "ee7e18fe",
      "metadata": {
        "id": "ee7e18fe"
      },
      "source": [
        "## Functions and modules: Defining functions, modules, and importing\n"
      ]
    },
    {
      "cell_type": "markdown",
      "id": "ed100654",
      "metadata": {
        "id": "ed100654"
      },
      "source": [
        "## Defining Functions\n",
        "\n",
        "#### Functions are blocks of reusable code that perform a specific task. They help in organizing code, promoting reusability, and improving readability.\n",
        "\n",
        "### Syntax:\n",
        "\n",
        "#### def function_name(parameters):\n",
        "    \"\"\"Docstring\"\"\"\n",
        "    # Function body\n",
        "    return result\n",
        "\n",
        "\n"
      ]
    },
    {
      "cell_type": "code",
      "execution_count": null,
      "id": "34321919",
      "metadata": {
        "id": "34321919"
      },
      "outputs": [],
      "source": [
        "def add(num_1,cheddar):\n",
        "    \"\"\"This code adds two numbers.\"\"\"\n",
        "\n",
        "    new_force = num_1+cheddar\n",
        "\n",
        "    return new_force"
      ]
    },
    {
      "cell_type": "code",
      "execution_count": null,
      "id": "21f58343",
      "metadata": {
        "id": "21f58343",
        "outputId": "c703fd1e-45ce-4553-a846-d0694e426a42"
      },
      "outputs": [
        {
          "data": {
            "text/plain": [
              "77"
            ]
          },
          "execution_count": 18,
          "metadata": {},
          "output_type": "execute_result"
        }
      ],
      "source": [
        "add()"
      ]
    },
    {
      "cell_type": "code",
      "execution_count": null,
      "id": "e764de9e",
      "metadata": {
        "id": "e764de9e",
        "outputId": "0bab92fc-4e25-4654-dba4-974c17bb392c"
      },
      "outputs": [
        {
          "name": "stdout",
          "output_type": "stream",
          "text": [
            "Hello, Alice!\n"
          ]
        }
      ],
      "source": [
        "#Function to greet the user\n",
        "def greet(name):\n",
        "    \"\"\"Greets the user\"\"\"\n",
        "    return f\"Hello, {name}!\"\n",
        "\n",
        "# Calling the function\n",
        "message = greet(\"Alice\")\n",
        "print(message)  # Output: \"Hello, Alice!\"\n"
      ]
    },
    {
      "cell_type": "code",
      "execution_count": null,
      "id": "4e4c1498",
      "metadata": {
        "id": "4e4c1498",
        "outputId": "6d1ba8f5-cc27-4277-8887-2e9a4cb325b3"
      },
      "outputs": [
        {
          "name": "stdout",
          "output_type": "stream",
          "text": [
            "Sum: 7\n",
            "Product: 12\n"
          ]
        }
      ],
      "source": [
        "# Function to return the sum and product of two numbers\n",
        "def sum_and_product(a, b):\n",
        "    return a + b, a * b\n",
        "\n",
        "result = sum_and_product(3, 4)\n",
        "print(\"Sum:\", result[0])      # Output: 7\n",
        "print(\"Product:\", result[1])  # Output: 12\n"
      ]
    },
    {
      "cell_type": "markdown",
      "id": "93f1c8e1",
      "metadata": {
        "id": "93f1c8e1"
      },
      "source": [
        "## Lambda Functions:\n",
        "\n",
        "#### Lambda functions, also known as anonymous functions, are small, single-expression functions that can be defined inline using the lambda keyword.\n",
        "### They are useful for creating quick, throwaway functions without the need for a formal def statement."
      ]
    },
    {
      "cell_type": "code",
      "execution_count": null,
      "id": "1004f1a8",
      "metadata": {
        "id": "1004f1a8",
        "outputId": "2b0ab2cc-2af2-4a01-8565-bdecae16999e"
      },
      "outputs": [
        {
          "name": "stdout",
          "output_type": "stream",
          "text": [
            "8\n"
          ]
        }
      ],
      "source": [
        "#Adding the numbers\n",
        "add = lambda x, y: x + y\n",
        "print(add(3, 5))  # Output: 8\n"
      ]
    },
    {
      "cell_type": "markdown",
      "id": "f080cea9",
      "metadata": {
        "id": "f080cea9"
      },
      "source": [
        "## Built-in Functions:\n",
        "\n",
        "#### Python comes with several built-in functions that perform common operations efficiently.\n",
        "#### Here's an overview of some commonly used ones:"
      ]
    },
    {
      "cell_type": "markdown",
      "id": "233bb91d",
      "metadata": {
        "id": "233bb91d"
      },
      "source": [
        "### map(function, iterable):\n",
        "\n",
        "#### Applies the given function to each item in the iterable and returns a new iterable with the results.\n"
      ]
    },
    {
      "cell_type": "code",
      "execution_count": null,
      "id": "f8c20b80",
      "metadata": {
        "id": "f8c20b80",
        "outputId": "3e52b89f-09da-4aa9-ef6f-24911f9bcdd9"
      },
      "outputs": [
        {
          "name": "stdout",
          "output_type": "stream",
          "text": [
            "[1, 4, 9, 16, 25]\n"
          ]
        }
      ],
      "source": [
        "#Finding the square of the numbers in the list\n",
        "numbers = [1, 2, 3, 4, 5]\n",
        "squared = map(lambda x: x**2, numbers)\n",
        "print(list(squared))  # Output: [1, 4, 9, 16, 25]\n"
      ]
    },
    {
      "cell_type": "code",
      "execution_count": null,
      "id": "a96c10fc",
      "metadata": {
        "id": "a96c10fc",
        "outputId": "1f213ab9-e30d-4b5c-e784-68eeb686084e"
      },
      "outputs": [
        {
          "name": "stdout",
          "output_type": "stream",
          "text": [
            "[32.0, 50.0, 68.0, 86.0, 104.0]\n"
          ]
        }
      ],
      "source": [
        "#Converting temperatures from Celsius to Fahrenheit using map:\n",
        "temps_celsius = [0, 10, 20, 30, 40]\n",
        "temps_fahrenheit = map(lambda c: (c * 9/5) + 32, temps_celsius)\n",
        "print(list(temps_fahrenheit))  # Output: [32.0, 50.0, 68.0, 86.0, 104.0]\n"
      ]
    },
    {
      "cell_type": "code",
      "execution_count": null,
      "id": "ea2bff32",
      "metadata": {
        "id": "ea2bff32",
        "outputId": "06813d23-642a-4fba-e762-74e554d8c33a"
      },
      "outputs": [
        {
          "name": "stdout",
          "output_type": "stream",
          "text": [
            "['Hello', 'World', 'Python']\n"
          ]
        }
      ],
      "source": [
        "#Capitalizing the first letter of each word in a list of strings using map:\n",
        "words = [\"hello\", \"world\", \"python\"]\n",
        "capitalized_words = map(lambda w: w.capitalize(), words)\n",
        "print(list(capitalized_words))  # Output: ['Hello', 'World', 'Python']\n"
      ]
    },
    {
      "cell_type": "markdown",
      "id": "89898080",
      "metadata": {
        "id": "89898080"
      },
      "source": [
        "### filter(function, iterable):\n",
        "\n",
        "#### Filters elements from an iterable based on the given function's truthiness."
      ]
    },
    {
      "cell_type": "code",
      "execution_count": null,
      "id": "9ec9e790",
      "metadata": {
        "id": "9ec9e790",
        "outputId": "16a5ac62-1e08-4d84-f63e-575bf38a389e"
      },
      "outputs": [
        {
          "name": "stdout",
          "output_type": "stream",
          "text": [
            "[2, 4]\n"
          ]
        }
      ],
      "source": [
        "#Finding the even numbers in the list\n",
        "numbers = [1, 2, 3, 4, 5]\n",
        "evens = filter(lambda x: x % 2 == 0, numbers)\n",
        "print(list(evens))  # Output: [2, 4]\n"
      ]
    },
    {
      "cell_type": "code",
      "execution_count": null,
      "id": "b2935bd6",
      "metadata": {
        "id": "b2935bd6",
        "outputId": "57222390-d5aa-4b54-d61f-ca09ce81ef78"
      },
      "outputs": [
        {
          "name": "stdout",
          "output_type": "stream",
          "text": [
            "[5, 3, 8]\n"
          ]
        }
      ],
      "source": [
        "#Filtering out negative numbers from a list:\n",
        "numbers = [-2, 5, -7, 3, -1, 8]\n",
        "positive_numbers = filter(lambda x: x >= 0, numbers)\n",
        "print(list(positive_numbers))  # Output: [5, 3, 8]\n"
      ]
    },
    {
      "cell_type": "code",
      "execution_count": null,
      "id": "f7c02f99",
      "metadata": {
        "id": "f7c02f99",
        "outputId": "9e67392b-9669-4628-d7b0-d21292c192b0"
      },
      "outputs": [
        {
          "name": "stdout",
          "output_type": "stream",
          "text": [
            "[2, 4, 6, 8, 10]\n"
          ]
        }
      ],
      "source": [
        "# Filtering out even numbers from a list:\n",
        "numbers = [1, 2, 3, 4, 5, 6, 7, 8, 9, 10]\n",
        "even_numbers = filter(lambda x: x % 2 == 0, numbers)\n",
        "print(list(even_numbers))  # Output: [2, 4, 6, 8, 10]\n"
      ]
    },
    {
      "cell_type": "markdown",
      "id": "b6d06c3a",
      "metadata": {
        "id": "b6d06c3a"
      },
      "source": [
        "### reduce(function, iterable[, initializer]):\n",
        "\n",
        "#### Applies the given function cumulatively to the items of the iterable, from left to right,\n",
        "#### to reduce the iterable to a single value."
      ]
    },
    {
      "cell_type": "code",
      "execution_count": null,
      "id": "25b65471",
      "metadata": {
        "id": "25b65471",
        "outputId": "281e1bd1-7887-4e78-ecb1-bb100d0dd5d7"
      },
      "outputs": [
        {
          "name": "stdout",
          "output_type": "stream",
          "text": [
            "120\n"
          ]
        }
      ],
      "source": [
        "#Finding the product of the elements in the list\n",
        "from functools import reduce\n",
        "numbers = [1, 2, 3, 4, 5]\n",
        "product = reduce(lambda x, y: x * y, numbers)\n",
        "print(product)  # Output: 120 (1*2*3*4*5)\n"
      ]
    },
    {
      "cell_type": "code",
      "execution_count": null,
      "id": "5b1c38fd",
      "metadata": {
        "id": "5b1c38fd",
        "outputId": "0d6f73bf-5ff2-49d5-a9c1-15917fd71e1b"
      },
      "outputs": [
        {
          "name": "stdout",
          "output_type": "stream",
          "text": [
            "8\n"
          ]
        }
      ],
      "source": [
        "#Finding the maximum element in a list using reduce:\n",
        "numbers = [3, 8, 1, 6, 5]\n",
        "max_num = reduce(lambda x, y: x if x > y else y, numbers)\n",
        "print(max_num)  # Output: 8\n"
      ]
    },
    {
      "cell_type": "markdown",
      "id": "d2ac039d",
      "metadata": {
        "id": "d2ac039d"
      },
      "source": [
        "### sum(iterable[, start]):\n",
        "\n",
        "#### Returns the sum of all elements in the iterable."
      ]
    },
    {
      "cell_type": "code",
      "execution_count": null,
      "id": "efd674db",
      "metadata": {
        "id": "efd674db",
        "outputId": "68cad959-66fd-4327-f76f-cb5c2421e07f"
      },
      "outputs": [
        {
          "name": "stdout",
          "output_type": "stream",
          "text": [
            "15\n"
          ]
        }
      ],
      "source": [
        "#find the sum of the numbers in the list\n",
        "numbers = [1, 2, 3, 4, 5]\n",
        "total = sum(numbers)\n",
        "print(total)  # Output: 15\n"
      ]
    },
    {
      "cell_type": "markdown",
      "id": "66a754db",
      "metadata": {
        "id": "66a754db"
      },
      "source": [
        "### max(iterable[, key, default]):\n",
        "\n",
        "#### Returns the maximum element from the iterable."
      ]
    },
    {
      "cell_type": "code",
      "execution_count": null,
      "id": "aa8a1e99",
      "metadata": {
        "id": "aa8a1e99",
        "outputId": "ace01526-ce9d-4a5b-9263-9c8fbed9cb32"
      },
      "outputs": [
        {
          "name": "stdout",
          "output_type": "stream",
          "text": [
            "5\n"
          ]
        }
      ],
      "source": [
        "#Finding the maximum value in a list\n",
        "numbers = [1, 2, 3, 4, 5]\n",
        "max_num = max(numbers)\n",
        "print(max_num)  # Output: 5\n"
      ]
    },
    {
      "cell_type": "code",
      "execution_count": null,
      "id": "062e6eb2",
      "metadata": {
        "id": "062e6eb2",
        "outputId": "2365ada3-18da-4c79-9316-706e52322cf4"
      },
      "outputs": [
        {
          "name": "stdout",
          "output_type": "stream",
          "text": [
            "banana\n"
          ]
        }
      ],
      "source": [
        "#Finding the longest string in a list:\n",
        "strings = [\"apple\", \"banana\", \"orange\", \"kiwi\"]\n",
        "longest_string = max(strings, key=len)\n",
        "print(longest_string)  # Output: \"banana\"\n"
      ]
    },
    {
      "cell_type": "markdown",
      "id": "27a6d9bb",
      "metadata": {
        "id": "27a6d9bb"
      },
      "source": [
        "### min(iterable[, key, default]):\n",
        "\n",
        "#### Returns the minimum element from the iterable."
      ]
    },
    {
      "cell_type": "code",
      "execution_count": null,
      "id": "25486e83",
      "metadata": {
        "id": "25486e83",
        "outputId": "e8ca6d5c-d10d-47a5-955b-f8dae7dd066e"
      },
      "outputs": [
        {
          "name": "stdout",
          "output_type": "stream",
          "text": [
            "1\n"
          ]
        }
      ],
      "source": [
        "#Finding the minimum value in a list\n",
        "numbers = [1, 2, 3, 4, 5]\n",
        "min_num = min(numbers)\n",
        "print(min_num)  # Output: 1\n"
      ]
    },
    {
      "cell_type": "code",
      "execution_count": null,
      "id": "6c247616",
      "metadata": {
        "id": "6c247616",
        "outputId": "faafe681-f3ea-4d7e-fc7d-dd462f6889f3"
      },
      "outputs": [
        {
          "name": "stdout",
          "output_type": "stream",
          "text": [
            "75\n"
          ]
        }
      ],
      "source": [
        "#Finding the minimum value in a dictionary:\n",
        "scores = {\"Alice\": 85, \"Bob\": 90, \"Charlie\": 75}\n",
        "min_score = min(scores.values())\n",
        "print(min_score)  # Output: 75\n"
      ]
    },
    {
      "cell_type": "code",
      "execution_count": null,
      "id": "29e0e5e4",
      "metadata": {
        "id": "29e0e5e4"
      },
      "outputs": [],
      "source": []
    }
  ],
  "metadata": {
    "colab": {
      "provenance": []
    },
    "kernelspec": {
      "display_name": "Python 3 (ipykernel)",
      "language": "python",
      "name": "python3"
    },
    "language_info": {
      "codemirror_mode": {
        "name": "ipython",
        "version": 3
      },
      "file_extension": ".py",
      "mimetype": "text/x-python",
      "name": "python",
      "nbconvert_exporter": "python",
      "pygments_lexer": "ipython3",
      "version": "3.11.8"
    }
  },
  "nbformat": 4,
  "nbformat_minor": 5
}

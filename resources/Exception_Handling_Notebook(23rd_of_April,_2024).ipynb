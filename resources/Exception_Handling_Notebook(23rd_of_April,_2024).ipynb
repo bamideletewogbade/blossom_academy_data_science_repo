{
  "cells": [
    {
      "cell_type": "markdown",
      "id": "612928c0",
      "metadata": {
        "id": "612928c0"
      },
      "source": [
        "# Exception Handling"
      ]
    },
    {
      "cell_type": "markdown",
      "id": "c6f74796",
      "metadata": {
        "id": "c6f74796"
      },
      "source": [
        "#### Exception handling in Python is a critical aspect of writing robust and reliable code. It allows you to gracefully manage errors that might occur during program execution."
      ]
    },
    {
      "cell_type": "markdown",
      "id": "5e689844",
      "metadata": {
        "id": "5e689844"
      },
      "source": [
        "## Exceptions\n"
      ]
    },
    {
      "cell_type": "markdown",
      "id": "477ed46a",
      "metadata": {
        "id": "477ed46a"
      },
      "source": [
        "#### In Python, an exception is an event that disrupts the normal flow of the program's instructions. When an error occurs during execution, Python raises an exception."
      ]
    },
    {
      "cell_type": "markdown",
      "id": "cceb1dad",
      "metadata": {
        "id": "cceb1dad"
      },
      "source": [
        "## Syntax of try, except, else, and finally"
      ]
    },
    {
      "cell_type": "markdown",
      "id": "a646c993",
      "metadata": {
        "id": "a646c993"
      },
      "source": [
        "#### try: This block is used to wrap the code that might raise an exception.\n",
        "#### except: This block is executed if an exception occurs inside the try block.\n",
        "#### else: This block is executed if no exception occurs in the try block.\n",
        "#### finally: This block of code is always executed, whether an exception occurred or not. It's usually used for cleanup operations."
      ]
    },
    {
      "cell_type": "markdown",
      "id": "cfb32d7b",
      "metadata": {
        "id": "cfb32d7b"
      },
      "source": [
        "## Common Exceptions"
      ]
    },
    {
      "cell_type": "markdown",
      "id": "138833c0",
      "metadata": {
        "id": "138833c0"
      },
      "source": [
        "\n",
        "#### SyntaxError: Raised when there is a syntax error in the code.\n",
        "#### NameError: Raised when a local or global name is not found.\n",
        "#### TypeError: Raised when an operation or function is applied to an object of an inappropriate type.\n",
        "#### ValueError: Raised when a built-in operation or function receives an argument that has the right type but an inappropriate value.\n",
        "#### FileNotFoundError: Raised when a file or directory is requested but doesn't exist.\n",
        "#### ZeroDivisionError: Raised when the second operand of a division or modulo operation is zero."
      ]
    },
    {
      "cell_type": "markdown",
      "id": "fada41e0",
      "metadata": {
        "id": "fada41e0"
      },
      "source": [
        "## Handling Exceptions"
      ]
    },
    {
      "cell_type": "markdown",
      "id": "abbc6c49",
      "metadata": {
        "id": "abbc6c49"
      },
      "source": [
        "### Handling Specific Exceptions"
      ]
    },
    {
      "cell_type": "code",
      "execution_count": null,
      "id": "f69df6f6",
      "metadata": {
        "id": "f69df6f6",
        "outputId": "31719d79-d895-4a2d-875b-15b809b27ed0"
      },
      "outputs": [
        {
          "name": "stdout",
          "output_type": "stream",
          "text": [
            "You can't divide by zero!\n"
          ]
        }
      ],
      "source": [
        "#Handling Specific Exceptions\n",
        "try:\n",
        "    result = 10 / 0\n",
        "except ZeroDivisionError:\n",
        "    print(\"You can't divide by zero!\")\n"
      ]
    },
    {
      "cell_type": "code",
      "execution_count": null,
      "id": "ae91d0d8",
      "metadata": {
        "id": "ae91d0d8",
        "outputId": "83ff77f3-e7a6-4897-84ce-21c6fbdaaa92"
      },
      "outputs": [
        {
          "name": "stdout",
          "output_type": "stream",
          "text": [
            "SyntaxError in the code: invalid syntax (<string>, line 3)\n"
          ]
        }
      ],
      "source": [
        "code_to_execute = \"\"\"\n",
        "result = (10 + 5\n",
        "print(\"Result:\", result)\n",
        "\"\"\"\n",
        "\n",
        "try:\n",
        "    exec(code_to_execute)\n",
        "except SyntaxError as e:\n",
        "    print(\"SyntaxError in the code:\", e)\n"
      ]
    },
    {
      "cell_type": "code",
      "execution_count": null,
      "id": "10e5cf04",
      "metadata": {
        "id": "10e5cf04",
        "outputId": "822fd9b3-0a15-4400-ed20-12ab95b4a94e"
      },
      "outputs": [
        {
          "name": "stdout",
          "output_type": "stream",
          "text": [
            "NameError: name 'undefined_variable' is not defined\n"
          ]
        }
      ],
      "source": [
        "try:\n",
        "    # Using a variable that is not defined\n",
        "    print(undefined_variable)\n",
        "except NameError as e:\n",
        "    print(\"NameError:\", e)\n"
      ]
    },
    {
      "cell_type": "markdown",
      "id": "facd7a55",
      "metadata": {
        "id": "facd7a55"
      },
      "source": [
        "### Using else with try-except"
      ]
    },
    {
      "cell_type": "code",
      "execution_count": null,
      "id": "b6e902c5",
      "metadata": {
        "id": "b6e902c5",
        "outputId": "ff8d0a3b-d135-454a-90e9-208301dd5db0"
      },
      "outputs": [
        {
          "name": "stdout",
          "output_type": "stream",
          "text": [
            "File opened successfully!\n"
          ]
        }
      ],
      "source": [
        "# Using else with try-except\n",
        "try:\n",
        "    file = open(\"example.txt\", \"r\")\n",
        "except FileNotFoundError:\n",
        "    print(\"File not found!\")\n",
        "else:\n",
        "    print(\"File opened successfully!\")\n",
        "    file.close()"
      ]
    },
    {
      "cell_type": "markdown",
      "id": "a05c8de8",
      "metadata": {
        "id": "a05c8de8"
      },
      "source": [
        "### Using finally"
      ]
    },
    {
      "cell_type": "code",
      "execution_count": null,
      "id": "d01d0bdc",
      "metadata": {
        "id": "d01d0bdc",
        "outputId": "63df0aa1-d71a-4fe9-dfad-740d427a7b4f"
      },
      "outputs": [
        {
          "name": "stdout",
          "output_type": "stream",
          "text": [
            "Closing the file!\n"
          ]
        }
      ],
      "source": [
        "#Using finally\n",
        "try:\n",
        "    file = open(\"example.txt\", \"r\")\n",
        "    # Perform operations\n",
        "except FileNotFoundError:\n",
        "    print(\"File not found!\")\n",
        "finally:\n",
        "    print(\"Closing the file!\")\n",
        "    file.close()  # This will execute even if an exception occurs"
      ]
    },
    {
      "cell_type": "markdown",
      "id": "181cc924",
      "metadata": {
        "id": "181cc924"
      },
      "source": [
        "### Handling Multiple Exceptions"
      ]
    },
    {
      "cell_type": "code",
      "execution_count": null,
      "id": "fdb77ebb",
      "metadata": {
        "id": "fdb77ebb",
        "outputId": "d587e656-12f6-4b77-8315-65845046ead0"
      },
      "outputs": [
        {
          "name": "stdout",
          "output_type": "stream",
          "text": [
            "Enter a number: 2\n",
            "Division result: 5.0\n",
            "This will always execute.\n"
          ]
        }
      ],
      "source": [
        "#Handling Multiple Exceptions\n",
        "try:\n",
        "    x = int(input(\"Enter a number: \"))\n",
        "    result = 10 / x\n",
        "except ZeroDivisionError:\n",
        "    print(\"You can't divide by zero!\")\n",
        "except ValueError:\n",
        "    print(\"Invalid input! Please enter a valid integer.\")\n",
        "except Exception as e:\n",
        "    print(\"An unexpected error occurred:\", e)\n",
        "else:\n",
        "    print(\"Division result:\", result)\n",
        "finally:\n",
        "    print(\"This will always execute.\")\n"
      ]
    },
    {
      "cell_type": "markdown",
      "id": "444543e0",
      "metadata": {
        "id": "444543e0"
      },
      "source": [
        "### Handling Exceptions in a Loop\n",
        "\n",
        "#### If you're processing a list of items and want to continue even if some items raise exceptions, you can handle the exception inside the loop."
      ]
    },
    {
      "cell_type": "code",
      "execution_count": null,
      "id": "4c23f2ee",
      "metadata": {
        "id": "4c23f2ee",
        "outputId": "16d0486b-6061-4c3d-a7e2-42385b59c495"
      },
      "outputs": [
        {
          "name": "stdout",
          "output_type": "stream",
          "text": [
            "Result: 20.0\n",
            "Error: Division by zero!\n",
            "Result: 10.0\n",
            "Error: Unsupported operation for type.\n",
            "Result: 5.0\n"
          ]
        }
      ],
      "source": [
        "numbers = [5, 0, 10, \"a\", 20]\n",
        "\n",
        "for num in numbers:\n",
        "    try:\n",
        "        result = 100 / num\n",
        "    except ZeroDivisionError:\n",
        "        print(\"Error: Division by zero!\")\n",
        "    except TypeError:\n",
        "        print(\"Error: Unsupported operation for type.\")\n",
        "    else:\n",
        "        print(\"Result:\", result)\n"
      ]
    },
    {
      "cell_type": "markdown",
      "id": "818b8d6d",
      "metadata": {
        "id": "818b8d6d"
      },
      "source": [
        "### Custom Exceptions\n",
        "\n",
        "#### You can also create your own custom exceptions by subclassing Exception."
      ]
    },
    {
      "cell_type": "code",
      "execution_count": null,
      "id": "96848793",
      "metadata": {
        "id": "96848793",
        "outputId": "7026ea01-230d-4458-b1aa-82f45696429d"
      },
      "outputs": [
        {
          "name": "stdout",
          "output_type": "stream",
          "text": [
            "Caught custom exception: This is a custom error message.\n"
          ]
        }
      ],
      "source": [
        "class MyCustomError(Exception):\n",
        "    def __init__(self, message):\n",
        "        super().__init__(message)\n",
        "\n",
        "try:\n",
        "    raise MyCustomError(\"This is a custom error message.\")\n",
        "except MyCustomError as e:\n",
        "    print(\"Caught custom exception:\", e)\n"
      ]
    },
    {
      "cell_type": "markdown",
      "id": "354b9d2a",
      "metadata": {
        "id": "354b9d2a"
      },
      "source": [
        "### Raising Exceptions\n",
        "\n",
        "#### You can raise exceptions using the raise keyword."
      ]
    },
    {
      "cell_type": "code",
      "execution_count": null,
      "id": "46f9c6d6",
      "metadata": {
        "id": "46f9c6d6",
        "outputId": "71e11f40-1929-4ce0-95f1-52fa18bb62b4"
      },
      "outputs": [
        {
          "name": "stdout",
          "output_type": "stream",
          "text": [
            "Exception caught: Value must be positive.\n"
          ]
        }
      ],
      "source": [
        "#Raising an Exception\n",
        "def check_value(value):\n",
        "    if value < 0:\n",
        "        raise ValueError(\"Value must be positive.\")\n",
        "\n",
        "try:\n",
        "    check_value(-1)\n",
        "except ValueError as e:\n",
        "    print(\"Exception caught:\", e)\n"
      ]
    },
    {
      "cell_type": "markdown",
      "id": "ed6393e3",
      "metadata": {
        "id": "ed6393e3"
      },
      "source": [
        "### Using try-except with while Loop\n",
        "\n",
        "#### You can use exception handling inside a while loop to repeatedly ask for valid input."
      ]
    },
    {
      "cell_type": "code",
      "execution_count": null,
      "id": "366fe3b4",
      "metadata": {
        "id": "366fe3b4",
        "outputId": "90febfdd-f506-4202-d076-44e621beb78f"
      },
      "outputs": [
        {
          "name": "stdout",
          "output_type": "stream",
          "text": [
            "Enter a positive number: 12\n",
            "You entered a valid number: 12\n"
          ]
        }
      ],
      "source": [
        "while True:\n",
        "    try:\n",
        "        num = int(input(\"Enter a positive number: \"))\n",
        "        if num <= 0:\n",
        "            raise ValueError(\"Number must be positive!\")\n",
        "        break  # Exit the loop if input is valid\n",
        "    except ValueError as e:\n",
        "        print(\"Invalid input:\", e)\n",
        "\n",
        "print(\"You entered a valid number:\", num)\n"
      ]
    },
    {
      "cell_type": "markdown",
      "id": "8b0be22d",
      "metadata": {
        "id": "8b0be22d"
      },
      "source": [
        "## Questions"
      ]
    },
    {
      "cell_type": "markdown",
      "id": "2552d185",
      "metadata": {
        "id": "2552d185"
      },
      "source": [
        "### Question 1:\n",
        "\n",
        "#### Write a Python function that takes two numbers as input and divides them. Handle the ZeroDivisionError exception if the second number is zero."
      ]
    },
    {
      "cell_type": "code",
      "execution_count": null,
      "id": "006aa2e1",
      "metadata": {
        "id": "006aa2e1",
        "outputId": "49ead7f4-36ac-478a-e3c0-9e0f86252e5a"
      },
      "outputs": [
        {
          "name": "stdout",
          "output_type": "stream",
          "text": [
            "Result: 5.0\n",
            "Error: division by zero\n",
            "Cannot divide by zero!\n"
          ]
        }
      ],
      "source": [
        "def divide_numbers(a, b):\n",
        "    try:\n",
        "        result = a / b\n",
        "        print(\"Result:\", result)\n",
        "    except ZeroDivisionError as e:\n",
        "        print(\"Error:\", e)\n",
        "        print(\"Cannot divide by zero!\")\n",
        "\n",
        "# Test the function\n",
        "divide_numbers(10, 2)    # Result: 5.0\n",
        "divide_numbers(10, 0)    # Error: division by zero\n"
      ]
    },
    {
      "cell_type": "markdown",
      "id": "691c89a4",
      "metadata": {
        "id": "691c89a4"
      },
      "source": [
        "### Question 2:\n",
        "\n",
        "#### Write a Python function that opens a file, reads its content, and prints it. Handle the FileNotFoundError exception if the file does not exist."
      ]
    },
    {
      "cell_type": "code",
      "execution_count": null,
      "id": "399ea485",
      "metadata": {
        "id": "399ea485",
        "outputId": "9a524c76-fa88-4fcc-faf8-a1cb2718e0ce"
      },
      "outputs": [
        {
          "name": "stdout",
          "output_type": "stream",
          "text": [
            "Content of example.txt : Hello, world!\n",
            "This is a text file.\n",
            "\n",
            "Error: [Errno 2] No such file or directory: 'non_existent.txt'\n",
            "File not found!\n"
          ]
        }
      ],
      "source": [
        "def read_file(filename):\n",
        "    try:\n",
        "        with open(filename, \"r\") as file:\n",
        "            content = file.read()\n",
        "            print(\"Content of\", filename, \":\", content)\n",
        "    except FileNotFoundError as e:\n",
        "        print(\"Error:\", e)\n",
        "        print(\"File not found!\")\n",
        "\n",
        "# Test the function\n",
        "read_file(\"example.txt\")    # Assuming example.txt exists\n",
        "read_file(\"non_existent.txt\")  # Error: [Errno 2] No such file or directory: 'non_existent.txt'\n"
      ]
    },
    {
      "cell_type": "markdown",
      "id": "e2eb81f7",
      "metadata": {
        "id": "e2eb81f7"
      },
      "source": [
        "### Question 3:\n",
        "\n",
        "#### Write a Python function that converts a string to an integer. Handle the ValueError exception if the string cannot be converted to an integer."
      ]
    },
    {
      "cell_type": "code",
      "execution_count": null,
      "id": "8184fe62",
      "metadata": {
        "id": "8184fe62",
        "outputId": "539c60df-8cf2-41db-de5e-7059e2b30d20"
      },
      "outputs": [
        {
          "name": "stdout",
          "output_type": "stream",
          "text": [
            "Converted Integer: 123\n",
            "Error: invalid literal for int() with base 10: 'abc'\n",
            "Invalid input for conversion!\n"
          ]
        }
      ],
      "source": [
        "def string_to_integer(s):\n",
        "    try:\n",
        "        num = int(s)\n",
        "        print(\"Converted Integer:\", num)\n",
        "    except ValueError as e:\n",
        "        print(\"Error:\", e)\n",
        "        print(\"Invalid input for conversion!\")\n",
        "\n",
        "# Test the function\n",
        "string_to_integer(\"123\")    # Converted Integer: 123\n",
        "string_to_integer(\"abc\")    # Error: invalid literal for int() with base 10: 'abc'\n"
      ]
    },
    {
      "cell_type": "markdown",
      "id": "8d640bbb",
      "metadata": {
        "id": "8d640bbb"
      },
      "source": [
        "### Question 4:\n",
        "\n",
        "#### Write a Python function that accesses an element from a list at a given index. Handle the IndexError exception if the index is out of range."
      ]
    },
    {
      "cell_type": "code",
      "execution_count": null,
      "id": "3d896ce2",
      "metadata": {
        "id": "3d896ce2",
        "outputId": "eba05f2b-265e-43e7-8178-c2cc4b8d7d99"
      },
      "outputs": [
        {
          "name": "stdout",
          "output_type": "stream",
          "text": [
            "Value at index 2 : 30\n",
            "Error: list index out of range\n",
            "Index is out of range!\n"
          ]
        }
      ],
      "source": [
        "def access_list_element(lst, index):\n",
        "    try:\n",
        "        value = lst[index]\n",
        "        print(\"Value at index\", index, \":\", value)\n",
        "    except IndexError as e:\n",
        "        print(\"Error:\", e)\n",
        "        print(\"Index is out of range!\")\n",
        "\n",
        "# Test the function\n",
        "my_list = [10, 20, 30, 40]\n",
        "access_list_element(my_list, 2)    # Value at index 2: 30\n",
        "access_list_element(my_list, 5)    # Error: list index out of range\n"
      ]
    },
    {
      "cell_type": "markdown",
      "id": "28aa578e",
      "metadata": {
        "id": "28aa578e"
      },
      "source": [
        "### Question 5:\n",
        "\n",
        "#### Write a Python function that performs a risky operation. Handle any exception by printing a generic error message.\n",
        "\n"
      ]
    },
    {
      "cell_type": "code",
      "execution_count": null,
      "id": "c4c2589a",
      "metadata": {
        "id": "c4c2589a",
        "outputId": "46d0e43c-3423-4212-b50a-46fdf6d89ee4"
      },
      "outputs": [
        {
          "name": "stdout",
          "output_type": "stream",
          "text": [
            "Error: division by zero\n",
            "An error occurred during the operation.\n"
          ]
        }
      ],
      "source": [
        "def risky_operation():\n",
        "    try:\n",
        "        # Risky operation that may raise any kind of exception\n",
        "        result = 10 / 0\n",
        "        print(\"Result:\", result)\n",
        "    except Exception as e:  # Catch all exceptions\n",
        "        print(\"Error:\", e)\n",
        "        print(\"An error occurred during the operation.\")\n",
        "\n",
        "# Test the function\n",
        "risky_operation()    # Error: division by zero\n"
      ]
    },
    {
      "cell_type": "markdown",
      "id": "de62ad47",
      "metadata": {
        "id": "de62ad47"
      },
      "source": [
        "### Question 6:\n",
        "\n",
        "\n",
        "#### Write a Python function that performs a division operation and handles both ZeroDivisionError and TypeError exceptions.\n",
        "\n"
      ]
    },
    {
      "cell_type": "markdown",
      "id": "33b3a11d",
      "metadata": {
        "id": "33b3a11d"
      },
      "source": [
        "### Question 7:\n",
        "\n",
        "\n",
        "#### Write a Python function that accesses a dictionary element by key and handles the KeyError exception if the key does not exist.\n",
        "\n"
      ]
    },
    {
      "cell_type": "markdown",
      "id": "b3b23822",
      "metadata": {
        "id": "b3b23822"
      },
      "source": [
        "### Question 8:\n",
        "\n",
        "\n",
        "#### Write a Python function that takes user input for two numbers, divides them, and handles the ZeroDivisionError and ValueError exceptions.\n",
        "\n"
      ]
    },
    {
      "cell_type": "markdown",
      "id": "c36baf28",
      "metadata": {
        "id": "c36baf28"
      },
      "source": [
        "### Question 9:\n",
        "\n",
        "\n",
        "#### Write a Python function that accesses an element from a nested dictionary and handles KeyError and TypeError exceptions.\n",
        "\n"
      ]
    }
  ],
  "metadata": {
    "kernelspec": {
      "display_name": "Python 3 (ipykernel)",
      "language": "python",
      "name": "python3"
    },
    "language_info": {
      "codemirror_mode": {
        "name": "ipython",
        "version": 3
      },
      "file_extension": ".py",
      "mimetype": "text/x-python",
      "name": "python",
      "nbconvert_exporter": "python",
      "pygments_lexer": "ipython3",
      "version": "3.8.1"
    },
    "colab": {
      "provenance": []
    }
  },
  "nbformat": 4,
  "nbformat_minor": 5
}
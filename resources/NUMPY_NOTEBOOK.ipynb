{
  "cells": [
    {
      "cell_type": "markdown",
      "id": "9bc0bbf9",
      "metadata": {
        "id": "9bc0bbf9"
      },
      "source": [
        "# NUMPY"
      ]
    },
    {
      "cell_type": "markdown",
      "id": "6f952f34",
      "metadata": {
        "id": "6f952f34"
      },
      "source": [
        "## Numpy is a general puprose array-processing package in python"
      ]
    },
    {
      "cell_type": "code",
      "execution_count": null,
      "id": "f3c7420b",
      "metadata": {
        "id": "f3c7420b"
      },
      "outputs": [],
      "source": [
        "import numpy as np"
      ]
    },
    {
      "cell_type": "code",
      "execution_count": null,
      "id": "e5c0bfd1",
      "metadata": {
        "id": "e5c0bfd1"
      },
      "outputs": [],
      "source": [
        "#1d array from a python list\n",
        "arr1d = np.array([1,2,3,4,5])\n",
        "#2d array from a nested python list\n",
        "arr2d = np.array([[1,2,3],[4,5,6]])"
      ]
    },
    {
      "cell_type": "code",
      "execution_count": null,
      "id": "f34b365c",
      "metadata": {
        "id": "f34b365c",
        "outputId": "72cca91e-2323-403a-db12-64ed49619150"
      },
      "outputs": [
        {
          "name": "stdout",
          "output_type": "stream",
          "text": [
            "[[0. 0. 0. 0.]\n",
            " [0. 0. 0. 0.]\n",
            " [0. 0. 0. 0.]]\n"
          ]
        }
      ],
      "source": [
        "zeros_arr = np.zeros((3,4))\n",
        "print(zeros_arr)"
      ]
    },
    {
      "cell_type": "markdown",
      "id": "69dc9495",
      "metadata": {
        "id": "69dc9495"
      },
      "source": [
        "## Array attributes"
      ]
    },
    {
      "cell_type": "code",
      "execution_count": null,
      "id": "77f1629d",
      "metadata": {
        "id": "77f1629d",
        "outputId": "34f86407-6e8c-4874-c408-c9915e2a50a6"
      },
      "outputs": [
        {
          "name": "stdout",
          "output_type": "stream",
          "text": [
            "(2, 3)\n"
          ]
        }
      ],
      "source": [
        "#shape\n",
        "shape = arr2d.shape\n",
        "print(shape)"
      ]
    },
    {
      "cell_type": "code",
      "execution_count": null,
      "id": "a597e828",
      "metadata": {
        "id": "a597e828",
        "outputId": "32b40470-4ccb-4ecb-e774-9191947b4d09"
      },
      "outputs": [
        {
          "name": "stdout",
          "output_type": "stream",
          "text": [
            "6\n"
          ]
        }
      ],
      "source": [
        "#size\n",
        "size = arr2d.size\n",
        "print(size)"
      ]
    },
    {
      "cell_type": "code",
      "execution_count": null,
      "id": "827d7ffc",
      "metadata": {
        "id": "827d7ffc",
        "outputId": "59989215-4e08-4260-afb7-3b3458ddec44"
      },
      "outputs": [
        {
          "name": "stdout",
          "output_type": "stream",
          "text": [
            "int32\n"
          ]
        }
      ],
      "source": [
        "#data type\n",
        "data_type = arr2d.dtype\n",
        "print(data_type)"
      ]
    },
    {
      "cell_type": "markdown",
      "id": "9bdd6222",
      "metadata": {
        "id": "9bdd6222"
      },
      "source": [
        "## Array Operations"
      ]
    },
    {
      "cell_type": "code",
      "execution_count": null,
      "id": "c589c589",
      "metadata": {
        "id": "c589c589",
        "outputId": "5ce711d2-48db-4c42-a866-d5cdf05f8c51"
      },
      "outputs": [
        {
          "name": "stdout",
          "output_type": "stream",
          "text": [
            "[[3 4 5]\n",
            " [6 7 8]]\n"
          ]
        }
      ],
      "source": [
        "#addition\n",
        "addition = 2 + arr2d\n",
        "print(addition)"
      ]
    },
    {
      "cell_type": "code",
      "execution_count": null,
      "id": "cb9e0db7",
      "metadata": {
        "id": "cb9e0db7",
        "outputId": "607da20b-534f-42e5-96ea-dbd23a576e1c"
      },
      "outputs": [
        {
          "name": "stdout",
          "output_type": "stream",
          "text": [
            "[[-2 -1  0]\n",
            " [ 1  2  3]]\n"
          ]
        }
      ],
      "source": [
        "#subtraction\n",
        "subtraction = arr2d - 3\n",
        "print(subtraction)"
      ]
    },
    {
      "cell_type": "code",
      "execution_count": null,
      "id": "cbd9d3df",
      "metadata": {
        "id": "cbd9d3df",
        "outputId": "4c2ef3a3-4643-4929-9a73-9ef5fb57a9a0"
      },
      "outputs": [
        {
          "name": "stdout",
          "output_type": "stream",
          "text": [
            "[[ 4  8 12]\n",
            " [16 20 24]]\n"
          ]
        }
      ],
      "source": [
        "#Multiplication\n",
        "multiplication = 4 * arr2d\n",
        "print(multiplication)"
      ]
    },
    {
      "cell_type": "markdown",
      "id": "524cfb85",
      "metadata": {
        "id": "524cfb85"
      },
      "source": [
        "## Aggregation Functions"
      ]
    },
    {
      "cell_type": "code",
      "execution_count": null,
      "id": "38ef6de7",
      "metadata": {
        "id": "38ef6de7",
        "outputId": "dff6aa2e-294f-4639-8bd1-72446763ec18"
      },
      "outputs": [
        {
          "name": "stdout",
          "output_type": "stream",
          "text": [
            "21\n"
          ]
        }
      ],
      "source": [
        "#sum\n",
        "total_sum = arr2d.sum()\n",
        "print(total_sum)"
      ]
    },
    {
      "cell_type": "code",
      "execution_count": null,
      "id": "129d3ce0",
      "metadata": {
        "id": "129d3ce0",
        "outputId": "3f1d2a0e-3e97-457b-fb72-25d9a02b60de"
      },
      "outputs": [
        {
          "name": "stdout",
          "output_type": "stream",
          "text": [
            "6\n"
          ]
        }
      ],
      "source": [
        "#max\n",
        "max_val = arr2d.max()\n",
        "print(max_val)"
      ]
    },
    {
      "cell_type": "code",
      "execution_count": null,
      "id": "5f31af93",
      "metadata": {
        "id": "5f31af93",
        "outputId": "56174072-da41-40bd-a6a8-c5b50bf2297e"
      },
      "outputs": [
        {
          "name": "stdout",
          "output_type": "stream",
          "text": [
            "1\n"
          ]
        }
      ],
      "source": [
        "#min\n",
        "min_val = arr2d.min()\n",
        "print(min_val)"
      ]
    },
    {
      "cell_type": "markdown",
      "id": "116ac3bf",
      "metadata": {
        "id": "116ac3bf"
      },
      "source": [
        "## Indexing"
      ]
    },
    {
      "cell_type": "code",
      "execution_count": null,
      "id": "6445391c",
      "metadata": {
        "id": "6445391c",
        "outputId": "b997f15b-6120-439b-c114-9243a95ff60e"
      },
      "outputs": [
        {
          "name": "stdout",
          "output_type": "stream",
          "text": [
            "[[4 5 6]]\n"
          ]
        }
      ],
      "source": [
        "#second row\n",
        "second_row = arr2d[1:,:]\n",
        "print(second_row)"
      ]
    },
    {
      "cell_type": "code",
      "execution_count": null,
      "id": "68d89235",
      "metadata": {
        "id": "68d89235",
        "outputId": "e41979ad-0adb-459c-8bcd-c3edc992dec8"
      },
      "outputs": [
        {
          "name": "stdout",
          "output_type": "stream",
          "text": [
            "[[1 2 3]]\n"
          ]
        }
      ],
      "source": [
        "#first row\n",
        "first_row = arr2d[0:1,:]\n",
        "print(first_row)"
      ]
    },
    {
      "cell_type": "code",
      "execution_count": null,
      "id": "0d28a3aa",
      "metadata": {
        "id": "0d28a3aa",
        "outputId": "1df746e6-9c1c-4f62-97fe-9a4ec6e91556"
      },
      "outputs": [
        {
          "name": "stdout",
          "output_type": "stream",
          "text": [
            "[[5 6]]\n"
          ]
        }
      ],
      "source": [
        "\n",
        "second_row_element = arr2d[1:,1:]\n",
        "print(second_row_element)"
      ]
    },
    {
      "cell_type": "code",
      "execution_count": null,
      "id": "c2ea875c",
      "metadata": {
        "id": "c2ea875c",
        "outputId": "5d95e901-2cc2-41bb-9556-b5d96d0ba649"
      },
      "outputs": [
        {
          "name": "stdout",
          "output_type": "stream",
          "text": [
            "[[1 2]]\n"
          ]
        }
      ],
      "source": [
        "first_row_element = arr2d[0:1,0:2]\n",
        "print(first_row_element)"
      ]
    },
    {
      "cell_type": "code",
      "execution_count": null,
      "id": "a9cf7d19",
      "metadata": {
        "id": "a9cf7d19",
        "outputId": "b2a054f0-e2d2-4cee-c151-4a1061d77a7b"
      },
      "outputs": [
        {
          "name": "stdout",
          "output_type": "stream",
          "text": [
            "[[2 3]]\n"
          ]
        }
      ],
      "source": [
        "first_row_ = arr2d[0:1,1:]\n",
        "print(first_row_)"
      ]
    },
    {
      "cell_type": "code",
      "execution_count": null,
      "id": "52b83953",
      "metadata": {
        "id": "52b83953",
        "outputId": "35ede884-639f-4789-c7bb-7de897c27f9e"
      },
      "outputs": [
        {
          "name": "stdout",
          "output_type": "stream",
          "text": [
            "[[1 2 3]\n",
            " [4 5 6]]\n"
          ]
        }
      ],
      "source": [
        "print(arr2d)"
      ]
    },
    {
      "cell_type": "code",
      "execution_count": null,
      "id": "03f1ae79",
      "metadata": {
        "id": "03f1ae79",
        "outputId": "f43f6feb-f32b-464c-fc0b-a10cc0b47219"
      },
      "outputs": [
        {
          "name": "stdout",
          "output_type": "stream",
          "text": [
            "[2 3]\n"
          ]
        }
      ],
      "source": [
        "first_row_ = arr2d[0,1:]\n",
        "print(first_row_)"
      ]
    },
    {
      "cell_type": "code",
      "execution_count": null,
      "id": "abe0863e",
      "metadata": {
        "id": "abe0863e",
        "outputId": "5b9df043-bbaa-40be-bd02-d09d979007c8"
      },
      "outputs": [
        {
          "name": "stdout",
          "output_type": "stream",
          "text": [
            "[[2 3]]\n"
          ]
        }
      ],
      "source": [
        "first_row_ = arr2d[:1,1:]\n",
        "print(first_row_)"
      ]
    },
    {
      "cell_type": "code",
      "execution_count": null,
      "id": "1e38d872",
      "metadata": {
        "id": "1e38d872",
        "outputId": "eb9b01aa-d8bb-429d-ddfd-362e6e6068fd"
      },
      "outputs": [
        {
          "name": "stdout",
          "output_type": "stream",
          "text": [
            "[2 3]\n"
          ]
        }
      ],
      "source": [
        "first_row_ = arr2d[0,1:]\n",
        "print(first_row_)"
      ]
    },
    {
      "cell_type": "markdown",
      "id": "9919a4c0",
      "metadata": {
        "id": "9919a4c0"
      },
      "source": [
        "## Array Manipulation"
      ]
    },
    {
      "cell_type": "code",
      "execution_count": null,
      "id": "fd535d0f",
      "metadata": {
        "id": "fd535d0f",
        "outputId": "ed33ea3e-057a-4d92-97e5-6b197342c7e3"
      },
      "outputs": [
        {
          "name": "stdout",
          "output_type": "stream",
          "text": [
            "[[1 2 3]\n",
            " [4 5 6]]\n"
          ]
        }
      ],
      "source": [
        "print(arr2d)"
      ]
    },
    {
      "cell_type": "code",
      "execution_count": null,
      "id": "e2cfeadf",
      "metadata": {
        "id": "e2cfeadf",
        "outputId": "8d48f77f-a945-476d-af15-676de1923357"
      },
      "outputs": [
        {
          "name": "stdout",
          "output_type": "stream",
          "text": [
            "[[1 2]\n",
            " [3 4]\n",
            " [5 6]]\n"
          ]
        }
      ],
      "source": [
        "#reshape\n",
        "reshaped_arr = arr2d.reshape(3,2)\n",
        "print(reshaped_arr)"
      ]
    },
    {
      "cell_type": "code",
      "execution_count": null,
      "id": "6445ba39",
      "metadata": {
        "id": "6445ba39",
        "outputId": "fee16031-0b21-442d-f637-ba2eb510ed76"
      },
      "outputs": [
        {
          "name": "stdout",
          "output_type": "stream",
          "text": [
            "[[1 2 3 4 5 6]]\n"
          ]
        }
      ],
      "source": [
        "reshaped_arr1 = arr2d.reshape(1,6)\n",
        "print(reshaped_arr1)"
      ]
    },
    {
      "cell_type": "code",
      "execution_count": null,
      "id": "caa1c81c",
      "metadata": {
        "id": "caa1c81c",
        "outputId": "0b8b11a7-1e5c-48e2-fe2b-2979a4f06f90"
      },
      "outputs": [
        {
          "name": "stdout",
          "output_type": "stream",
          "text": [
            "[1 2 3 1 2 3]\n"
          ]
        }
      ],
      "source": [
        "#Concatenate Arrays\n",
        "arr1d = [1,2,3]\n",
        "concat_arr = np.concatenate([arr1d,arr1d])\n",
        "print(concat_arr)"
      ]
    },
    {
      "cell_type": "code",
      "execution_count": null,
      "id": "3e038bea",
      "metadata": {
        "id": "3e038bea",
        "outputId": "64bb48b7-e9f0-48c0-d358-054046146962"
      },
      "outputs": [
        {
          "name": "stdout",
          "output_type": "stream",
          "text": [
            "[1 2 3 4 5 6]\n"
          ]
        }
      ],
      "source": [
        "#Concatenate Arrays 2\n",
        "arr1d = np.array([1,2,3])\n",
        "concat_arr2 = np.concatenate([arr1d,np.array([4,5,6])])\n",
        "print(concat_arr2)"
      ]
    },
    {
      "cell_type": "code",
      "execution_count": null,
      "id": "2dc6df07",
      "metadata": {
        "id": "2dc6df07",
        "outputId": "ebcb51f3-5a13-4199-ae6e-cc4f8c544a07"
      },
      "outputs": [
        {
          "name": "stdout",
          "output_type": "stream",
          "text": [
            "[1 2 3 4 5 6]\n"
          ]
        }
      ],
      "source": [
        "#append\n",
        "arr1d = np.array([1,2,3])\n",
        "append_arr = np.append(arr1d,[4,5,6])\n",
        "print(append_arr)"
      ]
    },
    {
      "cell_type": "code",
      "execution_count": null,
      "id": "54737467",
      "metadata": {
        "id": "54737467",
        "outputId": "8b0a9003-4adb-4e30-eb8a-87ddeb39bd39"
      },
      "outputs": [
        {
          "name": "stdout",
          "output_type": "stream",
          "text": [
            "[1 2 3 4 5 6 7 8 9]\n"
          ]
        }
      ],
      "source": [
        "#append to 2 dimensional array\n",
        "arr2d = np.array([[1,2,3],[4,5,6]])\n",
        "append_arr1 = np.append(arr2d,[7,8,9])\n",
        "print(append_arr1)"
      ]
    },
    {
      "cell_type": "markdown",
      "id": "daaa95f0",
      "metadata": {
        "id": "daaa95f0"
      },
      "source": [
        "## Question asked\n",
        "\n",
        "### Can you append a row ([4,5,6]) to the array [1,2,3], so it looks like this [[1,2,3],[4,5,6]] rather than this: [1,2,3,4,5,6]?"
      ]
    },
    {
      "cell_type": "markdown",
      "id": "07881b26",
      "metadata": {
        "id": "07881b26"
      },
      "source": [
        "### Answer: To achieve that, both arrays need to be two-dimensional arrays."
      ]
    },
    {
      "cell_type": "code",
      "execution_count": null,
      "id": "ddf64be0",
      "metadata": {
        "id": "ddf64be0",
        "outputId": "1ea3d0b2-6f31-49b3-860d-0c422aaefef4"
      },
      "outputs": [
        {
          "name": "stdout",
          "output_type": "stream",
          "text": [
            "[[1 2 3]\n",
            " [4 5 6]]\n"
          ]
        }
      ],
      "source": [
        "#Answer to question asked\n",
        "arr1d = np.array([[1,2,3]])\n",
        "concat_arr2 = np.concatenate([arr1d,np.array([[4,5,6]])])\n",
        "print(concat_arr2)"
      ]
    },
    {
      "cell_type": "markdown",
      "id": "96fea656",
      "metadata": {
        "id": "96fea656"
      },
      "source": [
        "## Broadcasting"
      ]
    },
    {
      "cell_type": "code",
      "execution_count": null,
      "id": "437c5798",
      "metadata": {
        "id": "437c5798",
        "outputId": "b6c946a8-4bb6-483c-c9f0-7979dfab7efe"
      },
      "outputs": [
        {
          "name": "stdout",
          "output_type": "stream",
          "text": [
            "[5 6 7]\n"
          ]
        }
      ],
      "source": [
        "#broadcasting\n",
        "a = np.array([1,2,3])\n",
        "b = 4\n",
        "print(a+b)"
      ]
    },
    {
      "cell_type": "code",
      "execution_count": null,
      "id": "556cdaa5",
      "metadata": {
        "id": "556cdaa5",
        "outputId": "1b51583a-7f40-49fb-fabf-f4cc450fc618"
      },
      "outputs": [
        {
          "name": "stdout",
          "output_type": "stream",
          "text": [
            "[ 6 12 18]\n"
          ]
        }
      ],
      "source": [
        "a = np.array([1,2,3])\n",
        "b = 6\n",
        "print(a*b)"
      ]
    },
    {
      "cell_type": "code",
      "execution_count": null,
      "id": "8dc37877",
      "metadata": {
        "id": "8dc37877",
        "outputId": "c4208c3a-d7a5-46a0-a090-6b717ea19949"
      },
      "outputs": [
        {
          "name": "stdout",
          "output_type": "stream",
          "text": [
            "[5 6 7]\n"
          ]
        }
      ],
      "source": [
        "a = np.array([1,2,3])\n",
        "print(4 + a)"
      ]
    },
    {
      "cell_type": "markdown",
      "id": "e6bfc470",
      "metadata": {
        "id": "e6bfc470"
      },
      "source": [
        "## Random Number Generation"
      ]
    },
    {
      "cell_type": "code",
      "execution_count": null,
      "id": "2d355efb",
      "metadata": {
        "id": "2d355efb",
        "outputId": "73a38f39-7869-4553-f9c5-bb11568598ed"
      },
      "outputs": [
        {
          "name": "stdout",
          "output_type": "stream",
          "text": [
            "[[0.96468241 0.17797779 0.68136972]\n",
            " [0.81117361 0.85460381 0.53754127]\n",
            " [0.12628214 0.38699588 0.18485111]]\n"
          ]
        }
      ],
      "source": [
        "random_numbers = np.random.rand(3,3)\n",
        "print(random_numbers)"
      ]
    },
    {
      "cell_type": "code",
      "execution_count": null,
      "id": "77c09101",
      "metadata": {
        "id": "77c09101",
        "outputId": "14e1db06-bb6d-4a32-8145-f8567380e2a6"
      },
      "outputs": [
        {
          "name": "stdout",
          "output_type": "stream",
          "text": [
            "[[0.13982472 0.9226211  0.75043573 0.07342444 0.41681985 0.66383607]\n",
            " [0.55283402 0.20124802 0.7336953  0.64163205 0.86002604 0.83301745]\n",
            " [0.1295206  0.40016586 0.93971919 0.93043012 0.41874235 0.82674411]\n",
            " [0.5942855  0.65743556 0.55425314 0.94627769 0.38718068 0.03927191]]\n"
          ]
        }
      ],
      "source": [
        "random_numbers = np.random.rand(4,6)\n",
        "print(random_numbers)"
      ]
    },
    {
      "cell_type": "code",
      "execution_count": null,
      "id": "e2352ff1",
      "metadata": {
        "id": "e2352ff1",
        "outputId": "0c28c75f-dc83-44bb-c1f5-0940697dfff0"
      },
      "outputs": [
        {
          "name": "stdout",
          "output_type": "stream",
          "text": [
            "[93 20 81 13 16 84]\n"
          ]
        }
      ],
      "source": [
        "random_numbers_ = np.random.randint(0,100,6)\n",
        "print(random_numbers_)"
      ]
    },
    {
      "cell_type": "code",
      "execution_count": null,
      "id": "95e09337",
      "metadata": {
        "id": "95e09337",
        "outputId": "e3b34f5f-b7d7-44d8-d557-4956618c0a3d"
      },
      "outputs": [
        {
          "name": "stdout",
          "output_type": "stream",
          "text": [
            "[[77 47]\n",
            " [82 67]\n",
            " [82 88]]\n"
          ]
        }
      ],
      "source": [
        "random_numbers_ = np.random.randint(0,100,6).reshape(3,2)\n",
        "print(random_numbers_)"
      ]
    },
    {
      "cell_type": "markdown",
      "id": "2da913c1",
      "metadata": {
        "id": "2da913c1"
      },
      "source": [
        "## Linear Algebra"
      ]
    },
    {
      "cell_type": "code",
      "execution_count": null,
      "id": "da904c4c",
      "metadata": {
        "id": "da904c4c",
        "outputId": "f44ab126-9a19-4c5f-9455-050edb05a58e"
      },
      "outputs": [
        {
          "name": "stdout",
          "output_type": "stream",
          "text": [
            "[[ 6  8]\n",
            " [10 12]]\n"
          ]
        }
      ],
      "source": [
        "# Matrix Addition\n",
        "A = np.array([[1,2],[3,4]])\n",
        "B = np.array([[5,6],[7,8]])\n",
        "print(A + B)"
      ]
    },
    {
      "cell_type": "code",
      "execution_count": null,
      "id": "9075c7cf",
      "metadata": {
        "id": "9075c7cf",
        "outputId": "0ba3de62-1287-4520-c176-88226461cdab"
      },
      "outputs": [
        {
          "name": "stdout",
          "output_type": "stream",
          "text": [
            "[[-4 -4]\n",
            " [-4 -4]]\n"
          ]
        }
      ],
      "source": [
        "#Matrix Subtraction\n",
        "print(A - B)"
      ]
    },
    {
      "cell_type": "code",
      "execution_count": null,
      "id": "18bb8252",
      "metadata": {
        "id": "18bb8252",
        "outputId": "5c49c199-b9e4-4811-ed11-2dfd3e704dc9"
      },
      "outputs": [
        {
          "name": "stdout",
          "output_type": "stream",
          "text": [
            "[[ 5 12]\n",
            " [21 32]]\n"
          ]
        }
      ],
      "source": [
        "#Matrix Multiplication\n",
        "print(A * B)"
      ]
    },
    {
      "cell_type": "code",
      "execution_count": null,
      "id": "a6342232",
      "metadata": {
        "id": "a6342232",
        "outputId": "79f1d02b-f70f-455c-8475-b14493c48a92"
      },
      "outputs": [
        {
          "name": "stdout",
          "output_type": "stream",
          "text": [
            "[[19 22]\n",
            " [43 50]]\n"
          ]
        }
      ],
      "source": [
        "#Normal Matrix Multiplication\n",
        "F = np.dot(A,B)\n",
        "print(F)"
      ]
    },
    {
      "cell_type": "code",
      "execution_count": null,
      "id": "d39885d3",
      "metadata": {
        "id": "d39885d3",
        "outputId": "c103e1d6-e925-4b7f-97db-9d79dfbda9ee"
      },
      "outputs": [
        {
          "name": "stdout",
          "output_type": "stream",
          "text": [
            "[[ 5 12]\n",
            " [21 32]]\n"
          ]
        }
      ],
      "source": [
        "#Matrix Multiplication (Column-wise)\n",
        "print(A * B)"
      ]
    },
    {
      "cell_type": "code",
      "execution_count": null,
      "id": "e6f8005d",
      "metadata": {
        "id": "e6f8005d",
        "outputId": "10119343-e223-4a7c-ba59-9fa97fd22954"
      },
      "outputs": [
        {
          "name": "stdout",
          "output_type": "stream",
          "text": [
            "[[19 22]\n",
            " [43 50]]\n"
          ]
        }
      ],
      "source": [
        "# Standard Matrix multiplication\n",
        "F = np.dot(A,B)\n",
        "print(F)"
      ]
    },
    {
      "cell_type": "code",
      "execution_count": null,
      "id": "5100e944",
      "metadata": {
        "id": "5100e944",
        "outputId": "bcfb6087-7cc0-453c-d310-130b1d9f2515"
      },
      "outputs": [
        {
          "name": "stdout",
          "output_type": "stream",
          "text": [
            "[[1 3]\n",
            " [2 4]]\n"
          ]
        }
      ],
      "source": [
        "#Transpose of a matrix\n",
        "transpose_A = np.transpose(A)\n",
        "print(transpose_A)"
      ]
    },
    {
      "cell_type": "code",
      "execution_count": null,
      "id": "c84f7a19",
      "metadata": {
        "id": "c84f7a19",
        "outputId": "bfbb9fa2-1d2a-423a-8960-49c1ba7ea587"
      },
      "outputs": [
        {
          "name": "stdout",
          "output_type": "stream",
          "text": [
            "[[5 7]\n",
            " [6 8]]\n"
          ]
        }
      ],
      "source": [
        "#Transpose of a matrix\n",
        "transpose_B = np.transpose(B)\n",
        "print(transpose_B)"
      ]
    },
    {
      "cell_type": "code",
      "execution_count": null,
      "id": "96af4019",
      "metadata": {
        "id": "96af4019",
        "outputId": "4404b389-5ac1-41c7-b829-73bfad052fc9"
      },
      "outputs": [
        {
          "name": "stdout",
          "output_type": "stream",
          "text": [
            "[[-2.   1. ]\n",
            " [ 1.5 -0.5]]\n"
          ]
        }
      ],
      "source": [
        "#Inverse of a matrix\n",
        "A_inv = np.linalg.inv(A)\n",
        "print(A_inv)"
      ]
    },
    {
      "cell_type": "code",
      "execution_count": null,
      "id": "5a27840b",
      "metadata": {
        "id": "5a27840b",
        "outputId": "708a708c-b798-4bd5-97f3-2358d22c067d"
      },
      "outputs": [
        {
          "name": "stdout",
          "output_type": "stream",
          "text": [
            "[[-4.   3. ]\n",
            " [ 3.5 -2.5]]\n"
          ]
        }
      ],
      "source": [
        "#Inverse of a matrix\n",
        "B_inv = np.linalg.inv(B)\n",
        "print(B_inv)"
      ]
    },
    {
      "cell_type": "code",
      "execution_count": null,
      "id": "ca250caf",
      "metadata": {
        "id": "ca250caf",
        "outputId": "63c1252b-6249-424b-b53a-575a7b70d7a0"
      },
      "outputs": [
        {
          "name": "stdout",
          "output_type": "stream",
          "text": [
            "[[1. 0. 0. 0.]\n",
            " [0. 1. 0. 0.]\n",
            " [0. 0. 1. 0.]\n",
            " [0. 0. 0. 1.]]\n"
          ]
        }
      ],
      "source": [
        "#identity Matrix\n",
        "identity_matrix = np.eye(4)\n",
        "print(identity_matrix)"
      ]
    },
    {
      "cell_type": "code",
      "execution_count": null,
      "id": "9e664311",
      "metadata": {
        "id": "9e664311",
        "outputId": "3f0fd17c-a43f-4a1a-c430-89faf6ce6123"
      },
      "outputs": [
        {
          "name": "stdout",
          "output_type": "stream",
          "text": [
            "-2\n"
          ]
        }
      ],
      "source": [
        "#determinant of a matrix\n",
        "determinant = np.linalg.det(B)\n",
        "print(int(determinant))"
      ]
    },
    {
      "cell_type": "markdown",
      "id": "698af463",
      "metadata": {
        "id": "698af463"
      },
      "source": [
        "## Delete elements in an array"
      ]
    },
    {
      "cell_type": "code",
      "execution_count": null,
      "id": "3f4ea1f1",
      "metadata": {
        "id": "3f4ea1f1",
        "outputId": "38899fdf-ddd1-439d-8f75-34e775d1410c"
      },
      "outputs": [
        {
          "name": "stdout",
          "output_type": "stream",
          "text": [
            "[1 2 4 5]\n"
          ]
        }
      ],
      "source": [
        "arr = np.array([1,2,3,4,5])\n",
        "arr_deleted = np.delete(arr,2)\n",
        "print(arr_deleted)"
      ]
    },
    {
      "cell_type": "code",
      "execution_count": null,
      "id": "a76fc76b",
      "metadata": {
        "id": "a76fc76b",
        "outputId": "2ac41dc0-21ba-42d5-d859-aea6c9a799f9"
      },
      "outputs": [
        {
          "name": "stdout",
          "output_type": "stream",
          "text": [
            "[1 2 3 4]\n"
          ]
        }
      ],
      "source": [
        "arr_deleted = np.delete(arr,4)\n",
        "print(arr_deleted)"
      ]
    },
    {
      "cell_type": "code",
      "execution_count": null,
      "id": "32c2d6dd",
      "metadata": {
        "id": "32c2d6dd",
        "outputId": "fd7f8ae8-501c-47e7-c056-692bab665121"
      },
      "outputs": [
        {
          "name": "stdout",
          "output_type": "stream",
          "text": [
            "['Madrid' 'Dortmund' 'PSG' 'Mancity']\n"
          ]
        }
      ],
      "source": [
        "club_arr = np.array(['Madrid','Barcelona','Arsenal','Dortmund','PSG','Mancity'])\n",
        "arr_deleted = np.delete(club_arr,[1,2])\n",
        "print(arr_deleted)"
      ]
    },
    {
      "cell_type": "code",
      "execution_count": null,
      "id": "dfdeef2f",
      "metadata": {
        "id": "dfdeef2f",
        "outputId": "b5b4509c-0b5e-4eb3-eba5-958b3e3a9505"
      },
      "outputs": [
        {
          "name": "stdout",
          "output_type": "stream",
          "text": [
            "[1 2 3 4]\n"
          ]
        }
      ],
      "source": [
        "arr = np.array([1,2,3,4,5])\n",
        "m = arr != 5\n",
        "new_arr = arr[m]\n",
        "print(new_arr)"
      ]
    },
    {
      "cell_type": "markdown",
      "id": "1fac4f66",
      "metadata": {
        "id": "1fac4f66"
      },
      "source": [
        "### To make sure that the elements that are removed in arr_deleted are also deleted in club_arr"
      ]
    },
    {
      "cell_type": "code",
      "execution_count": null,
      "id": "3cc70d18",
      "metadata": {
        "id": "3cc70d18",
        "outputId": "b1d9bcbb-9242-4818-a19c-4359ea1da511"
      },
      "outputs": [
        {
          "name": "stdout",
          "output_type": "stream",
          "text": [
            "['Madrid' 'Dortmund' 'PSG' 'Mancity']\n"
          ]
        }
      ],
      "source": [
        "club_arr = np.array(['Madrid','Barcelona','Arsenal','Dortmund','PSG','Mancity'])\n",
        "arr_deleted = np.delete(club_arr,[1,2])\n",
        "club_arr = arr_deleted\n",
        "print(club_arr)\n",
        ""
      ]
    },
    {
      "cell_type": "markdown",
      "id": "e0af0e2f",
      "metadata": {
        "id": "e0af0e2f"
      },
      "source": [
        "## Statistical Functions"
      ]
    },
    {
      "cell_type": "code",
      "execution_count": null,
      "id": "df49daf4",
      "metadata": {
        "id": "df49daf4"
      },
      "outputs": [],
      "source": [
        "arr = np.array([1,2,3,4,5])\n"
      ]
    },
    {
      "cell_type": "code",
      "execution_count": null,
      "id": "ad664419",
      "metadata": {
        "id": "ad664419",
        "outputId": "2987ba79-d5a4-4d0b-e2eb-df4330842064"
      },
      "outputs": [
        {
          "name": "stdout",
          "output_type": "stream",
          "text": [
            "3.0\n"
          ]
        }
      ],
      "source": [
        "#mean\n",
        "arr_mean = np.mean(arr)\n",
        "print(arr_mean)"
      ]
    },
    {
      "cell_type": "code",
      "execution_count": null,
      "id": "f135a01f",
      "metadata": {
        "id": "f135a01f",
        "outputId": "90b169f6-8562-4421-9995-6fcecdccf41b"
      },
      "outputs": [
        {
          "name": "stdout",
          "output_type": "stream",
          "text": [
            "3.0\n"
          ]
        }
      ],
      "source": [
        "#median\n",
        "arr_median = np.median(arr)\n",
        "print(arr_median)"
      ]
    },
    {
      "cell_type": "code",
      "execution_count": null,
      "id": "8f2b2591",
      "metadata": {
        "id": "8f2b2591",
        "outputId": "ee73bf8c-3738-42bb-dfbd-6f1018cde635"
      },
      "outputs": [
        {
          "name": "stdout",
          "output_type": "stream",
          "text": [
            "ModeResult(mode=2, count=2)\n"
          ]
        }
      ],
      "source": [
        "#Mode : numpy does not have the mode method, so scipy can be used\n",
        "arr_ = np.array([1,2,2,3,4,5,6])\n",
        "from scipy import stats\n",
        "arr_mode = stats.mode(arr_,keepdims = False)\n",
        "print(arr_mode)"
      ]
    },
    {
      "cell_type": "code",
      "execution_count": null,
      "id": "29fd9207",
      "metadata": {
        "id": "29fd9207",
        "outputId": "e2237f2b-c9e5-4dd8-a2d4-c1d8b9dc4e31"
      },
      "outputs": [
        {
          "name": "stdout",
          "output_type": "stream",
          "text": [
            "1.4142135623730951\n"
          ]
        }
      ],
      "source": [
        "#standard deviation\n",
        "arr_std = np.std(arr)\n",
        "print(arr_std)"
      ]
    },
    {
      "cell_type": "code",
      "execution_count": null,
      "id": "d21d704b",
      "metadata": {
        "id": "d21d704b"
      },
      "outputs": [],
      "source": []
    }
  ],
  "metadata": {
    "kernelspec": {
      "display_name": "Python 3 (ipykernel)",
      "language": "python",
      "name": "python3"
    },
    "language_info": {
      "codemirror_mode": {
        "name": "ipython",
        "version": 3
      },
      "file_extension": ".py",
      "mimetype": "text/x-python",
      "name": "python",
      "nbconvert_exporter": "python",
      "pygments_lexer": "ipython3",
      "version": "3.8.1"
    },
    "colab": {
      "provenance": []
    }
  },
  "nbformat": 4,
  "nbformat_minor": 5
}
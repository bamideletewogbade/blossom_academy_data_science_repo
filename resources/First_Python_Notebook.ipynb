{
  "cells": [
    {
      "cell_type": "markdown",
      "id": "4c9d04f5",
      "metadata": {
        "id": "4c9d04f5"
      },
      "source": [
        "# PYTHON PROGRAMMING LANGUAGE\n"
      ]
    },
    {
      "cell_type": "markdown",
      "id": "ea8c4707",
      "metadata": {
        "id": "ea8c4707"
      },
      "source": [
        "#### Python is a high-level, interpreted programming language known for its simplicity and readability. It supports multiple programming paradigms, including procedural, object-oriented, and functional programming.\n",
        "\n",
        "## Installing Python and Jupyter Notebook:\n",
        "\n",
        "#### 1. Download Python: Visit python.org and download the latest Python installer.\n",
        "\n",
        "#### 2. Run Installer: Double-click the installer file and follow the prompts to install Python. Make sure to select the option to add Python to PATH during installation.\n",
        "\n",
        "#### 3. Install Jupyter Notebook: Open a terminal (Command Prompt on Windows, Terminal on macOS/Linux) and run:\n",
        "#### pip install jupyterlab\n",
        "\n",
        "#### 4. Start Jupyter Notebook: In the terminal, type:\n",
        "#### jupyter notebook\n",
        "\n",
        "#### 5. Open Jupyter Notebook: Your default web browser should open automatically with the Jupyter Notebook interface. You can create new notebooks and start coding.\n",
        "\n",
        "\n",
        "\n"
      ]
    },
    {
      "cell_type": "markdown",
      "id": "7a88e0cf",
      "metadata": {
        "id": "7a88e0cf"
      },
      "source": [
        "##### Another way to install python is by using Anaconda\n",
        "\n",
        "## Anaconda Installation:\n",
        "\n",
        "#### 1. Download Anaconda: Visit anaconda.com and download the Anaconda installer for your operating system.\n",
        "\n",
        "#### 2. Run Installer: Double-click the downloaded installer file and follow the prompts to install Anaconda.\n",
        "\n",
        "#### 3. Accept Defaults: Accept the default installation options.\n",
        "\n",
        "#### 4. Wait for Installation: Let the installer complete the installation process. This might take a few minutes.\n",
        "\n",
        "##### 5. Verify Installation: Open a terminal or command prompt and type `conda --version` to ensure Anaconda installed correctly. Alternatively, you can launch Anaconda Navigator from your applications menu and verify its functionality.\n",
        "\n",
        "#### With Anaconda installed, you have access to Python along with many popular libraries and tools for data science and scientific computing, including Jupyter Notebook.\n",
        "\n"
      ]
    },
    {
      "cell_type": "markdown",
      "id": "15abdece",
      "metadata": {
        "id": "15abdece"
      },
      "source": [
        "## Variables\n",
        "\n",
        "#### Variables are containers for storing data values.\n",
        "#### In Python, variable names are case-sensitive and must follow certain rules:\n",
        "\n",
        "#### 1. Must start with a letter or underscore (_).\n",
        "#### 2. Can only contain letters, numbers, and underscores.\n",
        "#### 3. Cannot start with a number.\n",
        "\n",
        "### Example:\n",
        "\n",
        "###  Variable assignment\n",
        "\n",
        "#### x = 5\n",
        "#### name = \"John\"\n"
      ]
    },
    {
      "cell_type": "code",
      "execution_count": null,
      "id": "2deb5883",
      "metadata": {
        "id": "2deb5883",
        "outputId": "9c7b9053-93b2-416b-d852-ffc7f51a68f1"
      },
      "outputs": [
        {
          "name": "stdout",
          "output_type": "stream",
          "text": [
            "4\n"
          ]
        }
      ],
      "source": [
        "first1 = 4\n",
        "print(first1)"
      ]
    },
    {
      "cell_type": "markdown",
      "id": "7bb93b87",
      "metadata": {
        "id": "7bb93b87"
      },
      "source": [
        "## Data Types\n",
        "\n",
        "### Python has several built-in data types:\n",
        "\n",
        "#### 1. Numeric: int, float, complex\n",
        "\n",
        "#### 2. Sequence: list, tuple, range\n",
        "\n",
        "#### 3. Mapping: dict\n",
        "\n",
        "#### 4. Set: set, frozenset\n",
        "\n",
        "#### 5. Boolean: bool\n",
        "\n",
        "#### 6. Text: str\n"
      ]
    },
    {
      "cell_type": "code",
      "execution_count": null,
      "id": "95b5548e",
      "metadata": {
        "id": "95b5548e"
      },
      "outputs": [],
      "source": [
        "x = 2\n",
        "y = 3.14\n",
        "z = 2 + 3j"
      ]
    },
    {
      "cell_type": "code",
      "execution_count": null,
      "id": "cad4963f",
      "metadata": {
        "id": "cad4963f",
        "outputId": "2d5e93d4-50f7-4915-8414-2b99bdf016e9"
      },
      "outputs": [
        {
          "name": "stdout",
          "output_type": "stream",
          "text": [
            "<class 'int'>\n"
          ]
        }
      ],
      "source": [
        "print(type(x))"
      ]
    },
    {
      "cell_type": "code",
      "execution_count": null,
      "id": "3df25c5a",
      "metadata": {
        "id": "3df25c5a",
        "outputId": "1415f095-9aae-477c-a78a-9c48f30a87a2"
      },
      "outputs": [
        {
          "name": "stdout",
          "output_type": "stream",
          "text": [
            "<class 'float'>\n"
          ]
        }
      ],
      "source": [
        "print(type(y))"
      ]
    },
    {
      "cell_type": "code",
      "execution_count": null,
      "id": "48f7d2b6",
      "metadata": {
        "id": "48f7d2b6",
        "outputId": "3bc2d47b-2fdb-43d6-962a-0f6dda1ce1b9"
      },
      "outputs": [
        {
          "name": "stdout",
          "output_type": "stream",
          "text": [
            "<class 'complex'>\n"
          ]
        }
      ],
      "source": [
        "print(type(z))"
      ]
    },
    {
      "cell_type": "markdown",
      "id": "d2180722",
      "metadata": {
        "id": "d2180722"
      },
      "source": [
        "## Sequence\n"
      ]
    },
    {
      "cell_type": "code",
      "execution_count": null,
      "id": "e1c9093c",
      "metadata": {
        "id": "e1c9093c"
      },
      "outputs": [],
      "source": [
        "list_ = [1,2,3,4,5]\n",
        "tuple_ = (1,2,3,4,5)\n",
        "range_ = range(1,5)"
      ]
    },
    {
      "cell_type": "code",
      "execution_count": null,
      "id": "6ac77051",
      "metadata": {
        "id": "6ac77051",
        "outputId": "abd12edd-7ed8-494e-bded-5ecaf5e57854"
      },
      "outputs": [
        {
          "name": "stdout",
          "output_type": "stream",
          "text": [
            "<class 'list'>\n"
          ]
        }
      ],
      "source": [
        "print(type(list_))"
      ]
    },
    {
      "cell_type": "code",
      "execution_count": null,
      "id": "c430abb2",
      "metadata": {
        "id": "c430abb2",
        "outputId": "29281cc2-8b61-4c15-e6a6-8482725d989a"
      },
      "outputs": [
        {
          "name": "stdout",
          "output_type": "stream",
          "text": [
            "<class 'tuple'>\n"
          ]
        }
      ],
      "source": [
        "print(type(tuple_))"
      ]
    },
    {
      "cell_type": "code",
      "execution_count": null,
      "id": "49d25648",
      "metadata": {
        "id": "49d25648",
        "outputId": "37d64f6b-ce96-43d5-e1ab-065e9a09c3ed"
      },
      "outputs": [
        {
          "name": "stdout",
          "output_type": "stream",
          "text": [
            "<class 'range'>\n"
          ]
        }
      ],
      "source": [
        "print(type(range_))"
      ]
    },
    {
      "cell_type": "markdown",
      "id": "fab73173",
      "metadata": {
        "id": "fab73173"
      },
      "source": [
        "## Mapping"
      ]
    },
    {
      "cell_type": "code",
      "execution_count": null,
      "id": "df261410",
      "metadata": {
        "id": "df261410"
      },
      "outputs": [],
      "source": [
        "academy = {'name': 'Mr Jeph',\"age\": 38,'sport':'football','food':'jollof rice'}\n"
      ]
    },
    {
      "cell_type": "code",
      "execution_count": null,
      "id": "32d898f3",
      "metadata": {
        "id": "32d898f3",
        "outputId": "9788837d-175f-4829-bd00-c3a12457715c"
      },
      "outputs": [
        {
          "name": "stdout",
          "output_type": "stream",
          "text": [
            "{'Abia': 'Umuahia', 'Adamawa': 'Yola', 'Akwa-ibom': 'Uyo'}\n"
          ]
        }
      ],
      "source": [
        "Nigeria = {'Abia':'Umuahia','Adamawa':'Yola','Akwa-ibom':'Uyo'}\n",
        "print(Nigeria)"
      ]
    },
    {
      "cell_type": "code",
      "execution_count": null,
      "id": "c7880703",
      "metadata": {
        "id": "c7880703",
        "outputId": "a58ce54a-0c82-4377-d1bf-40de5dfd91ec"
      },
      "outputs": [
        {
          "data": {
            "text/plain": [
              "'Yola'"
            ]
          },
          "execution_count": 24,
          "metadata": {},
          "output_type": "execute_result"
        }
      ],
      "source": [
        "Nigeria['Adamawa']"
      ]
    },
    {
      "cell_type": "markdown",
      "id": "720fc21c",
      "metadata": {
        "id": "720fc21c"
      },
      "source": [
        "## Set"
      ]
    },
    {
      "cell_type": "code",
      "execution_count": null,
      "id": "0b32cf13",
      "metadata": {
        "id": "0b32cf13"
      },
      "outputs": [],
      "source": [
        "my_set = {1,2,3,4,5,6}"
      ]
    },
    {
      "cell_type": "code",
      "execution_count": null,
      "id": "934c137d",
      "metadata": {
        "id": "934c137d"
      },
      "outputs": [],
      "source": [
        "my_set2 = frozenset({1,2,3})"
      ]
    },
    {
      "cell_type": "code",
      "execution_count": null,
      "id": "6608e5bc",
      "metadata": {
        "id": "6608e5bc",
        "outputId": "405df39d-5835-4b08-cacc-469257413a5e"
      },
      "outputs": [
        {
          "name": "stdout",
          "output_type": "stream",
          "text": [
            "{1, 2, 3, 4, 5, 6}\n"
          ]
        }
      ],
      "source": [
        "print(my_set)"
      ]
    },
    {
      "cell_type": "code",
      "execution_count": null,
      "id": "0a389229",
      "metadata": {
        "id": "0a389229",
        "outputId": "9d3bc8b0-7395-4f03-fc9b-b724cccc7799"
      },
      "outputs": [
        {
          "name": "stdout",
          "output_type": "stream",
          "text": [
            "<class 'set'>\n"
          ]
        }
      ],
      "source": [
        "print(type(my_set))"
      ]
    },
    {
      "cell_type": "code",
      "execution_count": null,
      "id": "e57d8000",
      "metadata": {
        "id": "e57d8000",
        "outputId": "0eba3d05-dc7f-4c64-af8c-d5188f82533a"
      },
      "outputs": [
        {
          "name": "stdout",
          "output_type": "stream",
          "text": [
            "<class 'frozenset'>\n"
          ]
        }
      ],
      "source": [
        "print(type(my_set2))"
      ]
    },
    {
      "cell_type": "code",
      "execution_count": null,
      "id": "57c13deb",
      "metadata": {
        "id": "57c13deb",
        "outputId": "e4fdfff9-17db-4ccd-eef7-047e3779ecbc"
      },
      "outputs": [
        {
          "name": "stdout",
          "output_type": "stream",
          "text": [
            "{1, 2, 3, 4, 5, 6, 7, 8, 9}\n"
          ]
        }
      ],
      "source": [
        "my_set3 = {1,1,1,2,2,2,3,4,5,6,7,8,9}\n",
        "print(my_set3)"
      ]
    },
    {
      "cell_type": "code",
      "execution_count": null,
      "id": "43ff46cf",
      "metadata": {
        "id": "43ff46cf"
      },
      "outputs": [],
      "source": [
        "my_set4 = {'ade','precious',1,'Mr Jeph'}"
      ]
    },
    {
      "cell_type": "markdown",
      "id": "e74e8e47",
      "metadata": {
        "id": "e74e8e47"
      },
      "source": [
        "## Boolean"
      ]
    },
    {
      "cell_type": "code",
      "execution_count": null,
      "id": "81f98889",
      "metadata": {
        "id": "81f98889"
      },
      "outputs": [],
      "source": [
        "blossom = True\n",
        "academy = False"
      ]
    },
    {
      "cell_type": "code",
      "execution_count": null,
      "id": "c3d01707",
      "metadata": {
        "id": "c3d01707",
        "outputId": "2c1f5b3f-212c-4694-9950-bcfbcd5075e2"
      },
      "outputs": [
        {
          "name": "stdout",
          "output_type": "stream",
          "text": [
            "<class 'bool'>\n"
          ]
        }
      ],
      "source": [
        "print(type(blossom))"
      ]
    },
    {
      "cell_type": "code",
      "execution_count": null,
      "id": "26d7800a",
      "metadata": {
        "id": "26d7800a",
        "outputId": "dc15aff8-be4f-4f54-f782-71136973f47c"
      },
      "outputs": [
        {
          "name": "stdout",
          "output_type": "stream",
          "text": [
            "<class 'bool'>\n"
          ]
        }
      ],
      "source": [
        "print(type(academy))"
      ]
    },
    {
      "cell_type": "markdown",
      "id": "0cf8dbd8",
      "metadata": {
        "id": "0cf8dbd8"
      },
      "source": [
        "## String"
      ]
    },
    {
      "cell_type": "code",
      "execution_count": null,
      "id": "e0f340fd",
      "metadata": {
        "id": "e0f340fd"
      },
      "outputs": [],
      "source": [
        "first_name = 'Victor'\n",
        "second_name = \"Victor\""
      ]
    },
    {
      "cell_type": "code",
      "execution_count": null,
      "id": "8774abf1",
      "metadata": {
        "id": "8774abf1",
        "outputId": "00d815e0-3b4b-40fc-e118-895409804326"
      },
      "outputs": [
        {
          "name": "stdout",
          "output_type": "stream",
          "text": [
            "Mr Jeph's Academy is the best\n"
          ]
        }
      ],
      "source": [
        "print('Mr Jeph\\'s Academy is the best')"
      ]
    },
    {
      "cell_type": "code",
      "execution_count": null,
      "id": "a838488d",
      "metadata": {
        "id": "a838488d"
      },
      "outputs": [],
      "source": [
        "thirdname = 'samuel'"
      ]
    },
    {
      "cell_type": "markdown",
      "id": "9d39c128",
      "metadata": {
        "id": "9d39c128"
      },
      "source": [
        "## Questions"
      ]
    },
    {
      "cell_type": "code",
      "execution_count": null,
      "id": "ec45d4ca",
      "metadata": {
        "id": "ec45d4ca",
        "outputId": "8489fa54-cf69-4210-f97d-7d5a32042e2f"
      },
      "outputs": [
        {
          "name": "stdout",
          "output_type": "stream",
          "text": [
            "<class 'float'>\n"
          ]
        }
      ],
      "source": [
        "y = 2.0\n",
        "print(type(y))"
      ]
    },
    {
      "cell_type": "code",
      "execution_count": null,
      "id": "17e20c01",
      "metadata": {
        "id": "17e20c01",
        "outputId": "00b6c1f1-4f82-4c1b-e1e5-30cce58ab3a4"
      },
      "outputs": [
        {
          "name": "stdout",
          "output_type": "stream",
          "text": [
            "<class 'complex'>\n"
          ]
        }
      ],
      "source": [
        "z = 3j\n",
        "print(type(z))"
      ]
    },
    {
      "cell_type": "code",
      "execution_count": null,
      "id": "40a65e93",
      "metadata": {
        "id": "40a65e93",
        "outputId": "1dfbc9a2-8040-4631-e680-bffbb0f05960"
      },
      "outputs": [
        {
          "name": "stdout",
          "output_type": "stream",
          "text": [
            "<class 'tuple'>\n"
          ]
        }
      ],
      "source": [
        "X = 10,000\n",
        "print(type(X))"
      ]
    },
    {
      "cell_type": "code",
      "execution_count": null,
      "id": "65799fd0",
      "metadata": {
        "id": "65799fd0"
      },
      "outputs": [],
      "source": [
        "dict_ = {1:'num',2:'num2'}\n"
      ]
    },
    {
      "cell_type": "code",
      "execution_count": null,
      "id": "c9c2dce6",
      "metadata": {
        "id": "c9c2dce6"
      },
      "outputs": [],
      "source": [
        "dict_ = {1:'num',2:'num2',1:'num3'}"
      ]
    },
    {
      "cell_type": "code",
      "execution_count": null,
      "id": "23a77a90",
      "metadata": {
        "id": "23a77a90",
        "outputId": "9e2fa7bb-25bd-4152-deab-5f2f628a1b3b"
      },
      "outputs": [
        {
          "name": "stdout",
          "output_type": "stream",
          "text": [
            "[2, 3, 4, 4, 5, 6, 7, 8, 9, 1, 1, 2, 0]\n"
          ]
        }
      ],
      "source": [
        "My_list = [2,3,4,4,5,6,7,8,9,1,1,2,0]\n",
        "print(My_list)"
      ]
    },
    {
      "cell_type": "code",
      "execution_count": null,
      "id": "689edc40",
      "metadata": {
        "id": "689edc40",
        "outputId": "b53771c6-a166-4e13-ec3e-a1363418f688"
      },
      "outputs": [
        {
          "data": {
            "text/plain": [
              "'num3'"
            ]
          },
          "execution_count": 65,
          "metadata": {},
          "output_type": "execute_result"
        }
      ],
      "source": [
        "dict_[1]"
      ]
    },
    {
      "cell_type": "code",
      "execution_count": null,
      "id": "640dd6b6",
      "metadata": {
        "id": "640dd6b6",
        "outputId": "140823b1-4e27-4e40-be25-508361aa36da"
      },
      "outputs": [
        {
          "name": "stdout",
          "output_type": "stream",
          "text": [
            "Hello World\n"
          ]
        }
      ],
      "source": [
        "first_name = 'Hello'\n",
        "last_name = 'World'\n",
        "print(first_name + ' ' +  last_name)\n"
      ]
    },
    {
      "cell_type": "code",
      "execution_count": null,
      "id": "1086bb4f",
      "metadata": {
        "id": "1086bb4f"
      },
      "outputs": [],
      "source": [
        "Blossom Academy is the best"
      ]
    },
    {
      "cell_type": "code",
      "execution_count": null,
      "id": "afd2e157",
      "metadata": {
        "id": "afd2e157",
        "outputId": "a8a7b496-5166-476e-8794-e075038252fb"
      },
      "outputs": [
        {
          "name": "stdout",
          "output_type": "stream",
          "text": [
            "Blossom Academy is the best\n"
          ]
        }
      ],
      "source": [
        "name = 'Blossom Academy is the best'\n",
        "print(name)"
      ]
    },
    {
      "cell_type": "code",
      "execution_count": null,
      "id": "e8f386ff",
      "metadata": {
        "id": "e8f386ff"
      },
      "outputs": [],
      "source": [
        "import math"
      ]
    },
    {
      "cell_type": "code",
      "execution_count": null,
      "id": "7a66d0ef",
      "metadata": {
        "id": "7a66d0ef",
        "outputId": "087e9ae2-a1cc-445e-b65b-61182e73c796"
      },
      "outputs": [
        {
          "name": "stdout",
          "output_type": "stream",
          "text": [
            "(2+4j)\n"
          ]
        }
      ],
      "source": [
        "print(2 + 4j)"
      ]
    },
    {
      "cell_type": "code",
      "execution_count": null,
      "id": "163d3ec3",
      "metadata": {
        "id": "163d3ec3",
        "outputId": "0ea3e491-b32f-44dd-f8eb-78abf813d54b"
      },
      "outputs": [
        {
          "name": "stdout",
          "output_type": "stream",
          "text": [
            "Blossom Academy is the best\n"
          ]
        }
      ],
      "source": [
        "F = \"Blossom Academy is the best\"\n",
        "print(F)"
      ]
    },
    {
      "cell_type": "code",
      "execution_count": null,
      "id": "15860a09",
      "metadata": {
        "id": "15860a09",
        "outputId": "3abb7086-ac28-419f-c5ac-79c49909cb03"
      },
      "outputs": [
        {
          "name": "stdout",
          "output_type": "stream",
          "text": [
            "frozenset({1, 2, 3, 4})\n"
          ]
        }
      ],
      "source": [
        "Flourish = frozenset({1,2,3,4})\n",
        "print(Flourish)"
      ]
    }
  ],
  "metadata": {
    "kernelspec": {
      "display_name": "Python 3 (ipykernel)",
      "language": "python",
      "name": "python3"
    },
    "language_info": {
      "codemirror_mode": {
        "name": "ipython",
        "version": 3
      },
      "file_extension": ".py",
      "mimetype": "text/x-python",
      "name": "python",
      "nbconvert_exporter": "python",
      "pygments_lexer": "ipython3",
      "version": "3.8.1"
    },
    "colab": {
      "provenance": []
    }
  },
  "nbformat": 4,
  "nbformat_minor": 5
}
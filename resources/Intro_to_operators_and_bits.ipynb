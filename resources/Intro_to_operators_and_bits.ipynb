{
 "cells": [
  {
   "cell_type": "markdown",
   "id": "8ccb695b",
   "metadata": {},
   "source": [
    "## Exercise"
   ]
  },
  {
   "cell_type": "markdown",
   "id": "764d232d",
   "metadata": {},
   "source": [
    "\n",
    "\n",
    "### 1. Calculate the sum of two numbers using the addition operator.\n",
    "\n",
    "### 2. Find the difference between two numbers using the subtraction operator.\n",
    "\n",
    "### 3. Multiply two numbers using the multiplication operator.\n",
    "\n",
    "### 4. Divide two numbers using the division operator.\n",
    "\n",
    "### 5. Calculate the remainder when dividing one number by another using the modulo operator.\n",
    "\n",
    "### 6. Raise a number to a power using the exponentiation operator.\n",
    "\n",
    "### 7. Use logical operators to check if a number is divisible by both 3 and 5\n",
    "\n",
    "### 8. Check if two numbers are equal using the equality operator.\n",
    "\n",
    "### 9. Check if one number is greater than another using the greater than operator.\n",
    "\n",
    "### 10. Check if one number is less than another using the less than operator.\n",
    "\n",
    "### 11. Check if one number is greater than or equal to another using the greater than or equal to operator.\n",
    "\n",
    "### 12. Check if one number is less than or equal to another using the less than or equal to operator.\n",
    "\n",
    "### 13. Check if two values are not equal using the not equal to operator.\n",
    "\n",
    "### 14. Perform bitwise AND operation between two numbers using the bitwise AND operator.\n",
    "\n",
    "### 15. Perform bitwise OR operation between two numbers using the bitwise OR operator.\n",
    "\n",
    "### 16. Perform bitwise XOR operation between two numbers using the bitwise XOR operator.\n",
    "\n",
    "### 17. Perform bitwise NOT operation on a number using the bitwise NOT operator.\n",
    "\n",
    "### 18. Perform left shift operation on a number using the left shift operator.\n",
    "\n",
    "### 19. Perform right shift operation on a number using the right shift operator.\n",
    "\n",
    "### 20. Use logical operators to check if a string contains both 'a' and 'b'. let the string = 'abcde'\n",
    "\n",
    "\n",
    "\n"
   ]
  },
  {
   "cell_type": "markdown",
   "id": "1354fb83",
   "metadata": {},
   "source": [
    "### Let the first number be 10 and the second number be 5\n"
   ]
  },
  {
   "cell_type": "code",
   "execution_count": 5,
   "id": "c6eeebe9",
   "metadata": {},
   "outputs": [
    {
     "name": "stdout",
     "output_type": "stream",
     "text": [
      "15\n"
     ]
    }
   ],
   "source": [
    "## Sum of two numbers using the addition operator\n",
    "\n",
    "num_one = 10\n",
    "num_two = 5\n",
    "print(num_one + num_two)"
   ]
  },
  {
   "cell_type": "code",
   "execution_count": 6,
   "id": "44e2a93b",
   "metadata": {},
   "outputs": [
    {
     "name": "stdout",
     "output_type": "stream",
     "text": [
      "5\n"
     ]
    }
   ],
   "source": [
    "## Subtractin of two numbers using the subtraction operator\n",
    "\n",
    "num_one = 10\n",
    "num_two = 5\n",
    "print(num_one - num_two)"
   ]
  },
  {
   "cell_type": "code",
   "execution_count": 7,
   "id": "ea74076b",
   "metadata": {},
   "outputs": [
    {
     "name": "stdout",
     "output_type": "stream",
     "text": [
      "50\n"
     ]
    }
   ],
   "source": [
    "## Myltiplication of two numbers using the multiplication operator\n",
    "\n",
    "num_one = 10\n",
    "num_two = 5\n",
    "print(num_one * num_two)"
   ]
  },
  {
   "cell_type": "code",
   "execution_count": 8,
   "id": "7dd5d2b4",
   "metadata": {},
   "outputs": [
    {
     "name": "stdout",
     "output_type": "stream",
     "text": [
      "2.0\n"
     ]
    }
   ],
   "source": [
    "## Division of two numbers using the division operator\n",
    "\n",
    "num_one = 10\n",
    "num_two = 5\n",
    "print(num_one / num_two)"
   ]
  },
  {
   "cell_type": "code",
   "execution_count": 9,
   "id": "7c733cf2",
   "metadata": {},
   "outputs": [
    {
     "name": "stdout",
     "output_type": "stream",
     "text": [
      "0\n"
     ]
    }
   ],
   "source": [
    "## Remainder of two numbers using the modulus operator\n",
    "\n",
    "num_one = 10\n",
    "num_two = 5\n",
    "print(num_one % num_two)"
   ]
  },
  {
   "cell_type": "code",
   "execution_count": 10,
   "id": "696c73fc",
   "metadata": {},
   "outputs": [
    {
     "name": "stdout",
     "output_type": "stream",
     "text": [
      "1000\n"
     ]
    }
   ],
   "source": [
    "## Raise a number using the exponential operator\n",
    "\n",
    "num = 10\n",
    "exponential_to_raise_to = 3\n",
    "print(num ** 3)\n"
   ]
  },
  {
   "cell_type": "code",
   "execution_count": 11,
   "metadata": {},
   "outputs": [
    {
     "name": "stdout",
     "output_type": "stream",
     "text": [
      "False\n"
     ]
    }
   ],
   "source": [
    "## Using logical operator to check if a value is divisble by both 3 and 5\n",
    "\n",
    "value = 10\n",
    "value_two = 5\n",
    "if(value % 3 == 0 and value_two % 5 == 0):\n",
    "    print(True)\n",
    "else:\n",
    "    print(False)"
   ]
  },
  {
   "cell_type": "code",
   "execution_count": 12,
   "id": "3a7d8bd9",
   "metadata": {},
   "outputs": [
    {
     "name": "stdout",
     "output_type": "stream",
     "text": [
      "False\n"
     ]
    }
   ],
   "source": [
    "value_one = 10\n",
    "value_two = 5\n",
    "\n",
    "if(value_one == value_two):\n",
    "    print(True)\n",
    "else:\n",
    "    print(False)"
   ]
  },
  {
   "cell_type": "code",
   "execution_count": 13,
   "id": "2f99b4a9",
   "metadata": {},
   "outputs": [
    {
     "name": "stdout",
     "output_type": "stream",
     "text": [
      "Value 10 is greater than 5\n"
     ]
    }
   ],
   "source": [
    "value = 10\n",
    "value_two = 5\n",
    "if value > value_two:\n",
    "    print(\"Value {} is greater than {}\".format(value, value_two))"
   ]
  },
  {
   "cell_type": "code",
   "execution_count": 14,
   "id": "27142a63",
   "metadata": {},
   "outputs": [],
   "source": [
    "value = 10\n",
    "value_two = 5\n",
    "if value < value_two:\n",
    "    print(\"Value {} is less than {}\".format(value, value_two))"
   ]
  },
  {
   "cell_type": "code",
   "execution_count": 15,
   "id": "548bf698",
   "metadata": {},
   "outputs": [
    {
     "name": "stdout",
     "output_type": "stream",
     "text": [
      "Value 10 is greater than 5\n"
     ]
    }
   ],
   "source": [
    "value = 10\n",
    "value_two = 5\n",
    "if value >= value_two:\n",
    "    print(\"Value {} is greater than {}\".format(value, value_two))"
   ]
  },
  {
   "cell_type": "code",
   "execution_count": 16,
   "id": "a6f87a64",
   "metadata": {},
   "outputs": [
    {
     "name": "stdout",
     "output_type": "stream",
     "text": [
      "Value 10 is not equal to 5\n"
     ]
    }
   ],
   "source": [
    "value = 10\n",
    "value_two = 5\n",
    "if value != value_two:\n",
    "    print(\"Value {} is not equal to {}\".format(value, value_two))"
   ]
  },
  {
   "cell_type": "code",
   "execution_count": 17,
   "id": "1ad6767e",
   "metadata": {},
   "outputs": [
    {
     "name": "stdout",
     "output_type": "stream",
     "text": [
      "Result of bitwise AND operation: 0\n"
     ]
    }
   ],
   "source": [
    "\n",
    "num1 = 10  \n",
    "num2 = 5  \n",
    "\n",
    "# Perform bitwise AND operation\n",
    "result = num1 & num2\n",
    "\n",
    "\n",
    "print(\"Result of bitwise AND operation:\", result)\n"
   ]
  },
  {
   "cell_type": "code",
   "execution_count": 18,
   "id": "9bd75a2a",
   "metadata": {},
   "outputs": [
    {
     "name": "stdout",
     "output_type": "stream",
     "text": [
      "Result of bitwise OR operation: 15\n"
     ]
    }
   ],
   "source": [
    "\n",
    "num1 = 10    \n",
    "num2 = 5   \n",
    "\n",
    "# Perform bitwise OR operation\n",
    "result = num1 | num2\n",
    "\n",
    "\n",
    "print(\"Result of bitwise OR operation:\", result)\n"
   ]
  },
  {
   "cell_type": "code",
   "execution_count": 19,
   "id": "71165e0a",
   "metadata": {},
   "outputs": [
    {
     "name": "stdout",
     "output_type": "stream",
     "text": [
      "Result of bitwise XOR operation: 15\n"
     ]
    }
   ],
   "source": [
    "\n",
    "num1 = 10   \n",
    "num2 = 5   \n",
    "\n",
    "# Perform bitwise XOR operation\n",
    "result = num1 ^ num2\n",
    "\n",
    "\n",
    "print(\"Result of bitwise XOR operation:\", result)\n"
   ]
  },
  {
   "cell_type": "code",
   "execution_count": 20,
   "id": "087780ba",
   "metadata": {},
   "outputs": [
    {
     "name": "stdout",
     "output_type": "stream",
     "text": [
      "Result of bitwise XOR operation: 15\n"
     ]
    }
   ],
   "source": [
    "# Convert to binary\n",
    "num1 = 10   \n",
    "num2 = 5   \n",
    "\n",
    "# Perform bitwise XOR operation\n",
    "result = num1 ^ num2\n",
    "\n",
    "# Print the result\n",
    "print(\"Result of bitwise XOR operation:\", result)\n"
   ]
  },
  {
   "cell_type": "code",
   "execution_count": 21,
   "id": "4555768e",
   "metadata": {},
   "outputs": [
    {
     "name": "stdout",
     "output_type": "stream",
     "text": [
      "Result of bitwise NOT operation: -11\n"
     ]
    }
   ],
   "source": [
    "\n",
    "num = 10\n",
    "\n",
    "# Perform bitwise NOT operation\n",
    "result = ~num\n",
    "\n",
    "# Print the result\n",
    "print(\"Result of bitwise NOT operation:\", result)\n"
   ]
  },
  {
   "cell_type": "code",
   "execution_count": 22,
   "id": "80fb1c8b",
   "metadata": {},
   "outputs": [
    {
     "name": "stdout",
     "output_type": "stream",
     "text": [
      "Result of left shift operation: 40\n"
     ]
    }
   ],
   "source": [
    "\n",
    "num = 10   \n",
    "\n",
    "# Number of positions to shift\n",
    "shift_amount = 2\n",
    "\n",
    "# Perform left shift operation\n",
    "result = num << shift_amount\n",
    "\n",
    "# Print the result\n",
    "print(\"Result of left shift operation:\", result)\n"
   ]
  },
  {
   "cell_type": "code",
   "execution_count": 23,
   "id": "65f02ae3",
   "metadata": {},
   "outputs": [
    {
     "name": "stdout",
     "output_type": "stream",
     "text": [
      "Result of right shift operation: 40\n"
     ]
    }
   ],
   "source": [
    "num = 10\n",
    "\n",
    "# Number of positions to shift\n",
    "shift_amount = 2\n",
    "\n",
    "# Perform left shift operation\n",
    "result = num << shift_amount\n",
    "\n",
    "# Print the result\n",
    "print(\"Result of right shift operation:\", result)"
   ]
  },
  {
   "cell_type": "code",
   "execution_count": 24,
   "id": "0d25ecb0",
   "metadata": {},
   "outputs": [
    {
     "name": "stdout",
     "output_type": "stream",
     "text": [
      "The string contains both 'a' and 'b'.\n"
     ]
    }
   ],
   "source": [
    "\n",
    "string = 'abcde'\n",
    "\n",
    "# Check if both 'a' and 'b' are in the string\n",
    "if 'a' in string and 'b' in string:\n",
    "    print(\"The string contains both 'a' and 'b'.\")\n",
    "else:\n",
    "    print(\"The string does not contain both 'a' and 'b'.\")\n"
   ]
  }
 ],
 "metadata": {
  "kernelspec": {
   "display_name": "Python 3 (ipykernel)",
   "language": "python",
   "name": "python3"
  },
  "language_info": {
   "codemirror_mode": {
    "name": "ipython",
    "version": 3
   },
   "file_extension": ".py",
   "mimetype": "text/x-python",
   "name": "python",
   "nbconvert_exporter": "python",
   "pygments_lexer": "ipython3",
   "version": "3.11.8"
  }
 },
 "nbformat": 4,
 "nbformat_minor": 5
}

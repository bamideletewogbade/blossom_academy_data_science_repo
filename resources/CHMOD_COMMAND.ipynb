{
  "cells": [
    {
      "cell_type": "markdown",
      "id": "95f06b10",
      "metadata": {
        "id": "95f06b10"
      },
      "source": [
        "# CHMOD COMMAND"
      ]
    },
    {
      "cell_type": "markdown",
      "id": "edc98b4d",
      "metadata": {
        "id": "edc98b4d"
      },
      "source": [
        "### chmod is a command used in Unix and Unix-like operating systems to change the access permissions of files and directories. There are two main ways to use `chmod`: symbolic mode and absolute mode.\n",
        "\n"
      ]
    },
    {
      "cell_type": "markdown",
      "id": "3ba19ed5",
      "metadata": {
        "id": "3ba19ed5"
      },
      "source": [
        "## **Symbolic Mode:**\n",
        "####   Symbolic mode allows you to change permissions symbolically using letters like u (user/owner), g (group), o (others), and a (all), along with operators like + (add), - (remove), and = (set).\n",
        "   \n",
        "   **Examples:**\n",
        "   - To give read and write permission to the owner and group:\n",
        "     ```\n",
        "     chmod ug+rw file.txt\n",
        "     ```\n",
        "   - To remove execute permission from others:\n",
        "     ```\n",
        "     chmod o-x script.sh\n",
        "     ```\n",
        "   - To set all permissions for everyone:\n",
        "     ```\n",
        "     chmod a+rwx directory\n",
        "     ```\n",
        "\n",
        "## **Absolute Mode (Numeric Mode):**\n",
        "###   Absolute mode allows you to set permissions using numeric values where each permission is represented by a digit:\n",
        "   - Read (4)\n",
        "   - Write (2)\n",
        "   - Execute (1)\n",
        "   \n",
        "   You can add these values together to represent the desired permissions. For example, read and write would be 4 + 2 = 6.\n",
        "   \n",
        "   **Examples:**\n",
        "   - To give read and write permission to the owner, and read-only permission to the group and others:\n",
        "     ```\n",
        "     chmod 644 file.txt\n",
        "     ```\n",
        "   - To give full permissions to the owner and read-only permissions to the group and others:\n",
        "     ```\n",
        "     chmod 755 script.sh\n",
        "     ```\n",
        "   - To restrict all permissions for group and others, allowing only the owner to have full access:\n",
        "     ```\n",
        "     chmod 700 private_directory\n",
        "     ```\n",
        "\n"
      ]
    },
    {
      "cell_type": "markdown",
      "id": "9c8c2e29",
      "metadata": {
        "id": "9c8c2e29"
      },
      "source": [
        "## **Symbolic Mode:**"
      ]
    },
    {
      "cell_type": "markdown",
      "id": "a3a00135",
      "metadata": {
        "id": "a3a00135"
      },
      "source": [
        "### **Question 1:** How do you remove write permission for others from a directory named \"docs\"?"
      ]
    },
    {
      "cell_type": "code",
      "execution_count": null,
      "id": "f66fff0f",
      "metadata": {
        "id": "f66fff0f"
      },
      "outputs": [],
      "source": [
        "%%bash\n",
        "\n",
        "mkdir docs"
      ]
    },
    {
      "cell_type": "code",
      "execution_count": null,
      "id": "652d04b4",
      "metadata": {
        "id": "652d04b4"
      },
      "outputs": [],
      "source": [
        "%%bash\n",
        "chmod o-w docs"
      ]
    },
    {
      "cell_type": "code",
      "execution_count": null,
      "id": "89ad24dd",
      "metadata": {
        "id": "89ad24dd",
        "outputId": "5a26b194-13ff-4bd7-e398-40b228ab749d"
      },
      "outputs": [
        {
          "name": "stdout",
          "output_type": "stream",
          "text": [
            "total 212\n",
            "-rw-r--r--  1 jovyan jovyan    87 Apr 27 07:54 app.txt\n",
            "drwxr-xr-x  2 jovyan jovyan  4096 Apr 27 07:40 Autumn\n",
            "drwxr-xr-x  2 jovyan jovyan  4096 Apr 27 07:39 Backup\n",
            "-rw-r--r--  1 jovyan jovyan    46 Apr 27 07:41 banana.txt\n",
            "drwxr-xr-x  1 jovyan jovyan  4096 Apr 27 07:36 binder\n",
            "drwxr-xr-x  2 jovyan jovyan  4096 Apr 27 07:40 Blossom\n",
            "-rw-r--r--  1 jovyan jovyan   135 Apr 27 07:39 blossom_academy_.tar.gz\n",
            "-rw-r--r--  1 jovyan jovyan 27356 Apr 27 08:42 CHMOD COMMAND.ipynb\n",
            "-r--r-----  1 jovyan jovyan    23 Apr 27 08:35 data.txt\n",
            "-rw-r--r--  1 jovyan jovyan     0 Apr 27 07:54 directory_list\n",
            "drwxr-xr-x  2 jovyan jovyan  4096 Apr 27 08:25 docs\n",
            "-rwx------  1 jovyan jovyan     0 Apr 27 08:37 document.txt\n",
            "drwxr-xr-x 10 jovyan jovyan  4096 Feb 23  2022 examples\n",
            "-r-xr-x---  1 jovyan jovyan    38 Apr 27 08:40 execute.sh\n",
            "drwxr-xr-x 10 jovyan jovyan  4096 Feb 23  2022 exercises\n",
            "-rw-r--r--  1 jovyan jovyan   699 Feb 23  2022 fabfile.py\n",
            "drwxr--r--  2 jovyan jovyan  4096 Apr 27 08:36 files\n",
            "drwxr-xr-x  3 jovyan jovyan  4096 Apr 27 07:41 hmp\n",
            "-rw-r--r--  1 jovyan jovyan  2755 Feb 23  2022 Index.ipynb\n",
            "-rw-r--r--  1 jovyan jovyan 17626 Feb 23  2022 LICENSE\n",
            "-rwxr-xr-x  1 jovyan jovyan   466 Feb 23  2022 monitor.sh\n",
            "-rw-r--r--  1 jovyan jovyan    25 Apr 27 07:41 orange.txt\n",
            "-rw-r--r--  1 jovyan jovyan  2756 Feb 23  2022 pycon-2015-abstract.md\n",
            "-rw-r--r--  1 jovyan jovyan  6824 Feb 23  2022 pycon-submission.md\n",
            "-rw-r--r--  1 jovyan jovyan  1802 Feb 23  2022 README.md\n",
            "-rwxr-xr-x  1 jovyan jovyan    29 Apr 27 08:34 run.sh\n",
            "drw-rw-r--  2 jovyan jovyan  4096 Apr 27 08:41 shared\n",
            "-rw-r--r--  1 jovyan jovyan    12 Apr 27 07:40 sorted_list.txt\n",
            "-rw-r--r--  1 jovyan jovyan    59 Apr 27 07:41 sunflower.txt\n",
            "drwxr-xr-x  2 jovyan jovyan  4096 Apr 27 07:39 TextFiles\n",
            "drwxr-xr-x  2 jovyan jovyan  4096 Feb 23  2022 tools\n",
            "-rw-r--r--  1 jovyan jovyan 18305 Apr 27 07:55 UNIX_NOTEBOOK (1).ipynb\n",
            "-rw-r--r--  1 jovyan jovyan 21992 Apr 27 08:40 Untitled.ipynb\n",
            "drwx---r-x  2 jovyan jovyan  4096 Apr 27 08:32 work\n"
          ]
        }
      ],
      "source": [
        "%%bash\n",
        "ls -l"
      ]
    },
    {
      "cell_type": "markdown",
      "id": "7df025cc",
      "metadata": {
        "id": "7df025cc"
      },
      "source": [
        "### **Question 2:** How do you give read and execute permission for all (owner, group, and others) to a script named \"run.sh\"?"
      ]
    },
    {
      "cell_type": "code",
      "execution_count": null,
      "id": "6a7a55a6",
      "metadata": {
        "id": "6a7a55a6"
      },
      "outputs": [],
      "source": [
        "%%bash\n",
        "touch run.sh\n",
        "echo \"#!/bin/bash\" > run.sh\n",
        "echo 'Hello EVeryone'>>run.sh"
      ]
    },
    {
      "cell_type": "code",
      "execution_count": null,
      "id": "d925b9cf",
      "metadata": {
        "id": "d925b9cf"
      },
      "outputs": [],
      "source": [
        "%%bash\n",
        "chmod a+rx run.sh\n"
      ]
    },
    {
      "cell_type": "code",
      "execution_count": null,
      "id": "cd4381c1",
      "metadata": {
        "id": "cd4381c1",
        "outputId": "83233ed3-21fa-4a1e-ba2d-47289e016fdb"
      },
      "outputs": [
        {
          "name": "stdout",
          "output_type": "stream",
          "text": [
            "#!/bin/bash\n",
            "Hello EVeryone\n"
          ]
        }
      ],
      "source": [
        "%%bash\n",
        "cat run.sh"
      ]
    },
    {
      "cell_type": "code",
      "execution_count": null,
      "id": "97622d70",
      "metadata": {
        "id": "97622d70",
        "outputId": "3b91baf8-2b93-4ed8-b4d3-b3fc6adf6ec2"
      },
      "outputs": [
        {
          "name": "stdout",
          "output_type": "stream",
          "text": [
            "total 212\n",
            "-rw-r--r--  1 jovyan jovyan    87 Apr 27 07:54 app.txt\n",
            "drwxr-xr-x  2 jovyan jovyan  4096 Apr 27 07:40 Autumn\n",
            "drwxr-xr-x  2 jovyan jovyan  4096 Apr 27 07:39 Backup\n",
            "-rw-r--r--  1 jovyan jovyan    46 Apr 27 07:41 banana.txt\n",
            "drwxr-xr-x  1 jovyan jovyan  4096 Apr 27 07:36 binder\n",
            "drwxr-xr-x  2 jovyan jovyan  4096 Apr 27 07:40 Blossom\n",
            "-rw-r--r--  1 jovyan jovyan   135 Apr 27 07:39 blossom_academy_.tar.gz\n",
            "-rw-r--r--  1 jovyan jovyan 27356 Apr 27 08:42 CHMOD COMMAND.ipynb\n",
            "-r--r-----  1 jovyan jovyan    23 Apr 27 08:35 data.txt\n",
            "-rw-r--r--  1 jovyan jovyan     0 Apr 27 07:54 directory_list\n",
            "drwxr-xr-x  2 jovyan jovyan  4096 Apr 27 08:25 docs\n",
            "-rwx------  1 jovyan jovyan     0 Apr 27 08:37 document.txt\n",
            "drwxr-xr-x 10 jovyan jovyan  4096 Feb 23  2022 examples\n",
            "-r-xr-x---  1 jovyan jovyan    38 Apr 27 08:40 execute.sh\n",
            "drwxr-xr-x 10 jovyan jovyan  4096 Feb 23  2022 exercises\n",
            "-rw-r--r--  1 jovyan jovyan   699 Feb 23  2022 fabfile.py\n",
            "drwxr--r--  2 jovyan jovyan  4096 Apr 27 08:36 files\n",
            "drwxr-xr-x  3 jovyan jovyan  4096 Apr 27 07:41 hmp\n",
            "-rw-r--r--  1 jovyan jovyan  2755 Feb 23  2022 Index.ipynb\n",
            "-rw-r--r--  1 jovyan jovyan 17626 Feb 23  2022 LICENSE\n",
            "-rwxr-xr-x  1 jovyan jovyan   466 Feb 23  2022 monitor.sh\n",
            "-rw-r--r--  1 jovyan jovyan    25 Apr 27 07:41 orange.txt\n",
            "-rw-r--r--  1 jovyan jovyan  2756 Feb 23  2022 pycon-2015-abstract.md\n",
            "-rw-r--r--  1 jovyan jovyan  6824 Feb 23  2022 pycon-submission.md\n",
            "-rw-r--r--  1 jovyan jovyan  1802 Feb 23  2022 README.md\n",
            "-rwxr-xr-x  1 jovyan jovyan    27 Apr 27 08:52 run.sh\n",
            "drw-rw-r--  2 jovyan jovyan  4096 Apr 27 08:41 shared\n",
            "-rw-r--r--  1 jovyan jovyan    12 Apr 27 07:40 sorted_list.txt\n",
            "-rw-r--r--  1 jovyan jovyan    59 Apr 27 07:41 sunflower.txt\n",
            "drwxr-xr-x  2 jovyan jovyan  4096 Apr 27 07:39 TextFiles\n",
            "drwxr-xr-x  2 jovyan jovyan  4096 Feb 23  2022 tools\n",
            "-rw-r--r--  1 jovyan jovyan 18305 Apr 27 07:55 UNIX_NOTEBOOK (1).ipynb\n",
            "-rw-r--r--  1 jovyan jovyan 21992 Apr 27 08:40 Untitled.ipynb\n",
            "drwx---r-x  2 jovyan jovyan  4096 Apr 27 08:32 work\n"
          ]
        }
      ],
      "source": [
        "%%bash\n",
        "ls -l"
      ]
    },
    {
      "cell_type": "markdown",
      "id": "4420606f",
      "metadata": {
        "id": "4420606f"
      },
      "source": [
        "### **Question 3:** How do you remove all permissions for the group from a directory named \"work\"?"
      ]
    },
    {
      "cell_type": "code",
      "execution_count": null,
      "id": "de6e0bc7",
      "metadata": {
        "id": "de6e0bc7"
      },
      "outputs": [],
      "source": [
        "%%bash\n",
        "mkdir work"
      ]
    },
    {
      "cell_type": "code",
      "execution_count": null,
      "id": "2d46d1d8",
      "metadata": {
        "id": "2d46d1d8"
      },
      "outputs": [],
      "source": [
        "%%bash\n",
        "chmod g-rwx work"
      ]
    },
    {
      "cell_type": "code",
      "execution_count": null,
      "id": "c03e5808",
      "metadata": {
        "id": "c03e5808",
        "outputId": "0ed994e6-fdc6-45d2-8234-594339df810d"
      },
      "outputs": [
        {
          "name": "stdout",
          "output_type": "stream",
          "text": [
            "total 212\n",
            "-rw-r--r--  1 jovyan jovyan    87 Apr 27 07:54 app.txt\n",
            "drwxr-xr-x  2 jovyan jovyan  4096 Apr 27 07:40 Autumn\n",
            "drwxr-xr-x  2 jovyan jovyan  4096 Apr 27 07:39 Backup\n",
            "-rw-r--r--  1 jovyan jovyan    46 Apr 27 07:41 banana.txt\n",
            "drwxr-xr-x  1 jovyan jovyan  4096 Apr 27 07:36 binder\n",
            "drwxr-xr-x  2 jovyan jovyan  4096 Apr 27 07:40 Blossom\n",
            "-rw-r--r--  1 jovyan jovyan   135 Apr 27 07:39 blossom_academy_.tar.gz\n",
            "-rw-r--r--  1 jovyan jovyan 28365 Apr 27 08:52 CHMOD COMMAND.ipynb\n",
            "-r--r-----  1 jovyan jovyan    23 Apr 27 08:35 data.txt\n",
            "-rw-r--r--  1 jovyan jovyan     0 Apr 27 07:54 directory_list\n",
            "drwxr-xr-x  2 jovyan jovyan  4096 Apr 27 08:25 docs\n",
            "-rwx------  1 jovyan jovyan     0 Apr 27 08:37 document.txt\n",
            "drwxr-xr-x 10 jovyan jovyan  4096 Feb 23  2022 examples\n",
            "-r-xr-x---  1 jovyan jovyan    38 Apr 27 08:40 execute.sh\n",
            "drwxr-xr-x 10 jovyan jovyan  4096 Feb 23  2022 exercises\n",
            "-rw-r--r--  1 jovyan jovyan   699 Feb 23  2022 fabfile.py\n",
            "drwxr--r--  2 jovyan jovyan  4096 Apr 27 08:36 files\n",
            "drwxr-xr-x  3 jovyan jovyan  4096 Apr 27 07:41 hmp\n",
            "-rw-r--r--  1 jovyan jovyan  2755 Feb 23  2022 Index.ipynb\n",
            "-rw-r--r--  1 jovyan jovyan 17626 Feb 23  2022 LICENSE\n",
            "-rwxr-xr-x  1 jovyan jovyan   466 Feb 23  2022 monitor.sh\n",
            "-rw-r--r--  1 jovyan jovyan    25 Apr 27 07:41 orange.txt\n",
            "-rw-r--r--  1 jovyan jovyan  2756 Feb 23  2022 pycon-2015-abstract.md\n",
            "-rw-r--r--  1 jovyan jovyan  6824 Feb 23  2022 pycon-submission.md\n",
            "-rw-r--r--  1 jovyan jovyan  1802 Feb 23  2022 README.md\n",
            "-rwxr-xr-x  1 jovyan jovyan    27 Apr 27 08:52 run.sh\n",
            "drw-rw-r--  2 jovyan jovyan  4096 Apr 27 08:41 shared\n",
            "-rw-r--r--  1 jovyan jovyan    12 Apr 27 07:40 sorted_list.txt\n",
            "-rw-r--r--  1 jovyan jovyan    59 Apr 27 07:41 sunflower.txt\n",
            "drwxr-xr-x  2 jovyan jovyan  4096 Apr 27 07:39 TextFiles\n",
            "drwxr-xr-x  2 jovyan jovyan  4096 Feb 23  2022 tools\n",
            "-rw-r--r--  1 jovyan jovyan 18305 Apr 27 07:55 UNIX_NOTEBOOK (1).ipynb\n",
            "-rw-r--r--  1 jovyan jovyan 21992 Apr 27 08:40 Untitled.ipynb\n",
            "drwx---r-x  2 jovyan jovyan  4096 Apr 27 08:32 work\n"
          ]
        }
      ],
      "source": [
        "%%bash\n",
        "ls -l"
      ]
    },
    {
      "cell_type": "markdown",
      "id": "45758aef",
      "metadata": {
        "id": "45758aef"
      },
      "source": [
        "### **Question 4:** How do you set read-only permissions for the owner and group, and no permissions for others for a file named \"Data.txt\"?"
      ]
    },
    {
      "cell_type": "code",
      "execution_count": null,
      "id": "c952531d",
      "metadata": {
        "id": "c952531d"
      },
      "outputs": [],
      "source": [
        "%%bash\n",
        "touch Data.txt\n",
        "echo \"I love blossom academy\" > Data.txt"
      ]
    },
    {
      "cell_type": "code",
      "execution_count": null,
      "id": "f2c538af",
      "metadata": {
        "id": "f2c538af"
      },
      "outputs": [],
      "source": [
        "%%bash\n",
        "chmod ug=r,o= Data.txt"
      ]
    },
    {
      "cell_type": "code",
      "execution_count": null,
      "id": "8df998da",
      "metadata": {
        "id": "8df998da",
        "outputId": "a606643a-c38a-41fd-b27f-b895434a4d0a"
      },
      "outputs": [
        {
          "name": "stdout",
          "output_type": "stream",
          "text": [
            "total 216\n",
            "-rw-r--r--  1 jovyan jovyan    87 Apr 27 07:54 app.txt\n",
            "drwxr-xr-x  2 jovyan jovyan  4096 Apr 27 07:40 Autumn\n",
            "drwxr-xr-x  2 jovyan jovyan  4096 Apr 27 07:39 Backup\n",
            "-rw-r--r--  1 jovyan jovyan    46 Apr 27 07:41 banana.txt\n",
            "drwxr-xr-x  1 jovyan jovyan  4096 Apr 27 07:36 binder\n",
            "drwxr-xr-x  2 jovyan jovyan  4096 Apr 27 07:40 Blossom\n",
            "-rw-r--r--  1 jovyan jovyan   135 Apr 27 07:39 blossom_academy_.tar.gz\n",
            "-rw-r--r--  1 jovyan jovyan 28365 Apr 27 08:52 CHMOD COMMAND.ipynb\n",
            "-r--r-----  1 jovyan jovyan    23 Apr 27 08:35 data.txt\n",
            "-r--r-----  1 jovyan jovyan    23 Apr 27 08:53 Data.txt\n",
            "-rw-r--r--  1 jovyan jovyan     0 Apr 27 07:54 directory_list\n",
            "drwxr-xr-x  2 jovyan jovyan  4096 Apr 27 08:25 docs\n",
            "-rwx------  1 jovyan jovyan     0 Apr 27 08:37 document.txt\n",
            "drwxr-xr-x 10 jovyan jovyan  4096 Feb 23  2022 examples\n",
            "-r-xr-x---  1 jovyan jovyan    38 Apr 27 08:40 execute.sh\n",
            "drwxr-xr-x 10 jovyan jovyan  4096 Feb 23  2022 exercises\n",
            "-rw-r--r--  1 jovyan jovyan   699 Feb 23  2022 fabfile.py\n",
            "drwxr--r--  2 jovyan jovyan  4096 Apr 27 08:36 files\n",
            "drwxr-xr-x  3 jovyan jovyan  4096 Apr 27 07:41 hmp\n",
            "-rw-r--r--  1 jovyan jovyan  2755 Feb 23  2022 Index.ipynb\n",
            "-rw-r--r--  1 jovyan jovyan 17626 Feb 23  2022 LICENSE\n",
            "-rwxr-xr-x  1 jovyan jovyan   466 Feb 23  2022 monitor.sh\n",
            "-rw-r--r--  1 jovyan jovyan    25 Apr 27 07:41 orange.txt\n",
            "-rw-r--r--  1 jovyan jovyan  2756 Feb 23  2022 pycon-2015-abstract.md\n",
            "-rw-r--r--  1 jovyan jovyan  6824 Feb 23  2022 pycon-submission.md\n",
            "-rw-r--r--  1 jovyan jovyan  1802 Feb 23  2022 README.md\n",
            "-rwxr-xr-x  1 jovyan jovyan    27 Apr 27 08:52 run.sh\n",
            "drw-rw-r--  2 jovyan jovyan  4096 Apr 27 08:41 shared\n",
            "-rw-r--r--  1 jovyan jovyan    12 Apr 27 07:40 sorted_list.txt\n",
            "-rw-r--r--  1 jovyan jovyan    59 Apr 27 07:41 sunflower.txt\n",
            "drwxr-xr-x  2 jovyan jovyan  4096 Apr 27 07:39 TextFiles\n",
            "drwxr-xr-x  2 jovyan jovyan  4096 Feb 23  2022 tools\n",
            "-rw-r--r--  1 jovyan jovyan 18305 Apr 27 07:55 UNIX_NOTEBOOK (1).ipynb\n",
            "-rw-r--r--  1 jovyan jovyan 21992 Apr 27 08:40 Untitled.ipynb\n",
            "drwx---r-x  2 jovyan jovyan  4096 Apr 27 08:32 work\n"
          ]
        }
      ],
      "source": [
        "%%bash\n",
        "ls -l"
      ]
    },
    {
      "cell_type": "markdown",
      "id": "18471cab",
      "metadata": {
        "id": "18471cab"
      },
      "source": [
        "## **Absolute Mode (Numeric Mode):**\n"
      ]
    },
    {
      "cell_type": "markdown",
      "id": "32353cb5",
      "metadata": {
        "id": "32353cb5"
      },
      "source": [
        "### **Question 1:** How do you give full permissions (read, write, and execute) to the owner, and read-only permissions to the group and others for a directory named \"files\"?\n",
        "   "
      ]
    },
    {
      "cell_type": "code",
      "execution_count": null,
      "id": "75bb1cec",
      "metadata": {
        "id": "75bb1cec"
      },
      "outputs": [],
      "source": [
        "%%bash\n",
        "mkdir files"
      ]
    },
    {
      "cell_type": "code",
      "execution_count": null,
      "id": "fa4c8f63",
      "metadata": {
        "id": "fa4c8f63"
      },
      "outputs": [],
      "source": [
        "%%bash\n",
        "chmod 744 files"
      ]
    },
    {
      "cell_type": "code",
      "execution_count": null,
      "id": "770f81dd",
      "metadata": {
        "id": "770f81dd",
        "outputId": "60157a04-02c3-4554-8317-dbf690a78060"
      },
      "outputs": [
        {
          "name": "stdout",
          "output_type": "stream",
          "text": [
            "total 216\n",
            "-rw-r--r--  1 jovyan jovyan    87 Apr 27 07:54 app.txt\n",
            "drwxr-xr-x  2 jovyan jovyan  4096 Apr 27 07:40 Autumn\n",
            "drwxr-xr-x  2 jovyan jovyan  4096 Apr 27 07:39 Backup\n",
            "-rw-r--r--  1 jovyan jovyan    46 Apr 27 07:41 banana.txt\n",
            "drwxr-xr-x  1 jovyan jovyan  4096 Apr 27 07:36 binder\n",
            "drwxr-xr-x  2 jovyan jovyan  4096 Apr 27 07:40 Blossom\n",
            "-rw-r--r--  1 jovyan jovyan   135 Apr 27 07:39 blossom_academy_.tar.gz\n",
            "-rw-r--r--  1 jovyan jovyan 28365 Apr 27 08:52 CHMOD COMMAND.ipynb\n",
            "-r--r-----  1 jovyan jovyan    23 Apr 27 08:35 data.txt\n",
            "-r--r-----  1 jovyan jovyan    23 Apr 27 08:53 Data.txt\n",
            "-rw-r--r--  1 jovyan jovyan     0 Apr 27 07:54 directory_list\n",
            "drwxr-xr-x  2 jovyan jovyan  4096 Apr 27 08:25 docs\n",
            "-rwx------  1 jovyan jovyan     0 Apr 27 08:37 document.txt\n",
            "drwxr-xr-x 10 jovyan jovyan  4096 Feb 23  2022 examples\n",
            "-r-xr-x---  1 jovyan jovyan    38 Apr 27 08:40 execute.sh\n",
            "drwxr-xr-x 10 jovyan jovyan  4096 Feb 23  2022 exercises\n",
            "-rw-r--r--  1 jovyan jovyan   699 Feb 23  2022 fabfile.py\n",
            "drwxr--r--  2 jovyan jovyan  4096 Apr 27 08:36 files\n",
            "drwxr-xr-x  3 jovyan jovyan  4096 Apr 27 07:41 hmp\n",
            "-rw-r--r--  1 jovyan jovyan  2755 Feb 23  2022 Index.ipynb\n",
            "-rw-r--r--  1 jovyan jovyan 17626 Feb 23  2022 LICENSE\n",
            "-rwxr-xr-x  1 jovyan jovyan   466 Feb 23  2022 monitor.sh\n",
            "-rw-r--r--  1 jovyan jovyan    25 Apr 27 07:41 orange.txt\n",
            "-rw-r--r--  1 jovyan jovyan  2756 Feb 23  2022 pycon-2015-abstract.md\n",
            "-rw-r--r--  1 jovyan jovyan  6824 Feb 23  2022 pycon-submission.md\n",
            "-rw-r--r--  1 jovyan jovyan  1802 Feb 23  2022 README.md\n",
            "-rwxr-xr-x  1 jovyan jovyan    27 Apr 27 08:52 run.sh\n",
            "drw-rw-r--  2 jovyan jovyan  4096 Apr 27 08:41 shared\n",
            "-rw-r--r--  1 jovyan jovyan    12 Apr 27 07:40 sorted_list.txt\n",
            "-rw-r--r--  1 jovyan jovyan    59 Apr 27 07:41 sunflower.txt\n",
            "drwxr-xr-x  2 jovyan jovyan  4096 Apr 27 07:39 TextFiles\n",
            "drwxr-xr-x  2 jovyan jovyan  4096 Feb 23  2022 tools\n",
            "-rw-r--r--  1 jovyan jovyan 18305 Apr 27 07:55 UNIX_NOTEBOOK (1).ipynb\n",
            "-rw-r--r--  1 jovyan jovyan 21992 Apr 27 08:40 Untitled.ipynb\n",
            "drwx---r-x  2 jovyan jovyan  4096 Apr 27 08:32 work\n"
          ]
        }
      ],
      "source": [
        "%%bash\n",
        "ls -l"
      ]
    },
    {
      "cell_type": "markdown",
      "id": "196aac67",
      "metadata": {
        "id": "196aac67"
      },
      "source": [
        "### **Question 2:** How do you remove all permissions for the group and others, allowing only the owner to have full access to a file named \"Document.txt\"?\n",
        "   -"
      ]
    },
    {
      "cell_type": "code",
      "execution_count": null,
      "id": "f4e73634",
      "metadata": {
        "id": "f4e73634"
      },
      "outputs": [],
      "source": [
        "%%bash\n",
        "touch Document.txt"
      ]
    },
    {
      "cell_type": "code",
      "execution_count": null,
      "id": "68b79f96",
      "metadata": {
        "id": "68b79f96"
      },
      "outputs": [],
      "source": [
        "%%bash\n",
        "chmod 700 Document.txt"
      ]
    },
    {
      "cell_type": "code",
      "execution_count": null,
      "id": "9e0ad254",
      "metadata": {
        "id": "9e0ad254",
        "outputId": "4a939a22-db82-46b9-d6bf-d44e33ede402"
      },
      "outputs": [
        {
          "name": "stdout",
          "output_type": "stream",
          "text": [
            "total 220\n",
            "-rw-r--r--  1 jovyan jovyan    87 Apr 27 07:54 app.txt\n",
            "drwxr-xr-x  2 jovyan jovyan  4096 Apr 27 07:40 Autumn\n",
            "drwxr-xr-x  2 jovyan jovyan  4096 Apr 27 07:39 Backup\n",
            "-rw-r--r--  1 jovyan jovyan    46 Apr 27 07:41 banana.txt\n",
            "drwxr-xr-x  1 jovyan jovyan  4096 Apr 27 07:36 binder\n",
            "drwxr-xr-x  2 jovyan jovyan  4096 Apr 27 07:40 Blossom\n",
            "-rw-r--r--  1 jovyan jovyan   135 Apr 27 07:39 blossom_academy_.tar.gz\n",
            "-rw-r--r--  1 jovyan jovyan 29121 Apr 27 08:54 CHMOD COMMAND.ipynb\n",
            "-r--r-----  1 jovyan jovyan    23 Apr 27 08:35 data.txt\n",
            "-r--r-----  1 jovyan jovyan    23 Apr 27 08:53 Data.txt\n",
            "-rw-r--r--  1 jovyan jovyan     0 Apr 27 07:54 directory_list\n",
            "drwxr-xr-x  2 jovyan jovyan  4096 Apr 27 08:25 docs\n",
            "-rwx------  1 jovyan jovyan     0 Apr 27 08:37 document.txt\n",
            "-rwx------  1 jovyan jovyan     0 Apr 27 08:54 Document.txt\n",
            "drwxr-xr-x 10 jovyan jovyan  4096 Feb 23  2022 examples\n",
            "-r-xr-x---  1 jovyan jovyan    38 Apr 27 08:40 execute.sh\n",
            "drwxr-xr-x 10 jovyan jovyan  4096 Feb 23  2022 exercises\n",
            "-rw-r--r--  1 jovyan jovyan   699 Feb 23  2022 fabfile.py\n",
            "drwxr--r--  2 jovyan jovyan  4096 Apr 27 08:36 files\n",
            "drwxr-xr-x  3 jovyan jovyan  4096 Apr 27 07:41 hmp\n",
            "-rw-r--r--  1 jovyan jovyan  2755 Feb 23  2022 Index.ipynb\n",
            "-rw-r--r--  1 jovyan jovyan 17626 Feb 23  2022 LICENSE\n",
            "-rwxr-xr-x  1 jovyan jovyan   466 Feb 23  2022 monitor.sh\n",
            "-rw-r--r--  1 jovyan jovyan    25 Apr 27 07:41 orange.txt\n",
            "-rw-r--r--  1 jovyan jovyan  2756 Feb 23  2022 pycon-2015-abstract.md\n",
            "-rw-r--r--  1 jovyan jovyan  6824 Feb 23  2022 pycon-submission.md\n",
            "-rw-r--r--  1 jovyan jovyan  1802 Feb 23  2022 README.md\n",
            "-rwxr-xr-x  1 jovyan jovyan    27 Apr 27 08:52 run.sh\n",
            "drw-rw-r--  2 jovyan jovyan  4096 Apr 27 08:41 shared\n",
            "-rw-r--r--  1 jovyan jovyan    12 Apr 27 07:40 sorted_list.txt\n",
            "-rw-r--r--  1 jovyan jovyan    59 Apr 27 07:41 sunflower.txt\n",
            "drwxr-xr-x  2 jovyan jovyan  4096 Apr 27 07:39 TextFiles\n",
            "drwxr-xr-x  2 jovyan jovyan  4096 Feb 23  2022 tools\n",
            "-rw-r--r--  1 jovyan jovyan 18305 Apr 27 07:55 UNIX_NOTEBOOK (1).ipynb\n",
            "-rw-r--r--  1 jovyan jovyan 21992 Apr 27 08:40 Untitled.ipynb\n",
            "drwx---r-x  2 jovyan jovyan  4096 Apr 27 08:32 work\n"
          ]
        }
      ],
      "source": [
        "%%bash\n",
        "ls -l"
      ]
    },
    {
      "cell_type": "markdown",
      "id": "c3088a9f",
      "metadata": {
        "id": "c3088a9f"
      },
      "source": [
        "### **Question 3:** How do you give execute permissions to the owner and group, and no permissions to others for a script named \"academy.sh\"?\n",
        "   "
      ]
    },
    {
      "cell_type": "code",
      "execution_count": null,
      "id": "2109e87a",
      "metadata": {
        "id": "2109e87a"
      },
      "outputs": [],
      "source": [
        "%%bash\n",
        "touch academy.sh\n",
        "echo \"#!/bin/bash\" > academy.sh\n",
        "echo \"Thank you Blossom Academy\" >> academy.sh"
      ]
    },
    {
      "cell_type": "code",
      "execution_count": null,
      "id": "a625e012",
      "metadata": {
        "id": "a625e012"
      },
      "outputs": [],
      "source": [
        "%%bash\n",
        "chmod 550 academy.sh"
      ]
    },
    {
      "cell_type": "code",
      "execution_count": null,
      "id": "f320b47c",
      "metadata": {
        "id": "f320b47c",
        "outputId": "4a36a43d-1c5d-45a0-9e38-575a621a3edd"
      },
      "outputs": [
        {
          "name": "stdout",
          "output_type": "stream",
          "text": [
            "total 224\n",
            "-r-xr-x---  1 jovyan jovyan    38 Apr 27 08:56 academy.sh\n",
            "-rw-r--r--  1 jovyan jovyan    87 Apr 27 07:54 app.txt\n",
            "drwxr-xr-x  2 jovyan jovyan  4096 Apr 27 07:40 Autumn\n",
            "drwxr-xr-x  2 jovyan jovyan  4096 Apr 27 07:39 Backup\n",
            "-rw-r--r--  1 jovyan jovyan    46 Apr 27 07:41 banana.txt\n",
            "drwxr-xr-x  1 jovyan jovyan  4096 Apr 27 07:36 binder\n",
            "drwxr-xr-x  2 jovyan jovyan  4096 Apr 27 07:40 Blossom\n",
            "-rw-r--r--  1 jovyan jovyan   135 Apr 27 07:39 blossom_academy_.tar.gz\n",
            "-rw-r--r--  1 jovyan jovyan 29121 Apr 27 08:54 CHMOD COMMAND.ipynb\n",
            "-r--r-----  1 jovyan jovyan    23 Apr 27 08:35 data.txt\n",
            "-r--r-----  1 jovyan jovyan    23 Apr 27 08:53 Data.txt\n",
            "-rw-r--r--  1 jovyan jovyan     0 Apr 27 07:54 directory_list\n",
            "drwxr-xr-x  2 jovyan jovyan  4096 Apr 27 08:25 docs\n",
            "-rwx------  1 jovyan jovyan     0 Apr 27 08:37 document.txt\n",
            "-rwx------  1 jovyan jovyan     0 Apr 27 08:54 Document.txt\n",
            "drwxr-xr-x 10 jovyan jovyan  4096 Feb 23  2022 examples\n",
            "-r-xr-x---  1 jovyan jovyan    38 Apr 27 08:40 execute.sh\n",
            "drwxr-xr-x 10 jovyan jovyan  4096 Feb 23  2022 exercises\n",
            "-rw-r--r--  1 jovyan jovyan   699 Feb 23  2022 fabfile.py\n",
            "drwxr--r--  2 jovyan jovyan  4096 Apr 27 08:36 files\n",
            "drwxr-xr-x  3 jovyan jovyan  4096 Apr 27 07:41 hmp\n",
            "-rw-r--r--  1 jovyan jovyan  2755 Feb 23  2022 Index.ipynb\n",
            "-rw-r--r--  1 jovyan jovyan 17626 Feb 23  2022 LICENSE\n",
            "-rwxr-xr-x  1 jovyan jovyan   466 Feb 23  2022 monitor.sh\n",
            "-rw-r--r--  1 jovyan jovyan    25 Apr 27 07:41 orange.txt\n",
            "-rw-r--r--  1 jovyan jovyan  2756 Feb 23  2022 pycon-2015-abstract.md\n",
            "-rw-r--r--  1 jovyan jovyan  6824 Feb 23  2022 pycon-submission.md\n",
            "-rw-r--r--  1 jovyan jovyan  1802 Feb 23  2022 README.md\n",
            "-rwxr-xr-x  1 jovyan jovyan    27 Apr 27 08:52 run.sh\n",
            "drw-rw-r--  2 jovyan jovyan  4096 Apr 27 08:41 shared\n",
            "-rw-r--r--  1 jovyan jovyan    12 Apr 27 07:40 sorted_list.txt\n",
            "-rw-r--r--  1 jovyan jovyan    59 Apr 27 07:41 sunflower.txt\n",
            "drwxr-xr-x  2 jovyan jovyan  4096 Apr 27 07:39 TextFiles\n",
            "drwxr-xr-x  2 jovyan jovyan  4096 Feb 23  2022 tools\n",
            "-rw-r--r--  1 jovyan jovyan 18305 Apr 27 07:55 UNIX_NOTEBOOK (1).ipynb\n",
            "-rw-r--r--  1 jovyan jovyan 21992 Apr 27 08:40 Untitled.ipynb\n",
            "drwx---r-x  2 jovyan jovyan  4096 Apr 27 08:32 work\n"
          ]
        }
      ],
      "source": [
        "%%bash\n",
        "ls -l"
      ]
    },
    {
      "cell_type": "markdown",
      "id": "2027a7a5",
      "metadata": {
        "id": "2027a7a5"
      },
      "source": [
        " ### **Question 4:** How do you give write permissions to the owner and group, and read-only permissions to others for a directory named \"Shared\"?\n",
        "   "
      ]
    },
    {
      "cell_type": "code",
      "execution_count": null,
      "id": "6ce54427",
      "metadata": {
        "id": "6ce54427"
      },
      "outputs": [],
      "source": [
        "%%bash\n",
        "mkdir Shared"
      ]
    },
    {
      "cell_type": "code",
      "execution_count": null,
      "id": "1d4fff7b",
      "metadata": {
        "id": "1d4fff7b"
      },
      "outputs": [],
      "source": [
        "%%bash\n",
        "chmod 664 Shared"
      ]
    },
    {
      "cell_type": "code",
      "execution_count": null,
      "id": "315b467e",
      "metadata": {
        "id": "315b467e",
        "outputId": "62843953-908c-48ad-8b0b-6c52e6da8fc7"
      },
      "outputs": [
        {
          "name": "stdout",
          "output_type": "stream",
          "text": [
            "total 236\n",
            "-r-xr-x---  1 jovyan jovyan    38 Apr 27 08:56 academy.sh\n",
            "-rw-r--r--  1 jovyan jovyan    87 Apr 27 07:54 app.txt\n",
            "drwxr-xr-x  2 jovyan jovyan  4096 Apr 27 07:40 Autumn\n",
            "drwxr-xr-x  2 jovyan jovyan  4096 Apr 27 07:39 Backup\n",
            "-rw-r--r--  1 jovyan jovyan    46 Apr 27 07:41 banana.txt\n",
            "drwxr-xr-x  1 jovyan jovyan  4096 Apr 27 07:36 binder\n",
            "drwxr-xr-x  2 jovyan jovyan  4096 Apr 27 07:40 Blossom\n",
            "-rw-r--r--  1 jovyan jovyan   135 Apr 27 07:39 blossom_academy_.tar.gz\n",
            "-rw-r--r--  1 jovyan jovyan 37942 Apr 27 08:56 CHMOD COMMAND.ipynb\n",
            "-r--r-----  1 jovyan jovyan    23 Apr 27 08:35 data.txt\n",
            "-r--r-----  1 jovyan jovyan    23 Apr 27 08:53 Data.txt\n",
            "-rw-r--r--  1 jovyan jovyan     0 Apr 27 07:54 directory_list\n",
            "drwxr-xr-x  2 jovyan jovyan  4096 Apr 27 08:25 docs\n",
            "-rwx------  1 jovyan jovyan     0 Apr 27 08:37 document.txt\n",
            "-rwx------  1 jovyan jovyan     0 Apr 27 08:54 Document.txt\n",
            "drwxr-xr-x 10 jovyan jovyan  4096 Feb 23  2022 examples\n",
            "-r-xr-x---  1 jovyan jovyan    38 Apr 27 08:40 execute.sh\n",
            "drwxr-xr-x 10 jovyan jovyan  4096 Feb 23  2022 exercises\n",
            "-rw-r--r--  1 jovyan jovyan   699 Feb 23  2022 fabfile.py\n",
            "drwxr--r--  2 jovyan jovyan  4096 Apr 27 08:36 files\n",
            "drwxr-xr-x  3 jovyan jovyan  4096 Apr 27 07:41 hmp\n",
            "-rw-r--r--  1 jovyan jovyan  2755 Feb 23  2022 Index.ipynb\n",
            "-rw-r--r--  1 jovyan jovyan 17626 Feb 23  2022 LICENSE\n",
            "-rwxr-xr-x  1 jovyan jovyan   466 Feb 23  2022 monitor.sh\n",
            "-rw-r--r--  1 jovyan jovyan    25 Apr 27 07:41 orange.txt\n",
            "-rw-r--r--  1 jovyan jovyan  2756 Feb 23  2022 pycon-2015-abstract.md\n",
            "-rw-r--r--  1 jovyan jovyan  6824 Feb 23  2022 pycon-submission.md\n",
            "-rw-r--r--  1 jovyan jovyan  1802 Feb 23  2022 README.md\n",
            "-rwxr-xr-x  1 jovyan jovyan    27 Apr 27 08:52 run.sh\n",
            "drw-rw-r--  2 jovyan jovyan  4096 Apr 27 08:41 shared\n",
            "drw-rw-r--  2 jovyan jovyan  4096 Apr 27 08:56 Shared\n",
            "-rw-r--r--  1 jovyan jovyan    12 Apr 27 07:40 sorted_list.txt\n",
            "-rw-r--r--  1 jovyan jovyan    59 Apr 27 07:41 sunflower.txt\n",
            "drwxr-xr-x  2 jovyan jovyan  4096 Apr 27 07:39 TextFiles\n",
            "drwxr-xr-x  2 jovyan jovyan  4096 Feb 23  2022 tools\n",
            "-rw-r--r--  1 jovyan jovyan 18305 Apr 27 07:55 UNIX_NOTEBOOK (1).ipynb\n",
            "-rw-r--r--  1 jovyan jovyan 21992 Apr 27 08:40 Untitled.ipynb\n",
            "drwx---r-x  2 jovyan jovyan  4096 Apr 27 08:32 work\n"
          ]
        }
      ],
      "source": [
        "%%bash\n",
        "ls -l"
      ]
    }
  ],
  "metadata": {
    "kernelspec": {
      "display_name": "Python 3 (ipykernel)",
      "language": "python",
      "name": "python3"
    },
    "language_info": {
      "codemirror_mode": {
        "name": "ipython",
        "version": 3
      },
      "file_extension": ".py",
      "mimetype": "text/x-python",
      "name": "python",
      "nbconvert_exporter": "python",
      "pygments_lexer": "ipython3",
      "version": "3.10.9"
    },
    "colab": {
      "provenance": []
    }
  },
  "nbformat": 4,
  "nbformat_minor": 5
}
{
 "cells": [
  {
   "cell_type": "code",
   "execution_count": 2,
   "metadata": {},
   "outputs": [
    {
     "name": "stdout",
     "output_type": "stream",
     "text": [
      "[1, 4, 9, 16, 25, 36, 49, 64, 81, 100]\n",
      "[1, 4, 9, 16, 25, 36, 49, 64, 81, 100]\n"
     ]
    }
   ],
   "source": [
    "#Basic List comprehension\n",
    "numbers = [1,2,3,4,5,6,7,8,9,10]\n",
    "square = []\n",
    "for i in numbers:\n",
    "    num = i ** 2\n",
    "    square.append(num)\n",
    "\n",
    "\n",
    "print(square)\n",
    "\n",
    "#Using a concise way\n",
    "squared = [i**2 for i in numbers]\n",
    "print(squared)\n",
    "\n",
    "num = [2,3,4,5,6]\n",
    "cube = [x**3 for x in num]\n",
    "print(cube)"
   ]
  },
  {
   "cell_type": "code",
   "execution_count": 4,
   "metadata": {},
   "outputs": [
    {
     "name": "stdout",
     "output_type": "stream",
     "text": [
      "[1, 9, 25, 49, 81]\n"
     ]
    }
   ],
   "source": [
    "#List comprehension with conditional statement\n",
    "numbers = [1,2,3,4,5,6,7,8,9,10]\n",
    "squared = [i**2 for i in numbers if i%2 != 0]\n",
    "print(squared)"
   ]
  },
  {
   "cell_type": "code",
   "execution_count": 5,
   "metadata": {},
   "outputs": [
    {
     "name": "stdout",
     "output_type": "stream",
     "text": [
      "[[1, 1, 1], [2, 2, 2], [3, 3, 3]]\n"
     ]
    }
   ],
   "source": [
    "#Nested List comprehension\n",
    "#repeated_list = [[1,2],[3,4],[5,6],[7,8],[9,10]] \n",
    "\n",
    "repeated_list = [[x]*3 for x in range(1,4)]\n",
    "print(repeated_list)\n",
    "\n"
   ]
  },
  {
   "cell_type": "code",
   "execution_count": 16,
   "metadata": {},
   "outputs": [
    {
     "name": "stdout",
     "output_type": "stream",
     "text": [
      "['e', 'o', 'o']\n",
      "['H', 'l', 'l', ' ', 'W', 'r', 'l', 'd']\n"
     ]
    }
   ],
   "source": [
    "#List comprehension with String Manipulation\n",
    "sentence = \"Hello World\"\n",
    "vowels = [char for char in sentence if char.lower() and char in 'aeiou']\n",
    "print(vowels)\n",
    "\n",
    "consonants = [char for char in sentence if char.lower() and char not in 'aeiou']\n",
    "print(consonants)"
   ]
  },
  {
   "cell_type": "code",
   "execution_count": 23,
   "metadata": {},
   "outputs": [
    {
     "name": "stdout",
     "output_type": "stream",
     "text": [
      "[1, 2, 3, 4]\n",
      "['one', 'two', 'three', 'four']\n"
     ]
    }
   ],
   "source": [
    "#List comprehension with tuple unpacking\n",
    "pairs = [(1,'one'), (2,'two'), (3,'three'), (4,'four')]\n",
    "num_flattenend = [num for num, word in pairs]\n",
    "print(flattenend)\n",
    "word_flattened = [word for num, word in pairs]\n",
    "print(word_flattened)\n"
   ]
  },
  {
   "cell_type": "code",
   "execution_count": 35,
   "metadata": {},
   "outputs": [
    {
     "name": "stdout",
     "output_type": "stream",
     "text": [
      "[1, 4, 9, 16, 25, 36, 49, 64, 81, 100]\n",
      "[5, 6, 7, 8, 9, 10, 11, 12, 13, 14]\n",
      "[1, 4, 9, 16, 25, 36, 49, 64, 81, 100]\n"
     ]
    }
   ],
   "source": [
    "#List comprehension with function\n",
    "numbers = [1,2,3,4,5,6,7,8,9,10]\n",
    "def square(x):\n",
    "    return x**2\n",
    "numbers = [1,2,3,4,5,6,7,8,9,10]\n",
    "squared_numbers = [square(i) for i in numbers]\n",
    "print(squared_numbers)\n",
    "\n",
    "def add(x):\n",
    "    return x + 4\n",
    "\n",
    "squared_numbers = [square(i) for i in numbers]\n",
    "add_four = [add(x) for x in numbers]\n",
    "print(add_four)\n",
    "print(squared_numbers)\n"
   ]
  },
  {
   "cell_type": "code",
   "execution_count": 33,
   "metadata": {},
   "outputs": [
    {
     "name": "stdout",
     "output_type": "stream",
     "text": [
      "['even', 'odd', 'even', 'odd', 'even', 'odd', 'even', 'odd', 'even', 'odd']\n",
      "['even', 'even', 'even', 'even', 'even']\n"
     ]
    }
   ],
   "source": [
    "#Using if-else inside List comprehension\n",
    "#a if condition else b for value in iterable\n",
    "numbers = [1,2,3,4,5,6,7,8,9,10]\n",
    "category = ['even' if x % 2 else 'odd' for x in numbers]\n",
    "print(category)\n",
    "\n",
    "category_even = ['even' for x in numbers if x % 2 == 1]\n",
    "print(category_even)"
   ]
  },
  {
   "cell_type": "code",
   "execution_count": 38,
   "metadata": {},
   "outputs": [
    {
     "name": "stdout",
     "output_type": "stream",
     "text": [
      "{1: 1, 2: 4, 3: 9, 4: 16, 5: 25, 6: 36}\n",
      "{1: 'a', 2: 'b', 3: 'c'}\n"
     ]
    }
   ],
   "source": [
    "#Dictionary comprehension\n",
    "#Basic Dictionary comprehension\n",
    "\n",
    "numbers = [1,2,3,4,5,6]\n",
    "squared_dict = {x:x ** 2 for x in numbers}\n",
    "print(squared_dict)\n",
    "\n",
    "#Working with 2 lists\n",
    "key = [1,2,3]\n",
    "values = ['a','b','c']\n",
    "zipped_values = {key:values for key, values in zip(key,values)}\n",
    "print(zipped_values)"
   ]
  },
  {
   "cell_type": "code",
   "execution_count": 40,
   "metadata": {},
   "outputs": [
    {
     "name": "stdout",
     "output_type": "stream",
     "text": [
      "{'b': 2, 'd': 4}\n"
     ]
    }
   ],
   "source": [
    "original_dict = {'a':1,'b':2,'c':3,'d':4}\n",
    "filtered_dict = {key:value for key, value in original_dict.items() if value % 2 == 0}\n",
    "print(filtered_dict)"
   ]
  },
  {
   "cell_type": "code",
   "execution_count": 41,
   "metadata": {},
   "outputs": [
    {
     "name": "stdout",
     "output_type": "stream",
     "text": [
      "{64, 1, 8, 216, 27, 125}\n"
     ]
    }
   ],
   "source": [
    "#Set can be used to extract unique characters from a list\n",
    "# Set is an unordered data structure\n",
    "\n",
    "#Sets comprehension\n",
    "numbers = {1,2,3,4,5,6}\n",
    "cube_set = {x**3 for x in numbers}\n",
    "print(cube_set)"
   ]
  }
 ],
 "metadata": {
  "kernelspec": {
   "display_name": "Python 3",
   "language": "python",
   "name": "python3"
  },
  "language_info": {
   "codemirror_mode": {
    "name": "ipython",
    "version": 3
   },
   "file_extension": ".py",
   "mimetype": "text/x-python",
   "name": "python",
   "nbconvert_exporter": "python",
   "pygments_lexer": "ipython3",
   "version": "3.11.8"
  }
 },
 "nbformat": 4,
 "nbformat_minor": 2
}

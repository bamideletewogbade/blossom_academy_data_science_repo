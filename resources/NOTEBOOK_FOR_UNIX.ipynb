{
  "cells": [
    {
      "metadata": {
        "id": "2092b8c9"
      },
      "id": "2092b8c9",
      "cell_type": "markdown",
      "source": [
        "# UNIX COMMANDS"
      ]
    },
    {
      "metadata": {
        "id": "ede12e7d"
      },
      "id": "ede12e7d",
      "cell_type": "markdown",
      "source": [
        "## Fundamental UNIX commands:\n",
        "\n",
        "\n",
        "### 1. **ls** - List Directory Contents\n",
        "   - Syntax: `ls [options] [file/directory]`\n",
        "   - Use Cases:\n",
        "     - List files in current directory: `ls`\n",
        "     - Detailed list with file sizes and permissions: `ls -l`\n",
        "     - List all files (including hidden): `ls -a`\n",
        "\n",
        "### 2. **cd** - Change Directory\n",
        "   - Syntax: `cd [directory]`\n",
        "   - Use Cases:\n",
        "     - Change to a directory named \"Documents\": `cd Documents`\n",
        "     - Go to the home directory: `cd ~`\n",
        "     - Move up one directory: `cd ..`\n",
        "\n",
        "### 3. **pwd** - Print Working Directory\n",
        "   - Syntax: `pwd`\n",
        "   - Display the current directory: `pwd`\n",
        "\n",
        "### 4. **mkdir** - Make Directory\n",
        "   - Syntax: `mkdir [directory name]`\n",
        "\n",
        "### 5. **rmdir** - Remove Directory\n",
        "   - Syntax: `rmdir [directory name]`\n",
        "\n",
        "### 6. **cp** - Copy Files/Directories\n",
        "   - Syntax: `cp [options] source destination`\n",
        "   - Use Cases:\n",
        "     - Copy a file to another directory: `cp file1.txt /path/to/destination/`\n",
        "     - Recursively copy a directory: `cp -r directory1 /path/to/destination/`\n",
        "\n",
        "### 7. **mv** - Move/Rename Files or Directories\n",
        "   - Syntax: `mv [options] source destination`\n",
        "   - Use Cases:\n",
        "     - Move a file to another directory: `mv file1.txt /path/to/destination/`\n",
        "     - Rename a file: `mv oldname.txt newname.txt`\n",
        "\n",
        "### 8. **rm** - Remove/Delete Files or Directories\n",
        "   - Syntax: `rm [options] file/directory`\n",
        "   - Use Cases:\n",
        "     - Delete a file: `rm file1.txt`\n",
        "     - Delete a directory and its contents recursively: `rm -r directory1`\n",
        "\n",
        "### 9. **cat** - Concatenate and Display File Content\n",
        "   - Syntax: `cat [options] file`\n",
        "   - Use Case: Display contents of a file named \"sample.txt\": `cat sample.txt`\n",
        "\n",
        "### 10. **grep** - Search Text\n",
        "   - Syntax: `grep [options] pattern [files]`\n",
        "   - Use Case: Search for a word \"error\" in a file: `grep \"error\" file.txt`\n",
        "\n",
        "### 11. **chmod** - Change File Permissions\n",
        "   - Syntax: `chmod [options] mode file`\n",
        "   - Use Case: Give execute permission to a file: `chmod +x script.sh`\n",
        "\n",
        "### 12. **chown** - Change File Ownership\n",
        "   - Syntax: `chown [options] owner:group file`\n",
        "   - Use Case: Change the owner of a file to \"user1\": `chown user1:group1 file.txt`\n",
        "\n",
        "### 13. **find** - Search for Files in a Directory Hierarchy\n",
        "   - Syntax: `find [path] [expression]`\n",
        "   - Use Case: Find all .txt files in the current directory: `find . -name \"*.txt\"`\n",
        "\n",
        "### 14. **tar** - Archive Files\n",
        "   - Syntax: `tar [options] [archive-file] [files/directories]`\n",
        "   - Use Cases:\n",
        "     - Create a tar archive: `tar -cvf archive.tar file1 file2`\n",
        "     - Extract a tar archive: `tar -xvf archive.tar`\n",
        "\n",
        "### 15. **wget** - Download Files from the Web\n",
        "   - Syntax: `wget [options] [URL]`\n",
        "   - Use Case: Download a file from a URL: `wget https://example.com/file.zip`\n",
        "\n",
        "### 16. **touch** - Create or Update File Timestamp\n",
        "   - Syntax: `touch [options] filename`\n",
        "   - Use Case: Create an empty file named \"newfile.txt\": touch newfile.txt\n",
        "\n",
        "### Redirection and Piping Symbols:\n",
        "- `<`: Redirects stdin.\n",
        "- `>`: Redirects stdout, overwrites.\n",
        "- `>>`: Appends stdout.\n",
        "- `2>`: Redirects stderr.\n",
        "- `2>>`: Appends stderr.\n",
        "- `&>`: Redirects both stdout and stderr.\n",
        "- `|`: Pipes stdout of one command to stdin of another.\n",
        "\n"
      ]
    },
    {
      "metadata": {
        "id": "34734a79"
      },
      "id": "34734a79",
      "cell_type": "markdown",
      "source": [
        "## Questions"
      ]
    },
    {
      "metadata": {
        "id": "c9e19282"
      },
      "id": "c9e19282",
      "cell_type": "markdown",
      "source": [
        "### 1. List all files and directories\n"
      ]
    },
    {
      "metadata": {
        "trusted": true,
        "id": "11ac96d8",
        "outputId": "a2451557-46ec-4140-a5e2-5da99007d045"
      },
      "id": "11ac96d8",
      "cell_type": "code",
      "source": [
        "%%bash\n",
        "\n",
        "ls"
      ],
      "execution_count": null,
      "outputs": [
        {
          "output_type": "stream",
          "text": "binder\nexamples\nexample.txt\nexercises\nfabfile.py\nIndex.ipynb\nLICENSE\nmonitor.sh\npycon-2015-abstract.md\npycon-submission.md\nREADME.md\nspring\ntools\nUNIX NOTEBOOK.ipynb\n",
          "name": "stdout"
        }
      ]
    },
    {
      "metadata": {
        "id": "fcf180e8"
      },
      "id": "fcf180e8",
      "cell_type": "markdown",
      "source": [
        "### 2. List all files and directories, including permissions, owner, group, size, modification time, and filename."
      ]
    },
    {
      "metadata": {
        "trusted": true,
        "id": "9df21e9d",
        "outputId": "4e7ebf33-1a16-46db-84b4-60ec99eaffe5"
      },
      "id": "9df21e9d",
      "cell_type": "code",
      "source": [
        "%%bash\n",
        "\n",
        "ls -l"
      ],
      "execution_count": null,
      "outputs": [
        {
          "output_type": "stream",
          "text": "total 96\ndrwxr-xr-x  1 jovyan jovyan  4096 Apr 26 07:18 binder\ndrwxr-xr-x 10 jovyan jovyan  4096 Feb 23  2022 examples\n-rw-r--r--  1 jovyan jovyan     0 Apr 26 07:38 example.txt\ndrwxr-xr-x 10 jovyan jovyan  4096 Feb 23  2022 exercises\n-rw-r--r--  1 jovyan jovyan   699 Feb 23  2022 fabfile.py\n-rw-r--r--  1 jovyan jovyan  2755 Feb 23  2022 Index.ipynb\n-rw-r--r--  1 jovyan jovyan 17626 Feb 23  2022 LICENSE\n-rwxr-xr-x  1 jovyan jovyan   466 Feb 23  2022 monitor.sh\n-rw-r--r--  1 jovyan jovyan  2756 Feb 23  2022 pycon-2015-abstract.md\n-rw-r--r--  1 jovyan jovyan  6824 Feb 23  2022 pycon-submission.md\n-rw-r--r--  1 jovyan jovyan  1802 Feb 23  2022 README.md\ndrwxr-xr-x  2 jovyan jovyan  4096 Apr 26 07:20 spring\ndrwxr-xr-x  2 jovyan jovyan  4096 Feb 23  2022 tools\n-rw-r--r--  1 jovyan jovyan 21816 Apr 26 07:38 UNIX NOTEBOOK.ipynb\n",
          "name": "stdout"
        }
      ]
    },
    {
      "metadata": {
        "id": "929813f3"
      },
      "id": "929813f3",
      "cell_type": "markdown",
      "source": [
        "### 3. List all files and directories, including hidden files (those starting with .)"
      ]
    },
    {
      "metadata": {
        "trusted": true,
        "id": "89e26bf0",
        "outputId": "7291d6d1-6671-4a4a-f0b6-4dce068a22f8"
      },
      "id": "89e26bf0",
      "cell_type": "code",
      "source": [
        "%%bash\n",
        "ls -a"
      ],
      "execution_count": null,
      "outputs": [
        {
          "output_type": "stream",
          "text": ".\n..\n.bash_logout\n.bashrc\nbinder\n.conda\nexamples\nexample.txt\nexercises\nfabfile.py\n.git\n.gitignore\nIndex.ipynb\n.ipynb_checkpoints\n.ipython\n.jupyter-server-log.txt\nLICENSE\n.local\nmonitor.sh\n.profile\npycon-2015-abstract.md\npycon-submission.md\nREADME.md\nspring\ntools\nUNIX NOTEBOOK.ipynb\n",
          "name": "stdout"
        }
      ]
    },
    {
      "metadata": {
        "id": "2814d652"
      },
      "id": "2814d652",
      "cell_type": "markdown",
      "source": [
        "### 4. List all files and directories (including hidden files (those starting with .), including permissions, owner, group, size, modification time, and filename."
      ]
    },
    {
      "metadata": {
        "trusted": true,
        "id": "08b355c6",
        "outputId": "d7b39e9f-a613-4ed0-b293-1e25e52a7c98"
      },
      "id": "08b355c6",
      "cell_type": "code",
      "source": [
        "%%bash\n",
        "\n",
        "ls -al"
      ],
      "execution_count": null,
      "outputs": [
        {
          "output_type": "stream",
          "text": "total 208\ndrwxr-xr-x  1 jovyan jovyan  4096 Apr 26 07:38 .\ndrwxr-xr-x  1 root   root    4096 Feb 17  2022 ..\n-rw-r--r--  1 jovyan jovyan   220 Apr  4  2018 .bash_logout\n-rw-r--r--  1 jovyan jovyan  3771 Apr  4  2018 .bashrc\ndrwxr-xr-x  1 jovyan jovyan  4096 Apr 26 07:18 binder\ndrwxrwsr-x  2 jovyan jovyan  4096 Feb 23  2022 .conda\ndrwxr-xr-x 10 jovyan jovyan  4096 Feb 23  2022 examples\n-rw-r--r--  1 jovyan jovyan     0 Apr 26 07:38 example.txt\ndrwxr-xr-x 10 jovyan jovyan  4096 Feb 23  2022 exercises\n-rw-r--r--  1 jovyan jovyan   699 Feb 23  2022 fabfile.py\ndrwxr-xr-x  8 jovyan jovyan  4096 Feb 23  2022 .git\n-rw-r--r--  1 jovyan jovyan   112 Feb 23  2022 .gitignore\n-rw-r--r--  1 jovyan jovyan  2755 Feb 23  2022 Index.ipynb\ndrwxr-xr-x  2 jovyan jovyan  4096 Apr 26 07:17 .ipynb_checkpoints\ndrwxr-xr-x  5 jovyan jovyan  4096 Apr 26 07:16 .ipython\n-rw-r--r--  1 jovyan jovyan 56137 Apr 26 07:39 .jupyter-server-log.txt\n-rw-r--r--  1 jovyan jovyan 17626 Feb 23  2022 LICENSE\ndrwx------  3 jovyan jovyan  4096 Apr 26 07:15 .local\n-rwxr-xr-x  1 jovyan jovyan   466 Feb 23  2022 monitor.sh\n-rw-r--r--  1 jovyan jovyan   807 Apr  4  2018 .profile\n-rw-r--r--  1 jovyan jovyan  2756 Feb 23  2022 pycon-2015-abstract.md\n-rw-r--r--  1 jovyan jovyan  6824 Feb 23  2022 pycon-submission.md\n-rw-r--r--  1 jovyan jovyan  1802 Feb 23  2022 README.md\ndrwxr-xr-x  2 jovyan jovyan  4096 Apr 26 07:20 spring\ndrwxr-xr-x  2 jovyan jovyan  4096 Feb 23  2022 tools\n-rw-r--r--  1 jovyan jovyan 21816 Apr 26 07:38 UNIX NOTEBOOK.ipynb\n",
          "name": "stdout"
        }
      ]
    },
    {
      "metadata": {
        "id": "358badd1"
      },
      "id": "358badd1",
      "cell_type": "markdown",
      "source": [
        "### 5. Create a new directory named Spring"
      ]
    },
    {
      "metadata": {
        "trusted": true,
        "id": "13432235"
      },
      "id": "13432235",
      "cell_type": "code",
      "source": [
        "%%bash\n",
        "mkdir Spring"
      ],
      "execution_count": null,
      "outputs": []
    },
    {
      "metadata": {
        "id": "73ea52bf"
      },
      "id": "73ea52bf",
      "cell_type": "markdown",
      "source": [
        "### 6. Change your current directory to Spring from the current location.\n"
      ]
    },
    {
      "metadata": {
        "trusted": true,
        "id": "44a706d2"
      },
      "id": "44a706d2",
      "cell_type": "code",
      "source": [
        "%%bash\n",
        "cd Spring\n"
      ],
      "execution_count": null,
      "outputs": []
    },
    {
      "metadata": {
        "id": "11502dcb"
      },
      "id": "11502dcb",
      "cell_type": "markdown",
      "source": [
        "### 7. Navigate back to the parent directory."
      ]
    },
    {
      "metadata": {
        "trusted": true,
        "id": "334165be"
      },
      "id": "334165be",
      "cell_type": "code",
      "source": [
        "%%bash\n",
        "cd ..\n"
      ],
      "execution_count": null,
      "outputs": []
    },
    {
      "metadata": {
        "id": "lDuqeBqM46wA"
      },
      "cell_type": "markdown",
      "source": [
        "### Navigate to the home directory"
      ],
      "id": "lDuqeBqM46wA"
    },
    {
      "metadata": {
        "trusted": true,
        "id": "U9xrECft46wA"
      },
      "cell_type": "code",
      "source": [
        "%%bash\n",
        "cd ~\n"
      ],
      "execution_count": null,
      "outputs": [],
      "id": "U9xrECft46wA"
    },
    {
      "metadata": {
        "id": "52c634a7"
      },
      "id": "52c634a7",
      "cell_type": "markdown",
      "source": [
        "### 8. Create a file named example.txt"
      ]
    },
    {
      "metadata": {
        "trusted": true,
        "id": "b00f0cea",
        "outputId": "0a44f9fe-9af0-4cb9-a5cf-809c67c5766c"
      },
      "id": "b00f0cea",
      "cell_type": "code",
      "source": [
        "%%bash\n",
        "touch example.txt\n",
        "ls"
      ],
      "execution_count": null,
      "outputs": [
        {
          "output_type": "stream",
          "text": "binder\nexamples\nexample.txt\nexercises\nfabfile.py\nIndex.ipynb\nLICENSE\nmonitor.sh\npycon-2015-abstract.md\npycon-submission.md\nREADME.md\nspring\nSpring\ntools\nUNIX NOTEBOOK.ipynb\n",
          "name": "stdout"
        }
      ]
    },
    {
      "metadata": {
        "id": "40c9536b"
      },
      "id": "40c9536b",
      "cell_type": "markdown",
      "source": [
        "### 9. Copy a file named example.txt from the current directory to Spring."
      ]
    },
    {
      "metadata": {
        "trusted": true,
        "id": "46d1477f"
      },
      "id": "46d1477f",
      "cell_type": "code",
      "source": [
        "%%bash\n",
        "cp example.txt Spring\n"
      ],
      "execution_count": null,
      "outputs": []
    },
    {
      "metadata": {
        "trusted": true,
        "id": "f256299b",
        "outputId": "3e59a0d1-a608-4b7c-a252-67592e1ea39b"
      },
      "id": "f256299b",
      "cell_type": "code",
      "source": [
        "%%bash\n",
        "cd Spring\n",
        "ls"
      ],
      "execution_count": null,
      "outputs": [
        {
          "output_type": "stream",
          "text": "example.txt\n",
          "name": "stdout"
        }
      ]
    },
    {
      "metadata": {
        "id": "869cc083"
      },
      "id": "869cc083",
      "cell_type": "markdown",
      "source": [
        "### 10. Rename the file example.txt in Spring to academy.txt"
      ]
    },
    {
      "metadata": {
        "trusted": true,
        "id": "b5b93569"
      },
      "id": "b5b93569",
      "cell_type": "code",
      "source": [
        "%%bash\n",
        "cd Spring\n",
        "mv example.txt academy.txt\n"
      ],
      "execution_count": null,
      "outputs": []
    },
    {
      "metadata": {
        "trusted": true,
        "id": "921e97fc",
        "outputId": "224f08b2-d74f-41f7-f8ac-1268ecb4f124"
      },
      "id": "921e97fc",
      "cell_type": "code",
      "source": [
        "%%bash\n",
        "cd Spring\n",
        "ls"
      ],
      "execution_count": null,
      "outputs": [
        {
          "output_type": "stream",
          "text": "academy.txt\n",
          "name": "stdout"
        }
      ]
    },
    {
      "metadata": {
        "id": "1fba60f8"
      },
      "id": "1fba60f8",
      "cell_type": "markdown",
      "source": [
        "### 11. Remove the directory Spring"
      ]
    },
    {
      "metadata": {
        "trusted": true,
        "id": "778cb5e2"
      },
      "id": "778cb5e2",
      "cell_type": "code",
      "source": [
        "rm -r Spring"
      ],
      "execution_count": null,
      "outputs": []
    },
    {
      "metadata": {
        "trusted": true,
        "id": "15ecdbac"
      },
      "id": "15ecdbac",
      "cell_type": "code",
      "source": [
        "%%bash\n",
        "cd .."
      ],
      "execution_count": null,
      "outputs": []
    },
    {
      "metadata": {
        "trusted": true,
        "id": "296b73ee",
        "outputId": "d9ee7856-bb26-4e40-9565-1211f9180685"
      },
      "id": "296b73ee",
      "cell_type": "code",
      "source": [
        "ls"
      ],
      "execution_count": null,
      "outputs": [
        {
          "output_type": "stream",
          "text": " \u001b[0m\u001b[01;34mbinder\u001b[0m/       fabfile.py    pycon-2015-abstract.md   \u001b[01;34mtools\u001b[0m/\r\n \u001b[01;34mexamples\u001b[0m/     Index.ipynb   pycon-submission.md     'UNIX NOTEBOOK.ipynb'\r\n example.txt   LICENSE       README.md\r\n \u001b[01;34mexercises\u001b[0m/    \u001b[01;32mmonitor.sh\u001b[0m*   \u001b[01;34mspring\u001b[0m/\r\n",
          "name": "stdout"
        }
      ]
    },
    {
      "metadata": {
        "id": "60a05f6b"
      },
      "id": "60a05f6b",
      "cell_type": "markdown",
      "source": [
        "### 12. Find all files with the .txt extension"
      ]
    },
    {
      "metadata": {
        "trusted": true,
        "id": "ab2648c1",
        "outputId": "404637e8-c5fe-475c-99e1-5ddbf48ab4b2"
      },
      "id": "ab2648c1",
      "cell_type": "code",
      "source": [
        "%%bash\n",
        "\n",
        "\n",
        "find ~ -type f -name \"*.txt\"\n"
      ],
      "execution_count": null,
      "outputs": [
        {
          "output_type": "stream",
          "text": "/home/jovyan/binder/apt.txt\n/home/jovyan/.jupyter-server-log.txt\n/home/jovyan/example.txt\n/home/jovyan/spring/academy.txt\n/home/jovyan/spring/examples.txt\n/home/jovyan/spring/acade.txt\n/home/jovyan/.conda/environments.txt\n",
          "name": "stdout"
        }
      ]
    },
    {
      "metadata": {
        "id": "25e62b2e"
      },
      "id": "25e62b2e",
      "cell_type": "markdown",
      "source": [
        "### 13. Find all files with the .txt extension in the spring folder and display their contents."
      ]
    },
    {
      "metadata": {
        "trusted": true,
        "id": "R64FQhNP46wD"
      },
      "cell_type": "code",
      "source": [
        "# The reason why this: find spring -type f -name \"*.txt\" -exec cat {} \\ didn't work was because I forgot to add a semi-colon (;)"
      ],
      "execution_count": null,
      "outputs": [],
      "id": "R64FQhNP46wD"
    },
    {
      "metadata": {
        "trusted": true,
        "id": "55f6b084",
        "outputId": "d0986653-64f6-4169-ec4a-f896ea1df2a2"
      },
      "id": "55f6b084",
      "cell_type": "code",
      "source": [
        "%%bash\n",
        "find spring -type f -name \"*.txt\" -exec cat {} \\;"
      ],
      "execution_count": null,
      "outputs": [
        {
          "output_type": "stream",
          "text": "God is great\nGod is wonderful\nGod is faithful\n",
          "name": "stdout"
        }
      ]
    },
    {
      "metadata": {
        "id": "4d2d0f06"
      },
      "id": "4d2d0f06",
      "cell_type": "markdown",
      "source": [
        "### 14. List all directories including hidden directories"
      ]
    },
    {
      "metadata": {
        "trusted": true,
        "id": "8779786e",
        "outputId": "3c01b827-04fa-4d5a-9bac-9de6c9b880fe"
      },
      "id": "8779786e",
      "cell_type": "code",
      "source": [
        "ls -a spring"
      ],
      "execution_count": null,
      "outputs": [
        {
          "output_type": "stream",
          "text": "\u001b[0m\u001b[01;34m.\u001b[0m/  \u001b[01;34m..\u001b[0m/  academy.txt  acade.txt  examples.txt\r\n",
          "name": "stdout"
        }
      ]
    },
    {
      "metadata": {
        "id": "ec05d556"
      },
      "id": "ec05d556",
      "cell_type": "markdown",
      "source": [
        "### 15. Move the file academy.txt in the spring folder to a new directory named Garden\n"
      ]
    },
    {
      "metadata": {
        "trusted": true,
        "id": "287259f0"
      },
      "id": "287259f0",
      "cell_type": "code",
      "source": [
        "%%bash\n",
        "mkdir Garden\n",
        "mv spring/academy.txt Garden/\n"
      ],
      "execution_count": null,
      "outputs": []
    },
    {
      "metadata": {
        "trusted": true,
        "id": "955d7083",
        "outputId": "c89306e8-678c-424f-85cb-985e92a3436e"
      },
      "id": "955d7083",
      "cell_type": "code",
      "source": [
        "%%bash\n",
        "cd Garden\n",
        "ls"
      ],
      "execution_count": null,
      "outputs": [
        {
          "output_type": "stream",
          "text": "academy.txt\n",
          "name": "stdout"
        }
      ]
    },
    {
      "metadata": {
        "id": "3a72578d"
      },
      "id": "3a72578d",
      "cell_type": "markdown",
      "source": [
        "### 16. Delete the file academy.txt from Garden/\n"
      ]
    },
    {
      "metadata": {
        "trusted": true,
        "id": "25ca08bd"
      },
      "id": "25ca08bd",
      "cell_type": "code",
      "source": [
        "rm Garden/academy.txt\n"
      ],
      "execution_count": null,
      "outputs": []
    },
    {
      "metadata": {
        "trusted": true,
        "id": "d8eab66f"
      },
      "id": "d8eab66f",
      "cell_type": "code",
      "source": [
        "%%bash\n",
        "cd Garden\n",
        "ls"
      ],
      "execution_count": null,
      "outputs": []
    },
    {
      "metadata": {
        "id": "d60b8232"
      },
      "id": "d60b8232",
      "cell_type": "markdown",
      "source": [
        "### 17. Move all .txt files from the home directory to a new directory named TextFiles"
      ]
    },
    {
      "metadata": {
        "trusted": true,
        "id": "15ab19ba"
      },
      "id": "15ab19ba",
      "cell_type": "code",
      "source": [
        "%%bash\n",
        "mkdir TextFiles\n",
        "mv ~/*.txt TextFiles/"
      ],
      "execution_count": null,
      "outputs": []
    },
    {
      "metadata": {
        "trusted": true,
        "id": "050858c1",
        "outputId": "845a968a-f625-40c1-8e66-d3aa37a728eb"
      },
      "id": "050858c1",
      "cell_type": "code",
      "source": [
        "%%bash\n",
        "cd TextFiles\n",
        "ls"
      ],
      "execution_count": null,
      "outputs": [
        {
          "output_type": "stream",
          "text": "example.txt\n",
          "name": "stdout"
        }
      ]
    },
    {
      "metadata": {
        "id": "ef94f661"
      },
      "id": "ef94f661",
      "cell_type": "markdown",
      "source": [
        "### 18. List all files in TextFiles sorted by modification time, with the newest files at the bottom."
      ]
    },
    {
      "metadata": {
        "trusted": true,
        "id": "a7837e6b",
        "outputId": "ada50be0-09ec-47b5-cc3b-55339f304947"
      },
      "id": "a7837e6b",
      "cell_type": "code",
      "source": [
        "ls -lt TextFiles/\n"
      ],
      "execution_count": null,
      "outputs": [
        {
          "output_type": "stream",
          "text": "total 0\r\n-rw-r--r-- 1 jovyan jovyan 0 Apr 26 07:40 example.txt\r\n",
          "name": "stdout"
        }
      ]
    },
    {
      "metadata": {
        "id": "9716194b"
      },
      "id": "9716194b",
      "cell_type": "markdown",
      "source": [
        "### 19. Copy the entire TextFiles directory to a new location named Backup\n"
      ]
    },
    {
      "metadata": {
        "trusted": true,
        "id": "9e570962"
      },
      "id": "9e570962",
      "cell_type": "code",
      "source": [
        "%%bash\n",
        "mkdir Backup\n",
        "cp -r TextFiles/ Backup/\n"
      ],
      "execution_count": null,
      "outputs": []
    },
    {
      "metadata": {
        "trusted": true,
        "id": "461af4ee",
        "outputId": "0b4d1f0a-0a07-467c-8ea7-704a77c43279"
      },
      "id": "461af4ee",
      "cell_type": "code",
      "source": [
        "ls"
      ],
      "execution_count": null,
      "outputs": [
        {
          "output_type": "stream",
          "text": " \u001b[0m\u001b[01;34mBackup\u001b[0m/      fabfile.py    \u001b[01;32mmonitor.sh\u001b[0m*              \u001b[01;34mspring\u001b[0m/\r\n \u001b[01;34mbinder\u001b[0m/      \u001b[01;34mGarden\u001b[0m/       pycon-2015-abstract.md   \u001b[01;34mTextFiles\u001b[0m/\r\n \u001b[01;34mexamples\u001b[0m/    Index.ipynb   pycon-submission.md      \u001b[01;34mtools\u001b[0m/\r\n \u001b[01;34mexercises\u001b[0m/   LICENSE       README.md               'UNIX NOTEBOOK.ipynb'\r\n",
          "name": "stdout"
        }
      ]
    },
    {
      "metadata": {
        "id": "e83f3463"
      },
      "id": "e83f3463",
      "cell_type": "markdown",
      "source": [
        "### 20. Create a compressed archive named blossom_academy_.tar.gz containing all files in the TextFiles directory"
      ]
    },
    {
      "metadata": {
        "trusted": true,
        "id": "82529335"
      },
      "id": "82529335",
      "cell_type": "code",
      "source": [
        "%%bash\n",
        "tar -czf blossom_academy_.tar.gz TextFiles/*"
      ],
      "execution_count": null,
      "outputs": []
    },
    {
      "metadata": {
        "trusted": true,
        "id": "d40cf581",
        "outputId": "5480386e-4a5c-4e61-e41c-6764f50adfc4"
      },
      "id": "d40cf581",
      "cell_type": "code",
      "source": [
        "ls"
      ],
      "execution_count": null,
      "outputs": [
        {
          "output_type": "stream",
          "text": " \u001b[0m\u001b[01;34mBackup\u001b[0m/                   \u001b[01;34mGarden\u001b[0m/                  README.md\r\n \u001b[01;34mbinder\u001b[0m/                   Index.ipynb              \u001b[01;34mspring\u001b[0m/\r\n blossom_academy_.tar.gz   LICENSE                  \u001b[01;34mTextFiles\u001b[0m/\r\n \u001b[01;34mexamples\u001b[0m/                 \u001b[01;32mmonitor.sh\u001b[0m*              \u001b[01;34mtools\u001b[0m/\r\n \u001b[01;34mexercises\u001b[0m/                pycon-2015-abstract.md  'UNIX NOTEBOOK.ipynb'\r\n fabfile.py                pycon-submission.md\r\n",
          "name": "stdout"
        }
      ]
    },
    {
      "metadata": {
        "trusted": true,
        "id": "e1d389ac",
        "outputId": "4a78bb6b-a749-4175-f2f6-b38cdf094ffe"
      },
      "id": "e1d389ac",
      "cell_type": "code",
      "source": [
        "%%bash\n",
        "mkdir Academy\n",
        "tar -xvf blossom_academy_.tar.gz -C Academy"
      ],
      "execution_count": null,
      "outputs": [
        {
          "output_type": "stream",
          "text": "TextFiles/example.txt\n",
          "name": "stdout"
        }
      ]
    }
  ],
  "metadata": {
    "kernelspec": {
      "name": "python3",
      "display_name": "Python 3",
      "language": "python"
    },
    "language_info": {
      "name": "python",
      "version": "3.6.15",
      "mimetype": "text/x-python",
      "codemirror_mode": {
        "name": "ipython",
        "version": 3
      },
      "pygments_lexer": "ipython3",
      "nbconvert_exporter": "python",
      "file_extension": ".py"
    },
    "colab": {
      "provenance": []
    }
  },
  "nbformat": 4,
  "nbformat_minor": 5
}